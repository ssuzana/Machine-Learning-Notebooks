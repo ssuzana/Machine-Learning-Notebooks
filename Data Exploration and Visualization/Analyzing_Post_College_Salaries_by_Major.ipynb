{
  "nbformat": 4,
  "nbformat_minor": 0,
  "metadata": {
    "colab": {
      "provenance": []
    },
    "kernelspec": {
      "name": "python3",
      "display_name": "Python 3"
    },
    "language_info": {
      "name": "python"
    }
  },
  "cells": [
    {
      "cell_type": "markdown",
      "source": [
        "# Intro \n",
        "\n",
        "College degrees are very expensive. But, do they pay you back? Choosing Philosophy or International Relations as a major may have worried your parents, but does the data back up their fears?\n",
        "\n",
        "We will extract and use updated information from PayScale's website:\n",
        "https://www.payscale.com/college-salary-report/majors-that-pay-you-back/bachelors \n",
        "\n",
        "We'll be digging into this data and answer these questions:\n",
        "\n",
        "* Which majors have the highest/lowest starting salaries? \n",
        "\n",
        "* Which majors have the highest/lowest mid-career salaries? \n",
        "\n",
        "\n"
      ],
      "metadata": {
        "id": "hie7Jm_b1UN5"
      }
    },
    {
      "cell_type": "code",
      "source": [
        "import requests\n",
        "from bs4 import BeautifulSoup\n",
        "import pandas as pd"
      ],
      "metadata": {
        "id": "4QnS5OAWFxV9"
      },
      "execution_count": null,
      "outputs": []
    },
    {
      "cell_type": "code",
      "source": [
        "# get number of pages\n",
        "endpoint = \"https://www.payscale.com/college-salary-report/majors-that-pay-you-back/bachelors\"\n",
        "response = requests.get(endpoint)\n",
        "soup = BeautifulSoup(response.text, \"html.parser\")\n",
        "inner_btns = soup.find_all(\"div\", {\"class\": \"pagination__btn--inner\"})\n",
        "page_numbers = [inner_btn.getText() for inner_btn in inner_btns if inner_btn.getText().isnumeric()]\n",
        "total_pages = int(max(page_numbers))"
      ],
      "metadata": {
        "id": "PFPcppXLFy5p"
      },
      "execution_count": null,
      "outputs": []
    },
    {
      "cell_type": "code",
      "execution_count": null,
      "metadata": {
        "id": "HvstGHSc1INO"
      },
      "outputs": [],
      "source": [
        "records = []\n",
        "for current_page in range(total_pages):\n",
        "    endpoint = f\"https://www.payscale.com/college-salary-report/majors-that-pay-you-back/bachelors/page/{current_page + 1}\"\n",
        "    response = requests.get(endpoint)\n",
        "    soup = BeautifulSoup(response.text, \"html.parser\")\n",
        " \n",
        "    rows = soup.select(\"table.data-table tbody tr\")\n",
        "    for row in rows:\n",
        "        cells = row.select(\"span.data-table__value\")\n",
        "        record = {\n",
        "            \"Major\": cells[1].getText(),\n",
        "            \"Early Career Pay\": float(cells[3].getText().strip(\"$\").replace(\",\", \"\")),\n",
        "            \"Mid-Career Pay\": float(cells[4].getText().strip(\"$\").replace(\",\", \"\")),\n",
        "        }\n",
        "        records.append(record)\n",
        "\n",
        "df = pd.DataFrame(records)\n",
        "df.to_csv(\"salaries_by_college_major_updated.csv\", index=False)"
      ]
    },
    {
      "cell_type": "markdown",
      "source": [
        "# Preliminary Data Exploration and Data Cleaning"
      ],
      "metadata": {
        "id": "6AVFxfaD5T1e"
      }
    },
    {
      "cell_type": "code",
      "source": [
        "df.shape"
      ],
      "metadata": {
        "colab": {
          "base_uri": "https://localhost:8080/"
        },
        "id": "BmTMA3k-5nnI",
        "outputId": "0124940f-00f9-4df4-eaf0-3f59a7f79753"
      },
      "execution_count": null,
      "outputs": [
        {
          "output_type": "execute_result",
          "data": {
            "text/plain": [
              "(827, 3)"
            ]
          },
          "metadata": {},
          "execution_count": 58
        }
      ]
    },
    {
      "cell_type": "code",
      "source": [
        "from google.colab import data_table\n",
        "data_table.enable_dataframe_formatter()\n",
        "df.head()"
      ],
      "metadata": {
        "colab": {
          "base_uri": "https://localhost:8080/",
          "height": 197
        },
        "id": "mwtgY2u3_5Qc",
        "outputId": "69fde46f-bfe6-4293-e6b2-839dff01a34c"
      },
      "execution_count": null,
      "outputs": [
        {
          "output_type": "execute_result",
          "data": {
            "text/plain": [
              "                                              Major  Early Career Pay  \\\n",
              "0                             Petroleum Engineering           93200.0   \n",
              "1      Operations Research & Industrial Engineering           84800.0   \n",
              "2  Electrical Engineering & Computer Science (EECS)          108500.0   \n",
              "3                                Interaction Design           68300.0   \n",
              "4                                 Public Accounting           59800.0   \n",
              "\n",
              "   Mid-Career Pay  \n",
              "0        187300.0  \n",
              "1        170400.0  \n",
              "2        159300.0  \n",
              "3        155800.0  \n",
              "4        147700.0  "
            ],
            "text/html": [
              "\n",
              "  <div id=\"df-a7ec8600-a776-4282-b5ef-a69c881b0d97\">\n",
              "    <div class=\"colab-df-container\">\n",
              "      <div>\n",
              "<style scoped>\n",
              "    .dataframe tbody tr th:only-of-type {\n",
              "        vertical-align: middle;\n",
              "    }\n",
              "\n",
              "    .dataframe tbody tr th {\n",
              "        vertical-align: top;\n",
              "    }\n",
              "\n",
              "    .dataframe thead th {\n",
              "        text-align: right;\n",
              "    }\n",
              "</style>\n",
              "<table border=\"1\" class=\"dataframe\">\n",
              "  <thead>\n",
              "    <tr style=\"text-align: right;\">\n",
              "      <th></th>\n",
              "      <th>Major</th>\n",
              "      <th>Early Career Pay</th>\n",
              "      <th>Mid-Career Pay</th>\n",
              "    </tr>\n",
              "  </thead>\n",
              "  <tbody>\n",
              "    <tr>\n",
              "      <th>0</th>\n",
              "      <td>Petroleum Engineering</td>\n",
              "      <td>93200.0</td>\n",
              "      <td>187300.0</td>\n",
              "    </tr>\n",
              "    <tr>\n",
              "      <th>1</th>\n",
              "      <td>Operations Research &amp; Industrial Engineering</td>\n",
              "      <td>84800.0</td>\n",
              "      <td>170400.0</td>\n",
              "    </tr>\n",
              "    <tr>\n",
              "      <th>2</th>\n",
              "      <td>Electrical Engineering &amp; Computer Science (EECS)</td>\n",
              "      <td>108500.0</td>\n",
              "      <td>159300.0</td>\n",
              "    </tr>\n",
              "    <tr>\n",
              "      <th>3</th>\n",
              "      <td>Interaction Design</td>\n",
              "      <td>68300.0</td>\n",
              "      <td>155800.0</td>\n",
              "    </tr>\n",
              "    <tr>\n",
              "      <th>4</th>\n",
              "      <td>Public Accounting</td>\n",
              "      <td>59800.0</td>\n",
              "      <td>147700.0</td>\n",
              "    </tr>\n",
              "  </tbody>\n",
              "</table>\n",
              "</div>\n",
              "      <button class=\"colab-df-convert\" onclick=\"convertToInteractive('df-a7ec8600-a776-4282-b5ef-a69c881b0d97')\"\n",
              "              title=\"Convert this dataframe to an interactive table.\"\n",
              "              style=\"display:none;\">\n",
              "        \n",
              "  <svg xmlns=\"http://www.w3.org/2000/svg\" height=\"24px\"viewBox=\"0 0 24 24\"\n",
              "       width=\"24px\">\n",
              "    <path d=\"M0 0h24v24H0V0z\" fill=\"none\"/>\n",
              "    <path d=\"M18.56 5.44l.94 2.06.94-2.06 2.06-.94-2.06-.94-.94-2.06-.94 2.06-2.06.94zm-11 1L8.5 8.5l.94-2.06 2.06-.94-2.06-.94L8.5 2.5l-.94 2.06-2.06.94zm10 10l.94 2.06.94-2.06 2.06-.94-2.06-.94-.94-2.06-.94 2.06-2.06.94z\"/><path d=\"M17.41 7.96l-1.37-1.37c-.4-.4-.92-.59-1.43-.59-.52 0-1.04.2-1.43.59L10.3 9.45l-7.72 7.72c-.78.78-.78 2.05 0 2.83L4 21.41c.39.39.9.59 1.41.59.51 0 1.02-.2 1.41-.59l7.78-7.78 2.81-2.81c.8-.78.8-2.07 0-2.86zM5.41 20L4 18.59l7.72-7.72 1.47 1.35L5.41 20z\"/>\n",
              "  </svg>\n",
              "      </button>\n",
              "      \n",
              "  <style>\n",
              "    .colab-df-container {\n",
              "      display:flex;\n",
              "      flex-wrap:wrap;\n",
              "      gap: 12px;\n",
              "    }\n",
              "\n",
              "    .colab-df-convert {\n",
              "      background-color: #E8F0FE;\n",
              "      border: none;\n",
              "      border-radius: 50%;\n",
              "      cursor: pointer;\n",
              "      display: none;\n",
              "      fill: #1967D2;\n",
              "      height: 32px;\n",
              "      padding: 0 0 0 0;\n",
              "      width: 32px;\n",
              "    }\n",
              "\n",
              "    .colab-df-convert:hover {\n",
              "      background-color: #E2EBFA;\n",
              "      box-shadow: 0px 1px 2px rgba(60, 64, 67, 0.3), 0px 1px 3px 1px rgba(60, 64, 67, 0.15);\n",
              "      fill: #174EA6;\n",
              "    }\n",
              "\n",
              "    [theme=dark] .colab-df-convert {\n",
              "      background-color: #3B4455;\n",
              "      fill: #D2E3FC;\n",
              "    }\n",
              "\n",
              "    [theme=dark] .colab-df-convert:hover {\n",
              "      background-color: #434B5C;\n",
              "      box-shadow: 0px 1px 3px 1px rgba(0, 0, 0, 0.15);\n",
              "      filter: drop-shadow(0px 1px 2px rgba(0, 0, 0, 0.3));\n",
              "      fill: #FFFFFF;\n",
              "    }\n",
              "  </style>\n",
              "\n",
              "      <script>\n",
              "        const buttonEl =\n",
              "          document.querySelector('#df-a7ec8600-a776-4282-b5ef-a69c881b0d97 button.colab-df-convert');\n",
              "        buttonEl.style.display =\n",
              "          google.colab.kernel.accessAllowed ? 'block' : 'none';\n",
              "\n",
              "        async function convertToInteractive(key) {\n",
              "          const element = document.querySelector('#df-a7ec8600-a776-4282-b5ef-a69c881b0d97');\n",
              "          const dataTable =\n",
              "            await google.colab.kernel.invokeFunction('convertToInteractive',\n",
              "                                                     [key], {});\n",
              "          if (!dataTable) return;\n",
              "\n",
              "          const docLinkHtml = 'Like what you see? Visit the ' +\n",
              "            '<a target=\"_blank\" href=https://colab.research.google.com/notebooks/data_table.ipynb>data table notebook</a>'\n",
              "            + ' to learn more about interactive tables.';\n",
              "          element.innerHTML = '';\n",
              "          dataTable['output_type'] = 'display_data';\n",
              "          await google.colab.output.renderOutput(dataTable, element);\n",
              "          const docLink = document.createElement('div');\n",
              "          docLink.innerHTML = docLinkHtml;\n",
              "          element.appendChild(docLink);\n",
              "        }\n",
              "      </script>\n",
              "    </div>\n",
              "  </div>\n",
              "  "
            ],
            "application/vnd.google.colaboratory.module+javascript": "\n      import \"https://ssl.gstatic.com/colaboratory/data_table/99dac6621f6ae8c4/data_table.js\";\n\n      window.createDataTable({\n        data: [[{\n            'v': 0,\n            'f': \"0\",\n        },\n\"Petroleum Engineering\",\n{\n            'v': 93200.0,\n            'f': \"93200.0\",\n        },\n{\n            'v': 187300.0,\n            'f': \"187300.0\",\n        }],\n [{\n            'v': 1,\n            'f': \"1\",\n        },\n\"Operations Research & Industrial Engineering\",\n{\n            'v': 84800.0,\n            'f': \"84800.0\",\n        },\n{\n            'v': 170400.0,\n            'f': \"170400.0\",\n        }],\n [{\n            'v': 2,\n            'f': \"2\",\n        },\n\"Electrical Engineering & Computer Science (EECS)\",\n{\n            'v': 108500.0,\n            'f': \"108500.0\",\n        },\n{\n            'v': 159300.0,\n            'f': \"159300.0\",\n        }],\n [{\n            'v': 3,\n            'f': \"3\",\n        },\n\"Interaction Design\",\n{\n            'v': 68300.0,\n            'f': \"68300.0\",\n        },\n{\n            'v': 155800.0,\n            'f': \"155800.0\",\n        }],\n [{\n            'v': 4,\n            'f': \"4\",\n        },\n\"Public Accounting\",\n{\n            'v': 59800.0,\n            'f': \"59800.0\",\n        },\n{\n            'v': 147700.0,\n            'f': \"147700.0\",\n        }]],\n        columns: [[\"number\", \"index\"], [\"string\", \"Major\"], [\"number\", \"Early Career Pay\"], [\"number\", \"Mid-Career Pay\"]],\n        columnOptions: [{\"width\": \"1px\", \"className\": \"index_column\"}],\n        rowsPerPage: 25,\n        helpUrl: \"https://colab.research.google.com/notebooks/data_table.ipynb\",\n        suppressOutputScrolling: true,\n        minimumWidth: undefined,\n      });\n    "
          },
          "metadata": {},
          "execution_count": 59
        }
      ]
    },
    {
      "cell_type": "code",
      "source": [
        "df.columns"
      ],
      "metadata": {
        "colab": {
          "base_uri": "https://localhost:8080/"
        },
        "id": "N8-cLJgi5sfj",
        "outputId": "6ab96826-6956-4823-b8d0-01f09bcfdba5"
      },
      "execution_count": null,
      "outputs": [
        {
          "output_type": "execute_result",
          "data": {
            "text/plain": [
              "Index(['Major', 'Early Career Pay', 'Mid-Career Pay'], dtype='object')"
            ]
          },
          "metadata": {},
          "execution_count": 60
        }
      ]
    },
    {
      "cell_type": "code",
      "source": [
        "# drop NaN (Not A Number) values (if any)\n",
        "df = df.dropna()"
      ],
      "metadata": {
        "id": "624sxtIm6Uvx"
      },
      "execution_count": null,
      "outputs": []
    },
    {
      "cell_type": "code",
      "source": [
        "df.shape"
      ],
      "metadata": {
        "colab": {
          "base_uri": "https://localhost:8080/"
        },
        "id": "o-YAF9xr6rCO",
        "outputId": "74d8f023-f3c0-418c-8f5d-e22abb8097d4"
      },
      "execution_count": null,
      "outputs": [
        {
          "output_type": "execute_result",
          "data": {
            "text/plain": [
              "(827, 3)"
            ]
          },
          "metadata": {},
          "execution_count": 63
        }
      ]
    },
    {
      "cell_type": "code",
      "source": [
        "df.nlargest(5, \"Early Career Pay\")"
      ],
      "metadata": {
        "colab": {
          "base_uri": "https://localhost:8080/",
          "height": 197
        },
        "id": "sdQK8K1pAs25",
        "outputId": "ae738b3e-22f1-493b-e058-26a137b149fd"
      },
      "execution_count": null,
      "outputs": [
        {
          "output_type": "execute_result",
          "data": {
            "text/plain": [
              "                                               Major  Early Career Pay  \\\n",
              "2   Electrical Engineering & Computer Science (EECS)          108500.0   \n",
              "75                       Physician Assistant Studies           95900.0   \n",
              "0                              Petroleum Engineering           93200.0   \n",
              "1       Operations Research & Industrial Engineering           84800.0   \n",
              "5                                Operations Research           83500.0   \n",
              "\n",
              "    Mid-Career Pay  \n",
              "2         159300.0  \n",
              "75        118500.0  \n",
              "0         187300.0  \n",
              "1         170400.0  \n",
              "5         147400.0  "
            ],
            "text/html": [
              "\n",
              "  <div id=\"df-3f648df3-5e6d-40a2-9467-c18b7a53de2b\">\n",
              "    <div class=\"colab-df-container\">\n",
              "      <div>\n",
              "<style scoped>\n",
              "    .dataframe tbody tr th:only-of-type {\n",
              "        vertical-align: middle;\n",
              "    }\n",
              "\n",
              "    .dataframe tbody tr th {\n",
              "        vertical-align: top;\n",
              "    }\n",
              "\n",
              "    .dataframe thead th {\n",
              "        text-align: right;\n",
              "    }\n",
              "</style>\n",
              "<table border=\"1\" class=\"dataframe\">\n",
              "  <thead>\n",
              "    <tr style=\"text-align: right;\">\n",
              "      <th></th>\n",
              "      <th>Major</th>\n",
              "      <th>Early Career Pay</th>\n",
              "      <th>Mid-Career Pay</th>\n",
              "    </tr>\n",
              "  </thead>\n",
              "  <tbody>\n",
              "    <tr>\n",
              "      <th>2</th>\n",
              "      <td>Electrical Engineering &amp; Computer Science (EECS)</td>\n",
              "      <td>108500.0</td>\n",
              "      <td>159300.0</td>\n",
              "    </tr>\n",
              "    <tr>\n",
              "      <th>75</th>\n",
              "      <td>Physician Assistant Studies</td>\n",
              "      <td>95900.0</td>\n",
              "      <td>118500.0</td>\n",
              "    </tr>\n",
              "    <tr>\n",
              "      <th>0</th>\n",
              "      <td>Petroleum Engineering</td>\n",
              "      <td>93200.0</td>\n",
              "      <td>187300.0</td>\n",
              "    </tr>\n",
              "    <tr>\n",
              "      <th>1</th>\n",
              "      <td>Operations Research &amp; Industrial Engineering</td>\n",
              "      <td>84800.0</td>\n",
              "      <td>170400.0</td>\n",
              "    </tr>\n",
              "    <tr>\n",
              "      <th>5</th>\n",
              "      <td>Operations Research</td>\n",
              "      <td>83500.0</td>\n",
              "      <td>147400.0</td>\n",
              "    </tr>\n",
              "  </tbody>\n",
              "</table>\n",
              "</div>\n",
              "      <button class=\"colab-df-convert\" onclick=\"convertToInteractive('df-3f648df3-5e6d-40a2-9467-c18b7a53de2b')\"\n",
              "              title=\"Convert this dataframe to an interactive table.\"\n",
              "              style=\"display:none;\">\n",
              "        \n",
              "  <svg xmlns=\"http://www.w3.org/2000/svg\" height=\"24px\"viewBox=\"0 0 24 24\"\n",
              "       width=\"24px\">\n",
              "    <path d=\"M0 0h24v24H0V0z\" fill=\"none\"/>\n",
              "    <path d=\"M18.56 5.44l.94 2.06.94-2.06 2.06-.94-2.06-.94-.94-2.06-.94 2.06-2.06.94zm-11 1L8.5 8.5l.94-2.06 2.06-.94-2.06-.94L8.5 2.5l-.94 2.06-2.06.94zm10 10l.94 2.06.94-2.06 2.06-.94-2.06-.94-.94-2.06-.94 2.06-2.06.94z\"/><path d=\"M17.41 7.96l-1.37-1.37c-.4-.4-.92-.59-1.43-.59-.52 0-1.04.2-1.43.59L10.3 9.45l-7.72 7.72c-.78.78-.78 2.05 0 2.83L4 21.41c.39.39.9.59 1.41.59.51 0 1.02-.2 1.41-.59l7.78-7.78 2.81-2.81c.8-.78.8-2.07 0-2.86zM5.41 20L4 18.59l7.72-7.72 1.47 1.35L5.41 20z\"/>\n",
              "  </svg>\n",
              "      </button>\n",
              "      \n",
              "  <style>\n",
              "    .colab-df-container {\n",
              "      display:flex;\n",
              "      flex-wrap:wrap;\n",
              "      gap: 12px;\n",
              "    }\n",
              "\n",
              "    .colab-df-convert {\n",
              "      background-color: #E8F0FE;\n",
              "      border: none;\n",
              "      border-radius: 50%;\n",
              "      cursor: pointer;\n",
              "      display: none;\n",
              "      fill: #1967D2;\n",
              "      height: 32px;\n",
              "      padding: 0 0 0 0;\n",
              "      width: 32px;\n",
              "    }\n",
              "\n",
              "    .colab-df-convert:hover {\n",
              "      background-color: #E2EBFA;\n",
              "      box-shadow: 0px 1px 2px rgba(60, 64, 67, 0.3), 0px 1px 3px 1px rgba(60, 64, 67, 0.15);\n",
              "      fill: #174EA6;\n",
              "    }\n",
              "\n",
              "    [theme=dark] .colab-df-convert {\n",
              "      background-color: #3B4455;\n",
              "      fill: #D2E3FC;\n",
              "    }\n",
              "\n",
              "    [theme=dark] .colab-df-convert:hover {\n",
              "      background-color: #434B5C;\n",
              "      box-shadow: 0px 1px 3px 1px rgba(0, 0, 0, 0.15);\n",
              "      filter: drop-shadow(0px 1px 2px rgba(0, 0, 0, 0.3));\n",
              "      fill: #FFFFFF;\n",
              "    }\n",
              "  </style>\n",
              "\n",
              "      <script>\n",
              "        const buttonEl =\n",
              "          document.querySelector('#df-3f648df3-5e6d-40a2-9467-c18b7a53de2b button.colab-df-convert');\n",
              "        buttonEl.style.display =\n",
              "          google.colab.kernel.accessAllowed ? 'block' : 'none';\n",
              "\n",
              "        async function convertToInteractive(key) {\n",
              "          const element = document.querySelector('#df-3f648df3-5e6d-40a2-9467-c18b7a53de2b');\n",
              "          const dataTable =\n",
              "            await google.colab.kernel.invokeFunction('convertToInteractive',\n",
              "                                                     [key], {});\n",
              "          if (!dataTable) return;\n",
              "\n",
              "          const docLinkHtml = 'Like what you see? Visit the ' +\n",
              "            '<a target=\"_blank\" href=https://colab.research.google.com/notebooks/data_table.ipynb>data table notebook</a>'\n",
              "            + ' to learn more about interactive tables.';\n",
              "          element.innerHTML = '';\n",
              "          dataTable['output_type'] = 'display_data';\n",
              "          await google.colab.output.renderOutput(dataTable, element);\n",
              "          const docLink = document.createElement('div');\n",
              "          docLink.innerHTML = docLinkHtml;\n",
              "          element.appendChild(docLink);\n",
              "        }\n",
              "      </script>\n",
              "    </div>\n",
              "  </div>\n",
              "  "
            ],
            "application/vnd.google.colaboratory.module+javascript": "\n      import \"https://ssl.gstatic.com/colaboratory/data_table/99dac6621f6ae8c4/data_table.js\";\n\n      window.createDataTable({\n        data: [[{\n            'v': 2,\n            'f': \"2\",\n        },\n\"Electrical Engineering & Computer Science (EECS)\",\n{\n            'v': 108500.0,\n            'f': \"108500.0\",\n        },\n{\n            'v': 159300.0,\n            'f': \"159300.0\",\n        }],\n [{\n            'v': 75,\n            'f': \"75\",\n        },\n\"Physician Assistant Studies\",\n{\n            'v': 95900.0,\n            'f': \"95900.0\",\n        },\n{\n            'v': 118500.0,\n            'f': \"118500.0\",\n        }],\n [{\n            'v': 0,\n            'f': \"0\",\n        },\n\"Petroleum Engineering\",\n{\n            'v': 93200.0,\n            'f': \"93200.0\",\n        },\n{\n            'v': 187300.0,\n            'f': \"187300.0\",\n        }],\n [{\n            'v': 1,\n            'f': \"1\",\n        },\n\"Operations Research & Industrial Engineering\",\n{\n            'v': 84800.0,\n            'f': \"84800.0\",\n        },\n{\n            'v': 170400.0,\n            'f': \"170400.0\",\n        }],\n [{\n            'v': 5,\n            'f': \"5\",\n        },\n\"Operations Research\",\n{\n            'v': 83500.0,\n            'f': \"83500.0\",\n        },\n{\n            'v': 147400.0,\n            'f': \"147400.0\",\n        }]],\n        columns: [[\"number\", \"index\"], [\"string\", \"Major\"], [\"number\", \"Early Career Pay\"], [\"number\", \"Mid-Career Pay\"]],\n        columnOptions: [{\"width\": \"1px\", \"className\": \"index_column\"}],\n        rowsPerPage: 25,\n        helpUrl: \"https://colab.research.google.com/notebooks/data_table.ipynb\",\n        suppressOutputScrolling: true,\n        minimumWidth: undefined,\n      });\n    "
          },
          "metadata": {},
          "execution_count": 77
        }
      ]
    },
    {
      "cell_type": "markdown",
      "source": [
        "# Major with Highest Starting Salaries"
      ],
      "metadata": {
        "id": "4pw_XfTe628s"
      }
    },
    {
      "cell_type": "code",
      "source": [
        "idx = df['Early Career Pay'].idxmax()\n",
        "df['Major'][idx]"
      ],
      "metadata": {
        "colab": {
          "base_uri": "https://localhost:8080/",
          "height": 35
        },
        "id": "mqvxpaX262ik",
        "outputId": "8b530fcd-12c2-4b31-e38d-86a68be739cc"
      },
      "execution_count": null,
      "outputs": [
        {
          "output_type": "execute_result",
          "data": {
            "text/plain": [
              "'Electrical Engineering & Computer Science (EECS)'"
            ],
            "application/vnd.google.colaboratory.intrinsic+json": {
              "type": "string"
            }
          },
          "metadata": {},
          "execution_count": 66
        }
      ]
    },
    {
      "cell_type": "code",
      "source": [
        "df['Early Career Pay'][idx]"
      ],
      "metadata": {
        "colab": {
          "base_uri": "https://localhost:8080/"
        },
        "id": "QW8ohlv07Qbb",
        "outputId": "ac086c1f-d680-412c-e790-c7f6b516fc2d"
      },
      "execution_count": null,
      "outputs": [
        {
          "output_type": "execute_result",
          "data": {
            "text/plain": [
              "108500.0"
            ]
          },
          "metadata": {},
          "execution_count": 67
        }
      ]
    },
    {
      "cell_type": "code",
      "source": [
        "df.loc[idx]"
      ],
      "metadata": {
        "colab": {
          "base_uri": "https://localhost:8080/"
        },
        "id": "LjBW1XVL7cvC",
        "outputId": "4ace0ce2-9a6c-473a-84fb-f8b3b8a1fd38"
      },
      "execution_count": null,
      "outputs": [
        {
          "output_type": "execute_result",
          "data": {
            "text/plain": [
              "Major               Electrical Engineering & Computer Science (EECS)\n",
              "Early Career Pay                                            108500.0\n",
              "Mid-Career Pay                                              159300.0\n",
              "Name: 2, dtype: object"
            ]
          },
          "metadata": {},
          "execution_count": 68
        }
      ]
    },
    {
      "cell_type": "markdown",
      "source": [
        "# Major with The Highest Mid-Career Salary\n",
        "\n",
        "**What college major has the highest mid-career salary?**\n",
        "How much do graduates with this major earn? (Mid-career is defined as having 10+ years of experience)."
      ],
      "metadata": {
        "id": "TLNJSnyu76jp"
      }
    },
    {
      "cell_type": "code",
      "source": [
        "idx = df['Mid-Career Pay'].idxmax()\n",
        "df['Major'][idx]"
      ],
      "metadata": {
        "colab": {
          "base_uri": "https://localhost:8080/",
          "height": 35
        },
        "id": "V4UJxP_f79_0",
        "outputId": "34420d63-c7a4-49b0-f59a-7b267c8d1f74"
      },
      "execution_count": null,
      "outputs": [
        {
          "output_type": "execute_result",
          "data": {
            "text/plain": [
              "'Petroleum Engineering'"
            ],
            "application/vnd.google.colaboratory.intrinsic+json": {
              "type": "string"
            }
          },
          "metadata": {},
          "execution_count": 69
        }
      ]
    },
    {
      "cell_type": "code",
      "source": [
        "df['Mid-Career Pay'][idx]"
      ],
      "metadata": {
        "colab": {
          "base_uri": "https://localhost:8080/"
        },
        "id": "HjnvPiEs8TkD",
        "outputId": "82a2c948-aa6a-4fcb-f662-50c11c84bc4d"
      },
      "execution_count": null,
      "outputs": [
        {
          "output_type": "execute_result",
          "data": {
            "text/plain": [
              "187300.0"
            ]
          },
          "metadata": {},
          "execution_count": 70
        }
      ]
    },
    {
      "cell_type": "markdown",
      "source": [
        "# Major with The Lowest Starting Salary\n",
        "\n",
        "**Which college major has the lowest starting salary and how much do graduates earn after university?**"
      ],
      "metadata": {
        "id": "ITVeAolh8gCA"
      }
    },
    {
      "cell_type": "code",
      "source": [
        "idx = df['Early Career Pay'].idxmin()\n",
        "df['Major'][idx]"
      ],
      "metadata": {
        "colab": {
          "base_uri": "https://localhost:8080/",
          "height": 35
        },
        "id": "U2RGwGbS8fwt",
        "outputId": "f1cc4877-14e8-4ada-ad9d-1bdbbe5877f4"
      },
      "execution_count": null,
      "outputs": [
        {
          "output_type": "execute_result",
          "data": {
            "text/plain": [
              "'Voice & Opera'"
            ],
            "application/vnd.google.colaboratory.intrinsic+json": {
              "type": "string"
            }
          },
          "metadata": {},
          "execution_count": 73
        }
      ]
    },
    {
      "cell_type": "code",
      "source": [
        "df['Early Career Pay'][idx]"
      ],
      "metadata": {
        "colab": {
          "base_uri": "https://localhost:8080/"
        },
        "id": "nvUh9R838xOy",
        "outputId": "7eea0986-e5ae-4bc6-be27-56bb48348840"
      },
      "execution_count": null,
      "outputs": [
        {
          "output_type": "execute_result",
          "data": {
            "text/plain": [
              "34500.0"
            ]
          },
          "metadata": {},
          "execution_count": 74
        }
      ]
    },
    {
      "cell_type": "markdown",
      "source": [
        "# Major with Lowest Mid-Career Salary\n",
        "\n",
        "**Which college major has the lowest mid-career salary and how much can people expect to earn with this degree?**"
      ],
      "metadata": {
        "id": "pt7wXAnm85S6"
      }
    },
    {
      "cell_type": "code",
      "source": [
        "idx = df['Mid-Career Pay'].idxmin()\n",
        "df['Major'][idx]"
      ],
      "metadata": {
        "colab": {
          "base_uri": "https://localhost:8080/",
          "height": 35
        },
        "id": "YlqxPX9A85DJ",
        "outputId": "2147a58d-d24c-47c1-f52f-0091e86ce5fd"
      },
      "execution_count": null,
      "outputs": [
        {
          "output_type": "execute_result",
          "data": {
            "text/plain": [
              "'Metalsmithing'"
            ],
            "application/vnd.google.colaboratory.intrinsic+json": {
              "type": "string"
            }
          },
          "metadata": {},
          "execution_count": 75
        }
      ]
    },
    {
      "cell_type": "code",
      "source": [
        "df['Mid-Career Pay'][idx]"
      ],
      "metadata": {
        "colab": {
          "base_uri": "https://localhost:8080/"
        },
        "id": "J0B7GI-h9CwF",
        "outputId": "9b21b30b-bc44-4397-f624-55e02d7b7941"
      },
      "execution_count": null,
      "outputs": [
        {
          "output_type": "execute_result",
          "data": {
            "text/plain": [
              "40300.0"
            ]
          },
          "metadata": {},
          "execution_count": 76
        }
      ]
    }
  ]
}