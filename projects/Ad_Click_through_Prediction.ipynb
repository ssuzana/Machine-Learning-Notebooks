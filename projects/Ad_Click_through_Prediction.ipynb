{
 "cells": [
  {
   "cell_type": "markdown",
   "id": "ba717be4-ef48-4b20-b4c7-6b2bfaf8f465",
   "metadata": {
    "tags": []
   },
   "source": [
    "# Intro\n",
    "\n",
    "The most common measure of effectiveness of online ads is the **click-through rate (CTR)**, which is the ratio of clicks on a specific ad to its total number of views. The higher the CTR rate, the better targeted an ad is, and the more successful an online advertising campaign is."
   ]
  },
  {
   "cell_type": "markdown",
   "id": "020d3f11-f7ae-4153-8c70-867ff3f217a9",
   "metadata": {},
   "source": [
    "# Imports"
   ]
  },
  {
   "cell_type": "code",
   "execution_count": 100,
   "id": "99d90cc5-a443-407d-88ca-ccb3acc86885",
   "metadata": {},
   "outputs": [],
   "source": [
    "import gzip\n",
    "import random\n",
    "import timeit\n",
    "import numpy as np\n",
    "import pandas as pd\n",
    "import xgboost as xgb\n",
    "\n",
    "from sklearn.preprocessing import OneHotEncoder, LabelEncoder\n",
    "from sklearn.tree import DecisionTreeClassifier\n",
    "from sklearn.model_selection import GridSearchCV\n",
    "from sklearn.metrics import roc_auc_score\n",
    "from sklearn.ensemble import RandomForestClassifier\n",
    "from sklearn.linear_model import SGDClassifier\n",
    "\n",
    "from pyspark.sql import SparkSession\n",
    "from pyspark.sql.types import StructField, StringType, StructType, IntegerType\n",
    "from pyspark.ml.feature import StringIndexer, OneHotEncoder, VectorAssembler\n",
    "from pyspark.ml import Pipeline\n",
    "from pyspark.ml.classification import LogisticRegression\n",
    "from pyspark.ml.evaluation import BinaryClassificationEvaluator\n",
    "\n",
    "import warnings\n",
    "warnings.filterwarnings('ignore')"
   ]
  },
  {
   "cell_type": "code",
   "execution_count": 73,
   "id": "b4b7ffe5-59cd-4b34-9d51-e5f92af799cb",
   "metadata": {},
   "outputs": [
    {
     "data": {
      "text/plain": [
       "'3.4.0'"
      ]
     },
     "execution_count": 73,
     "metadata": {},
     "output_type": "execute_result"
    }
   ],
   "source": [
    "spark.version"
   ]
  },
  {
   "cell_type": "markdown",
   "id": "551d4acc-0ba6-4b4e-abd1-940335dcf19b",
   "metadata": {},
   "source": [
    "# Data\n",
    "\n",
    "We will use the dataset from a Kaggle machine learning competition, Click-Through Rate Prediction (https://www.kaggle.com/c/avazu-ctr-prediction). The dataset can be downloaded from https://www.kaggle.com/c/avazu-ctr-prediction/data.\n",
    "\n",
    "Only the `train.gz` file contains labeled samples, so we only need to download this and unzip it (it will take a while). We will first focus on only the first 300,000 samples from the train file unzipped from `train.gz`."
   ]
  },
  {
   "cell_type": "code",
   "execution_count": 3,
   "id": "45ccd641-04a5-4502-91e4-1c21243f71b2",
   "metadata": {},
   "outputs": [],
   "source": [
    "n_rows = 300000\n",
    "with gzip.open('../datasets/avazu-ctr-prediction/train.gz') as f:\n",
    "    df = pd.read_csv(f, nrows=n_rows)"
   ]
  },
  {
   "cell_type": "code",
   "execution_count": 4,
   "id": "c9d6485d-416d-4547-b82b-e89fa2a31ae2",
   "metadata": {},
   "outputs": [
    {
     "data": {
      "text/html": [
       "<div>\n",
       "<style scoped>\n",
       "    .dataframe tbody tr th:only-of-type {\n",
       "        vertical-align: middle;\n",
       "    }\n",
       "\n",
       "    .dataframe tbody tr th {\n",
       "        vertical-align: top;\n",
       "    }\n",
       "\n",
       "    .dataframe thead th {\n",
       "        text-align: right;\n",
       "    }\n",
       "</style>\n",
       "<table border=\"1\" class=\"dataframe\">\n",
       "  <thead>\n",
       "    <tr style=\"text-align: right;\">\n",
       "      <th></th>\n",
       "      <th>id</th>\n",
       "      <th>click</th>\n",
       "      <th>hour</th>\n",
       "      <th>C1</th>\n",
       "      <th>banner_pos</th>\n",
       "      <th>site_id</th>\n",
       "      <th>site_domain</th>\n",
       "      <th>site_category</th>\n",
       "      <th>app_id</th>\n",
       "      <th>app_domain</th>\n",
       "      <th>...</th>\n",
       "      <th>device_type</th>\n",
       "      <th>device_conn_type</th>\n",
       "      <th>C14</th>\n",
       "      <th>C15</th>\n",
       "      <th>C16</th>\n",
       "      <th>C17</th>\n",
       "      <th>C18</th>\n",
       "      <th>C19</th>\n",
       "      <th>C20</th>\n",
       "      <th>C21</th>\n",
       "    </tr>\n",
       "  </thead>\n",
       "  <tbody>\n",
       "    <tr>\n",
       "      <th>0</th>\n",
       "      <td>1.000009e+18</td>\n",
       "      <td>0</td>\n",
       "      <td>14102100</td>\n",
       "      <td>1005</td>\n",
       "      <td>0</td>\n",
       "      <td>1fbe01fe</td>\n",
       "      <td>f3845767</td>\n",
       "      <td>28905ebd</td>\n",
       "      <td>ecad2386</td>\n",
       "      <td>7801e8d9</td>\n",
       "      <td>...</td>\n",
       "      <td>1</td>\n",
       "      <td>2</td>\n",
       "      <td>15706</td>\n",
       "      <td>320</td>\n",
       "      <td>50</td>\n",
       "      <td>1722</td>\n",
       "      <td>0</td>\n",
       "      <td>35</td>\n",
       "      <td>-1</td>\n",
       "      <td>79</td>\n",
       "    </tr>\n",
       "    <tr>\n",
       "      <th>1</th>\n",
       "      <td>1.000017e+19</td>\n",
       "      <td>0</td>\n",
       "      <td>14102100</td>\n",
       "      <td>1005</td>\n",
       "      <td>0</td>\n",
       "      <td>1fbe01fe</td>\n",
       "      <td>f3845767</td>\n",
       "      <td>28905ebd</td>\n",
       "      <td>ecad2386</td>\n",
       "      <td>7801e8d9</td>\n",
       "      <td>...</td>\n",
       "      <td>1</td>\n",
       "      <td>0</td>\n",
       "      <td>15704</td>\n",
       "      <td>320</td>\n",
       "      <td>50</td>\n",
       "      <td>1722</td>\n",
       "      <td>0</td>\n",
       "      <td>35</td>\n",
       "      <td>100084</td>\n",
       "      <td>79</td>\n",
       "    </tr>\n",
       "    <tr>\n",
       "      <th>2</th>\n",
       "      <td>1.000037e+19</td>\n",
       "      <td>0</td>\n",
       "      <td>14102100</td>\n",
       "      <td>1005</td>\n",
       "      <td>0</td>\n",
       "      <td>1fbe01fe</td>\n",
       "      <td>f3845767</td>\n",
       "      <td>28905ebd</td>\n",
       "      <td>ecad2386</td>\n",
       "      <td>7801e8d9</td>\n",
       "      <td>...</td>\n",
       "      <td>1</td>\n",
       "      <td>0</td>\n",
       "      <td>15704</td>\n",
       "      <td>320</td>\n",
       "      <td>50</td>\n",
       "      <td>1722</td>\n",
       "      <td>0</td>\n",
       "      <td>35</td>\n",
       "      <td>100084</td>\n",
       "      <td>79</td>\n",
       "    </tr>\n",
       "    <tr>\n",
       "      <th>3</th>\n",
       "      <td>1.000064e+19</td>\n",
       "      <td>0</td>\n",
       "      <td>14102100</td>\n",
       "      <td>1005</td>\n",
       "      <td>0</td>\n",
       "      <td>1fbe01fe</td>\n",
       "      <td>f3845767</td>\n",
       "      <td>28905ebd</td>\n",
       "      <td>ecad2386</td>\n",
       "      <td>7801e8d9</td>\n",
       "      <td>...</td>\n",
       "      <td>1</td>\n",
       "      <td>0</td>\n",
       "      <td>15706</td>\n",
       "      <td>320</td>\n",
       "      <td>50</td>\n",
       "      <td>1722</td>\n",
       "      <td>0</td>\n",
       "      <td>35</td>\n",
       "      <td>100084</td>\n",
       "      <td>79</td>\n",
       "    </tr>\n",
       "    <tr>\n",
       "      <th>4</th>\n",
       "      <td>1.000068e+19</td>\n",
       "      <td>0</td>\n",
       "      <td>14102100</td>\n",
       "      <td>1005</td>\n",
       "      <td>1</td>\n",
       "      <td>fe8cc448</td>\n",
       "      <td>9166c161</td>\n",
       "      <td>0569f928</td>\n",
       "      <td>ecad2386</td>\n",
       "      <td>7801e8d9</td>\n",
       "      <td>...</td>\n",
       "      <td>1</td>\n",
       "      <td>0</td>\n",
       "      <td>18993</td>\n",
       "      <td>320</td>\n",
       "      <td>50</td>\n",
       "      <td>2161</td>\n",
       "      <td>0</td>\n",
       "      <td>35</td>\n",
       "      <td>-1</td>\n",
       "      <td>157</td>\n",
       "    </tr>\n",
       "  </tbody>\n",
       "</table>\n",
       "<p>5 rows × 24 columns</p>\n",
       "</div>"
      ],
      "text/plain": [
       "             id  click      hour    C1  banner_pos   site_id site_domain  \\\n",
       "0  1.000009e+18      0  14102100  1005           0  1fbe01fe    f3845767   \n",
       "1  1.000017e+19      0  14102100  1005           0  1fbe01fe    f3845767   \n",
       "2  1.000037e+19      0  14102100  1005           0  1fbe01fe    f3845767   \n",
       "3  1.000064e+19      0  14102100  1005           0  1fbe01fe    f3845767   \n",
       "4  1.000068e+19      0  14102100  1005           1  fe8cc448    9166c161   \n",
       "\n",
       "  site_category    app_id app_domain  ... device_type device_conn_type    C14  \\\n",
       "0      28905ebd  ecad2386   7801e8d9  ...           1                2  15706   \n",
       "1      28905ebd  ecad2386   7801e8d9  ...           1                0  15704   \n",
       "2      28905ebd  ecad2386   7801e8d9  ...           1                0  15704   \n",
       "3      28905ebd  ecad2386   7801e8d9  ...           1                0  15706   \n",
       "4      0569f928  ecad2386   7801e8d9  ...           1                0  18993   \n",
       "\n",
       "   C15  C16   C17  C18  C19     C20  C21  \n",
       "0  320   50  1722    0   35      -1   79  \n",
       "1  320   50  1722    0   35  100084   79  \n",
       "2  320   50  1722    0   35  100084   79  \n",
       "3  320   50  1722    0   35  100084   79  \n",
       "4  320   50  2161    0   35      -1  157  \n",
       "\n",
       "[5 rows x 24 columns]"
      ]
     },
     "execution_count": 4,
     "metadata": {},
     "output_type": "execute_result"
    }
   ],
   "source": [
    "df.head(5)"
   ]
  },
  {
   "cell_type": "markdown",
   "id": "4dc340eb-508c-4f64-8497-78e8b15743ba",
   "metadata": {},
   "source": [
    "Note the anonymized and hashed values. They are categorical features, and each possible value of them corresponds to a real and meaningful value, but it is presented this way due to privacy policy. "
   ]
  },
  {
   "cell_type": "code",
   "execution_count": 5,
   "id": "99fbda8c-1ab8-482e-9d06-28efd28edce3",
   "metadata": {},
   "outputs": [],
   "source": [
    "# the target variable is the click column:\n",
    "Y = df['click'].values"
   ]
  },
  {
   "cell_type": "code",
   "execution_count": 6,
   "id": "6a53f838-42c9-4355-802c-5b894ab96a54",
   "metadata": {},
   "outputs": [],
   "source": [
    "# drop irrelevant columns\n",
    "X = df.drop(['click', 'id', 'hour', 'device_id', 'device_ip'], axis=1).values"
   ]
  },
  {
   "cell_type": "markdown",
   "id": "4348c81c-4749-425f-a836-0255785d3003",
   "metadata": {},
   "source": [
    "The samples are in chronological order, as indicated in the `hour` field. Obviously, we cannot use future samples to predict the past ones. Hence, we take the first 90% as training samples and the rest as testing samples:"
   ]
  },
  {
   "cell_type": "code",
   "execution_count": 7,
   "id": "469f8a8e-f2a9-42ff-adaf-e141d904cb51",
   "metadata": {},
   "outputs": [],
   "source": [
    "n_train = int(n_rows * 0.9)\n",
    "X_train, Y_train = X[:n_train], Y[:n_train]\n",
    "X_test, Y_test = X[n_train:], Y[n_train:]"
   ]
  },
  {
   "cell_type": "markdown",
   "id": "fcd243e5-88d6-434c-80b3-73d96b865063",
   "metadata": {},
   "source": [
    "# Predicting CTR with a Decision Tree"
   ]
  },
  {
   "cell_type": "markdown",
   "id": "8e1be334-c4b2-4070-af91-b59b3ee4f21c",
   "metadata": {},
   "source": [
    "Tree-based algorithms in scikit-learn require categorical features to be encoded as numerical values before they can be used as input to the algorithms.\n",
    "\n",
    "There are a few common approaches to encoding categorical features for tree-based algorithms:\n",
    "\n",
    "1. **Label Encoding**: In this approach, each unique category is assigned a numerical label. For example, \"red\" could be encoded as 0, \"blue\" as 1, and \"green\" as 2. Scikit-learn provides the `LabelEncoder` class for this purpose.\n",
    "\n",
    "2. **One-Hot Encoding**: This approach creates binary columns for each category, indicating the presence or absence of that category in the original feature. For example, if the original feature had three categories (\"red\", \"blue\", \"green\"), then three binary columns would be created, with values of 1 or 0 indicating the presence or absence of each category. Scikit-learn provides the `OneHotEncoder` class or the `get_dummies()` function in pandas for one-hot encoding.\n",
    "\n",
    "3. **Ordinal Encoding**: This approach assigns numerical values to categories based on their order or rank. For example, if the categories are \"low,\" \"medium,\" and \"high,\" they could be encoded as 0, 1, and 2, respectively. Scikit-learn does not have a built-in ordinal encoder, but you can use libraries such as the `category_encoders` package to perform ordinal encoding.\n",
    "\n",
    "Once the categorical features are encoded as numerical values, you can use them as input to tree-based algorithms in scikit-learn, such as decision trees, random forests, or gradient boosting models.\n",
    "\n",
    "We will now transform string-based categorical features into one-hot encoded vectors using the OneHotEncoder module from scikit-learn.\n",
    "\n",
    "In the following line of code, the `OneHotEncoder` class is instantiated with the `handle_unknown='ignore'` parameter. This parameter specifies how to handle unknown categories that are encountered during encoding. By setting it to 'ignore', any unknown category found in the test set (categories not seen during training) will be ignored instead of raising an error."
   ]
  },
  {
   "cell_type": "code",
   "execution_count": 8,
   "id": "33335391-945d-48aa-8c43-16f4d7853ec0",
   "metadata": {},
   "outputs": [],
   "source": [
    "enc = OneHotEncoder(handle_unknown='ignore')"
   ]
  },
  {
   "cell_type": "markdown",
   "id": "7b731b14-f300-470a-b4cf-bf57c87690e8",
   "metadata": {},
   "source": [
    "Now we fit the encoder on the training data, transform the training data into its encoded form, and then use the learned encoding to transform the test data."
   ]
  },
  {
   "cell_type": "code",
   "execution_count": 9,
   "id": "8f7122c3-5827-42cd-8d9e-362ae755ed5e",
   "metadata": {},
   "outputs": [],
   "source": [
    "X_train_enc = enc.fit_transform(X_train)\n",
    "X_test_enc = enc.transform(X_test)"
   ]
  },
  {
   "cell_type": "code",
   "execution_count": 10,
   "id": "d837fdb5-17fc-4029-800c-4f54ec427c00",
   "metadata": {},
   "outputs": [
    {
     "data": {
      "text/plain": [
       "<1x8204 sparse matrix of type '<class 'numpy.float64'>'\n",
       "\twith 19 stored elements in Compressed Sparse Row format>"
      ]
     },
     "execution_count": 10,
     "metadata": {},
     "output_type": "execute_result"
    }
   ],
   "source": [
    "X_train_enc[0]"
   ]
  },
  {
   "cell_type": "markdown",
   "id": "12b23b2a-4c30-4197-a8d8-9ead360c9254",
   "metadata": {},
   "source": [
    "We will train a decision tree model using grid search. \n",
    "\n",
    "We set `scoring= 'roc_auc'`, as it is an imbalanced binary case (only 51,211 out of 300,000 training samples are clicks, which is a 17% positive CTR):"
   ]
  },
  {
   "cell_type": "code",
   "execution_count": 11,
   "id": "be2359f8-0f7d-4efd-814b-10d47bf29d58",
   "metadata": {},
   "outputs": [
    {
     "data": {
      "text/plain": [
       "0.17070333333333335"
      ]
     },
     "execution_count": 11,
     "metadata": {},
     "output_type": "execute_result"
    }
   ],
   "source": [
    "len(df[df.click == 1])/n_rows"
   ]
  },
  {
   "cell_type": "code",
   "execution_count": 12,
   "id": "b3d17783-7dd7-4d45-a666-5e730f177847",
   "metadata": {},
   "outputs": [],
   "source": [
    "parameters = {'max_depth': [3,10, None]}\n",
    "decision_tree = DecisionTreeClassifier(criterion='gini',\n",
    "                                       min_samples_split=30)"
   ]
  },
  {
   "cell_type": "code",
   "execution_count": 14,
   "id": "93c56c2a-433f-4233-ad94-dd84057d9624",
   "metadata": {},
   "outputs": [],
   "source": [
    "grid_search = GridSearchCV(decision_tree, \n",
    "                           parameters,\n",
    "                           n_jobs=-1, # use all of the available CPU processors\n",
    "                           cv=3, # three-fold cross validation\n",
    "                           scoring='roc_auc')"
   ]
  },
  {
   "cell_type": "code",
   "execution_count": 15,
   "id": "845bbaed-a058-4ef8-a4cb-4000a66cac3b",
   "metadata": {},
   "outputs": [
    {
     "name": "stdout",
     "output_type": "stream",
     "text": [
      "{'max_depth': 10}\n"
     ]
    }
   ],
   "source": [
    "grid_search.fit(X_train_enc, Y_train)\n",
    "print(grid_search.best_params_)"
   ]
  },
  {
   "cell_type": "code",
   "execution_count": 16,
   "id": "c3580f9e-ddeb-42ab-ace4-70186cb1ef18",
   "metadata": {},
   "outputs": [],
   "source": [
    "decision_tree_best = grid_search.best_estimator_"
   ]
  },
  {
   "cell_type": "code",
   "execution_count": 17,
   "id": "424eb906-182a-4fe5-b481-a4b203543590",
   "metadata": {},
   "outputs": [],
   "source": [
    "pos_prob = decision_tree_best.predict_proba(X_test_enc)[:, 1]"
   ]
  },
  {
   "cell_type": "code",
   "execution_count": 18,
   "id": "b8740e6e-d3ce-4e24-b22d-741e325e4208",
   "metadata": {},
   "outputs": [
    {
     "name": "stdout",
     "output_type": "stream",
     "text": [
      "The ROC AUC on testing set is: 0.719\n"
     ]
    }
   ],
   "source": [
    "print(f'The ROC AUC on testing set is: {roc_auc_score(Y_test, pos_prob):.3f}')"
   ]
  },
  {
   "cell_type": "markdown",
   "id": "fc92ebbb-d553-4853-a6f0-e97332e71eb7",
   "metadata": {},
   "source": [
    "The ROC AUC on testing set of 0.719 does not seem to be very high, but click-through involves many intricate human factors, which is why predicting it is not an easy task. Although we can further optimize the hyperparameters, an AUC of 0.72 is actually pretty good. Randomly selecting 17% of the samples to be clicked on will generate an AUC of 0.496:"
   ]
  },
  {
   "cell_type": "code",
   "execution_count": 19,
   "id": "2c122876-ca33-4b90-88e0-c66159b5ac07",
   "metadata": {},
   "outputs": [
    {
     "name": "stdout",
     "output_type": "stream",
     "text": [
      "The ROC AUC on testing set is: 0.496\n"
     ]
    }
   ],
   "source": [
    "percent = len(df[df.click == 1])/n_rows\n",
    "pos_prob = np.zeros(len(Y_test))\n",
    "\n",
    "random.seed(42) # set the random seed\n",
    "click_index = np.random.choice(len(Y_test), int(len(Y_test) *  percent), \n",
    "                               replace=False)\n",
    "pos_prob[click_index] = 1\n",
    "\n",
    "print(f'The ROC AUC on testing set is: {roc_auc_score(Y_test, pos_prob):.3f}')"
   ]
  },
  {
   "cell_type": "markdown",
   "id": "919499e5-c756-42a0-b598-1deac9b3a9c9",
   "metadata": {},
   "source": [
    "# Predicting CTR with a Random Forest"
   ]
  },
  {
   "cell_type": "code",
   "execution_count": 20,
   "id": "28b95bca-e57f-4823-90ca-d6d9581dac39",
   "metadata": {},
   "outputs": [],
   "source": [
    "random_forest = RandomForestClassifier(n_estimators=100,\n",
    "                                       criterion='gini',\n",
    "                                       min_samples_split=30,\n",
    "                                       n_jobs=-1)"
   ]
  },
  {
   "cell_type": "code",
   "execution_count": 21,
   "id": "012a6d6a-127b-4adb-b435-eefdb25c9244",
   "metadata": {},
   "outputs": [],
   "source": [
    "# fine tune the max_depth hyperparameter\n",
    "grid_search = GridSearchCV(random_forest, \n",
    "                           parameters,\n",
    "                           n_jobs=-1, \n",
    "                           cv=3, \n",
    "                           scoring='roc_auc')"
   ]
  },
  {
   "cell_type": "code",
   "execution_count": 22,
   "id": "44400b84-867a-4aab-abf0-177867af2519",
   "metadata": {},
   "outputs": [
    {
     "name": "stdout",
     "output_type": "stream",
     "text": [
      "{'max_depth': None}\n",
      "0.7356234156699046\n"
     ]
    }
   ],
   "source": [
    "grid_search.fit(X_train_enc, Y_train)\n",
    "print(grid_search.best_params_)\n",
    "print(grid_search.best_score_)"
   ]
  },
  {
   "cell_type": "code",
   "execution_count": 23,
   "id": "a648e4b1-14db-42a3-aa2a-777b08cb4910",
   "metadata": {},
   "outputs": [
    {
     "name": "stdout",
     "output_type": "stream",
     "text": [
      "The ROC AUC on testing set is: 0.759\n"
     ]
    }
   ],
   "source": [
    "random_forest_best = grid_search.best_estimator_\n",
    "pos_prob = random_forest_best.predict_proba(X_test_enc)[:, 1]\n",
    "print(f'The ROC AUC on testing set is: {roc_auc_score(Y_test, pos_prob):.3f}')"
   ]
  },
  {
   "cell_type": "markdown",
   "id": "3c5fdb84-ef45-45b9-8727-c6dc4212fd59",
   "metadata": {},
   "source": [
    "It turns out that the random forest model gives an improvement to the performance."
   ]
  },
  {
   "cell_type": "markdown",
   "id": "33d6238e-32f4-49c0-8240-84739e8b2c2a",
   "metadata": {},
   "source": [
    "# Predicting CTR with Gradient Boosting\n",
    "\n",
    "In gradient boosted trees (GBT) (also called gradient boosting machines), individual trees are trained in succession where a tree aims to correct the errors made by the previous tree.\n",
    "\n",
    "We will use the XGBoost package (https://xgboost.readthedocs.io/en/latest/) to implement GBT. Check [XGBClassifier](https://xgboost.readthedocs.io/en/latest/python/python_api.html#xgboost.XGBClassifier) to see what other hyperparameters we can tweak.\n",
    "\n",
    "We first install the XGBoost Python API via the following command:"
   ]
  },
  {
   "cell_type": "code",
   "execution_count": 22,
   "id": "df6cec9a-736a-4615-b4b2-60978e33d376",
   "metadata": {},
   "outputs": [],
   "source": [
    "# pip install xgboost"
   ]
  },
  {
   "cell_type": "code",
   "execution_count": 24,
   "id": "2adeb59d-b6b0-42ae-af32-dd9a88cca59e",
   "metadata": {},
   "outputs": [],
   "source": [
    "model = xgb.XGBClassifier(learning_rate=0.1,\n",
    "                          max_depth=10,\n",
    "                          n_estimators=1000)"
   ]
  },
  {
   "cell_type": "code",
   "execution_count": 25,
   "id": "0afb46d5-684c-435d-93dc-ac512c0eacd3",
   "metadata": {},
   "outputs": [
    {
     "data": {
      "text/html": [
       "<style>#sk-container-id-1 {color: black;background-color: white;}#sk-container-id-1 pre{padding: 0;}#sk-container-id-1 div.sk-toggleable {background-color: white;}#sk-container-id-1 label.sk-toggleable__label {cursor: pointer;display: block;width: 100%;margin-bottom: 0;padding: 0.3em;box-sizing: border-box;text-align: center;}#sk-container-id-1 label.sk-toggleable__label-arrow:before {content: \"▸\";float: left;margin-right: 0.25em;color: #696969;}#sk-container-id-1 label.sk-toggleable__label-arrow:hover:before {color: black;}#sk-container-id-1 div.sk-estimator:hover label.sk-toggleable__label-arrow:before {color: black;}#sk-container-id-1 div.sk-toggleable__content {max-height: 0;max-width: 0;overflow: hidden;text-align: left;background-color: #f0f8ff;}#sk-container-id-1 div.sk-toggleable__content pre {margin: 0.2em;color: black;border-radius: 0.25em;background-color: #f0f8ff;}#sk-container-id-1 input.sk-toggleable__control:checked~div.sk-toggleable__content {max-height: 200px;max-width: 100%;overflow: auto;}#sk-container-id-1 input.sk-toggleable__control:checked~label.sk-toggleable__label-arrow:before {content: \"▾\";}#sk-container-id-1 div.sk-estimator input.sk-toggleable__control:checked~label.sk-toggleable__label {background-color: #d4ebff;}#sk-container-id-1 div.sk-label input.sk-toggleable__control:checked~label.sk-toggleable__label {background-color: #d4ebff;}#sk-container-id-1 input.sk-hidden--visually {border: 0;clip: rect(1px 1px 1px 1px);clip: rect(1px, 1px, 1px, 1px);height: 1px;margin: -1px;overflow: hidden;padding: 0;position: absolute;width: 1px;}#sk-container-id-1 div.sk-estimator {font-family: monospace;background-color: #f0f8ff;border: 1px dotted black;border-radius: 0.25em;box-sizing: border-box;margin-bottom: 0.5em;}#sk-container-id-1 div.sk-estimator:hover {background-color: #d4ebff;}#sk-container-id-1 div.sk-parallel-item::after {content: \"\";width: 100%;border-bottom: 1px solid gray;flex-grow: 1;}#sk-container-id-1 div.sk-label:hover label.sk-toggleable__label {background-color: #d4ebff;}#sk-container-id-1 div.sk-serial::before {content: \"\";position: absolute;border-left: 1px solid gray;box-sizing: border-box;top: 0;bottom: 0;left: 50%;z-index: 0;}#sk-container-id-1 div.sk-serial {display: flex;flex-direction: column;align-items: center;background-color: white;padding-right: 0.2em;padding-left: 0.2em;position: relative;}#sk-container-id-1 div.sk-item {position: relative;z-index: 1;}#sk-container-id-1 div.sk-parallel {display: flex;align-items: stretch;justify-content: center;background-color: white;position: relative;}#sk-container-id-1 div.sk-item::before, #sk-container-id-1 div.sk-parallel-item::before {content: \"\";position: absolute;border-left: 1px solid gray;box-sizing: border-box;top: 0;bottom: 0;left: 50%;z-index: -1;}#sk-container-id-1 div.sk-parallel-item {display: flex;flex-direction: column;z-index: 1;position: relative;background-color: white;}#sk-container-id-1 div.sk-parallel-item:first-child::after {align-self: flex-end;width: 50%;}#sk-container-id-1 div.sk-parallel-item:last-child::after {align-self: flex-start;width: 50%;}#sk-container-id-1 div.sk-parallel-item:only-child::after {width: 0;}#sk-container-id-1 div.sk-dashed-wrapped {border: 1px dashed gray;margin: 0 0.4em 0.5em 0.4em;box-sizing: border-box;padding-bottom: 0.4em;background-color: white;}#sk-container-id-1 div.sk-label label {font-family: monospace;font-weight: bold;display: inline-block;line-height: 1.2em;}#sk-container-id-1 div.sk-label-container {text-align: center;}#sk-container-id-1 div.sk-container {/* jupyter's `normalize.less` sets `[hidden] { display: none; }` but bootstrap.min.css set `[hidden] { display: none !important; }` so we also need the `!important` here to be able to override the default hidden behavior on the sphinx rendered scikit-learn.org. See: https://github.com/scikit-learn/scikit-learn/issues/21755 */display: inline-block !important;position: relative;}#sk-container-id-1 div.sk-text-repr-fallback {display: none;}</style><div id=\"sk-container-id-1\" class=\"sk-top-container\"><div class=\"sk-text-repr-fallback\"><pre>XGBClassifier(base_score=None, booster=None, callbacks=None,\n",
       "              colsample_bylevel=None, colsample_bynode=None,\n",
       "              colsample_bytree=None, early_stopping_rounds=None,\n",
       "              enable_categorical=False, eval_metric=None, feature_types=None,\n",
       "              gamma=None, gpu_id=None, grow_policy=None, importance_type=None,\n",
       "              interaction_constraints=None, learning_rate=0.1, max_bin=None,\n",
       "              max_cat_threshold=None, max_cat_to_onehot=None,\n",
       "              max_delta_step=None, max_depth=10, max_leaves=None,\n",
       "              min_child_weight=None, missing=nan, monotone_constraints=None,\n",
       "              n_estimators=1000, n_jobs=None, num_parallel_tree=None,\n",
       "              predictor=None, random_state=None, ...)</pre><b>In a Jupyter environment, please rerun this cell to show the HTML representation or trust the notebook. <br />On GitHub, the HTML representation is unable to render, please try loading this page with nbviewer.org.</b></div><div class=\"sk-container\" hidden><div class=\"sk-item\"><div class=\"sk-estimator sk-toggleable\"><input class=\"sk-toggleable__control sk-hidden--visually\" id=\"sk-estimator-id-1\" type=\"checkbox\" checked><label for=\"sk-estimator-id-1\" class=\"sk-toggleable__label sk-toggleable__label-arrow\">XGBClassifier</label><div class=\"sk-toggleable__content\"><pre>XGBClassifier(base_score=None, booster=None, callbacks=None,\n",
       "              colsample_bylevel=None, colsample_bynode=None,\n",
       "              colsample_bytree=None, early_stopping_rounds=None,\n",
       "              enable_categorical=False, eval_metric=None, feature_types=None,\n",
       "              gamma=None, gpu_id=None, grow_policy=None, importance_type=None,\n",
       "              interaction_constraints=None, learning_rate=0.1, max_bin=None,\n",
       "              max_cat_threshold=None, max_cat_to_onehot=None,\n",
       "              max_delta_step=None, max_depth=10, max_leaves=None,\n",
       "              min_child_weight=None, missing=nan, monotone_constraints=None,\n",
       "              n_estimators=1000, n_jobs=None, num_parallel_tree=None,\n",
       "              predictor=None, random_state=None, ...)</pre></div></div></div></div></div>"
      ],
      "text/plain": [
       "XGBClassifier(base_score=None, booster=None, callbacks=None,\n",
       "              colsample_bylevel=None, colsample_bynode=None,\n",
       "              colsample_bytree=None, early_stopping_rounds=None,\n",
       "              enable_categorical=False, eval_metric=None, feature_types=None,\n",
       "              gamma=None, gpu_id=None, grow_policy=None, importance_type=None,\n",
       "              interaction_constraints=None, learning_rate=0.1, max_bin=None,\n",
       "              max_cat_threshold=None, max_cat_to_onehot=None,\n",
       "              max_delta_step=None, max_depth=10, max_leaves=None,\n",
       "              min_child_weight=None, missing=nan, monotone_constraints=None,\n",
       "              n_estimators=1000, n_jobs=None, num_parallel_tree=None,\n",
       "              predictor=None, random_state=None, ...)"
      ]
     },
     "execution_count": 25,
     "metadata": {},
     "output_type": "execute_result"
    }
   ],
   "source": [
    "model.fit(X_train_enc, Y_train)"
   ]
  },
  {
   "cell_type": "code",
   "execution_count": 26,
   "id": "2bc120d4-65bd-4ffe-9dfe-fff112c40aac",
   "metadata": {},
   "outputs": [
    {
     "name": "stdout",
     "output_type": "stream",
     "text": [
      "The ROC AUC on testing set is: 0.771\n"
     ]
    }
   ],
   "source": [
    "pos_prob = model.predict_proba(X_test_enc)[:, 1]\n",
    "print(f'The ROC AUC on testing set is: {roc_auc_score(Y_test, pos_prob):.3f}')"
   ]
  },
  {
   "cell_type": "markdown",
   "id": "8469a6e3-2f3a-409e-bc45-6f20c44d4434",
   "metadata": {},
   "source": [
    "We are able to achieve 0.77 AUC using the XGBoost GBT model."
   ]
  },
  {
   "cell_type": "markdown",
   "id": "c8db25f1-42ec-4a2f-8942-4fd121b10abc",
   "metadata": {
    "tags": []
   },
   "source": [
    "# Predicting CTR with Logistic Regression"
   ]
  },
  {
   "cell_type": "markdown",
   "id": "fe0660f3-02b5-46fa-b3a6-b9cb87b5e837",
   "metadata": {},
   "source": [
    "In gradient descent-based logistic regression models, all training samples are used to update the weights in every single iteration. Hence, if the number of training samples is large, the whole training process will become very time-consuming and computationally expensive.\n",
    "\n",
    "In stochastic gradient descent (SGD), for each weight update, only one training sample is consumed, instead of the complete training set. The model moves a step based on the error calculated by a single training sample. Once all samples are used, one iteration finishes. SGD generally converges much faster than gradient descent where a large number of iterations is usually needed."
   ]
  },
  {
   "cell_type": "code",
   "execution_count": 27,
   "id": "da86a84c-a523-4b74-b45d-c32ef72df6e6",
   "metadata": {},
   "outputs": [],
   "source": [
    "# SGD logistic regression model without regularization\n",
    "sgd_lr = SGDClassifier(loss='log_loss', \n",
    "                       penalty=None,\n",
    "                       fit_intercept=True, \n",
    "                       max_iter=10,\n",
    "                       learning_rate='constant', \n",
    "                       eta0=0.01)"
   ]
  },
  {
   "cell_type": "code",
   "execution_count": 28,
   "id": "ad1eeec5-30f6-4cd9-b425-ae7f1b45a788",
   "metadata": {},
   "outputs": [
    {
     "data": {
      "text/html": [
       "<style>#sk-container-id-2 {color: black;background-color: white;}#sk-container-id-2 pre{padding: 0;}#sk-container-id-2 div.sk-toggleable {background-color: white;}#sk-container-id-2 label.sk-toggleable__label {cursor: pointer;display: block;width: 100%;margin-bottom: 0;padding: 0.3em;box-sizing: border-box;text-align: center;}#sk-container-id-2 label.sk-toggleable__label-arrow:before {content: \"▸\";float: left;margin-right: 0.25em;color: #696969;}#sk-container-id-2 label.sk-toggleable__label-arrow:hover:before {color: black;}#sk-container-id-2 div.sk-estimator:hover label.sk-toggleable__label-arrow:before {color: black;}#sk-container-id-2 div.sk-toggleable__content {max-height: 0;max-width: 0;overflow: hidden;text-align: left;background-color: #f0f8ff;}#sk-container-id-2 div.sk-toggleable__content pre {margin: 0.2em;color: black;border-radius: 0.25em;background-color: #f0f8ff;}#sk-container-id-2 input.sk-toggleable__control:checked~div.sk-toggleable__content {max-height: 200px;max-width: 100%;overflow: auto;}#sk-container-id-2 input.sk-toggleable__control:checked~label.sk-toggleable__label-arrow:before {content: \"▾\";}#sk-container-id-2 div.sk-estimator input.sk-toggleable__control:checked~label.sk-toggleable__label {background-color: #d4ebff;}#sk-container-id-2 div.sk-label input.sk-toggleable__control:checked~label.sk-toggleable__label {background-color: #d4ebff;}#sk-container-id-2 input.sk-hidden--visually {border: 0;clip: rect(1px 1px 1px 1px);clip: rect(1px, 1px, 1px, 1px);height: 1px;margin: -1px;overflow: hidden;padding: 0;position: absolute;width: 1px;}#sk-container-id-2 div.sk-estimator {font-family: monospace;background-color: #f0f8ff;border: 1px dotted black;border-radius: 0.25em;box-sizing: border-box;margin-bottom: 0.5em;}#sk-container-id-2 div.sk-estimator:hover {background-color: #d4ebff;}#sk-container-id-2 div.sk-parallel-item::after {content: \"\";width: 100%;border-bottom: 1px solid gray;flex-grow: 1;}#sk-container-id-2 div.sk-label:hover label.sk-toggleable__label {background-color: #d4ebff;}#sk-container-id-2 div.sk-serial::before {content: \"\";position: absolute;border-left: 1px solid gray;box-sizing: border-box;top: 0;bottom: 0;left: 50%;z-index: 0;}#sk-container-id-2 div.sk-serial {display: flex;flex-direction: column;align-items: center;background-color: white;padding-right: 0.2em;padding-left: 0.2em;position: relative;}#sk-container-id-2 div.sk-item {position: relative;z-index: 1;}#sk-container-id-2 div.sk-parallel {display: flex;align-items: stretch;justify-content: center;background-color: white;position: relative;}#sk-container-id-2 div.sk-item::before, #sk-container-id-2 div.sk-parallel-item::before {content: \"\";position: absolute;border-left: 1px solid gray;box-sizing: border-box;top: 0;bottom: 0;left: 50%;z-index: -1;}#sk-container-id-2 div.sk-parallel-item {display: flex;flex-direction: column;z-index: 1;position: relative;background-color: white;}#sk-container-id-2 div.sk-parallel-item:first-child::after {align-self: flex-end;width: 50%;}#sk-container-id-2 div.sk-parallel-item:last-child::after {align-self: flex-start;width: 50%;}#sk-container-id-2 div.sk-parallel-item:only-child::after {width: 0;}#sk-container-id-2 div.sk-dashed-wrapped {border: 1px dashed gray;margin: 0 0.4em 0.5em 0.4em;box-sizing: border-box;padding-bottom: 0.4em;background-color: white;}#sk-container-id-2 div.sk-label label {font-family: monospace;font-weight: bold;display: inline-block;line-height: 1.2em;}#sk-container-id-2 div.sk-label-container {text-align: center;}#sk-container-id-2 div.sk-container {/* jupyter's `normalize.less` sets `[hidden] { display: none; }` but bootstrap.min.css set `[hidden] { display: none !important; }` so we also need the `!important` here to be able to override the default hidden behavior on the sphinx rendered scikit-learn.org. See: https://github.com/scikit-learn/scikit-learn/issues/21755 */display: inline-block !important;position: relative;}#sk-container-id-2 div.sk-text-repr-fallback {display: none;}</style><div id=\"sk-container-id-2\" class=\"sk-top-container\"><div class=\"sk-text-repr-fallback\"><pre>SGDClassifier(eta0=0.01, learning_rate=&#x27;constant&#x27;, loss=&#x27;log_loss&#x27;, max_iter=10,\n",
       "              penalty=None)</pre><b>In a Jupyter environment, please rerun this cell to show the HTML representation or trust the notebook. <br />On GitHub, the HTML representation is unable to render, please try loading this page with nbviewer.org.</b></div><div class=\"sk-container\" hidden><div class=\"sk-item\"><div class=\"sk-estimator sk-toggleable\"><input class=\"sk-toggleable__control sk-hidden--visually\" id=\"sk-estimator-id-2\" type=\"checkbox\" checked><label for=\"sk-estimator-id-2\" class=\"sk-toggleable__label sk-toggleable__label-arrow\">SGDClassifier</label><div class=\"sk-toggleable__content\"><pre>SGDClassifier(eta0=0.01, learning_rate=&#x27;constant&#x27;, loss=&#x27;log_loss&#x27;, max_iter=10,\n",
       "              penalty=None)</pre></div></div></div></div></div>"
      ],
      "text/plain": [
       "SGDClassifier(eta0=0.01, learning_rate='constant', loss='log_loss', max_iter=10,\n",
       "              penalty=None)"
      ]
     },
     "execution_count": 28,
     "metadata": {},
     "output_type": "execute_result"
    }
   ],
   "source": [
    "sgd_lr.fit(X_train_enc.toarray(), Y_train)"
   ]
  },
  {
   "cell_type": "code",
   "execution_count": 29,
   "id": "1ce4f09d-ed56-44e8-be8d-aa730a2e3f88",
   "metadata": {},
   "outputs": [
    {
     "name": "stdout",
     "output_type": "stream",
     "text": [
      "Training samples: 270000, AUC on testing set: 0.767\n"
     ]
    }
   ],
   "source": [
    "pred = sgd_lr.predict_proba(X_test_enc.toarray())[:, 1]\n",
    "print(f'Training samples: {n_train}, AUC on testing set: {roc_auc_score(Y_test, pred):.3f}')"
   ]
  },
  {
   "cell_type": "code",
   "execution_count": 30,
   "id": "1a3a7447-fc76-40c6-8961-8cbd2eb58470",
   "metadata": {},
   "outputs": [
    {
     "data": {
      "text/html": [
       "<style>#sk-container-id-3 {color: black;background-color: white;}#sk-container-id-3 pre{padding: 0;}#sk-container-id-3 div.sk-toggleable {background-color: white;}#sk-container-id-3 label.sk-toggleable__label {cursor: pointer;display: block;width: 100%;margin-bottom: 0;padding: 0.3em;box-sizing: border-box;text-align: center;}#sk-container-id-3 label.sk-toggleable__label-arrow:before {content: \"▸\";float: left;margin-right: 0.25em;color: #696969;}#sk-container-id-3 label.sk-toggleable__label-arrow:hover:before {color: black;}#sk-container-id-3 div.sk-estimator:hover label.sk-toggleable__label-arrow:before {color: black;}#sk-container-id-3 div.sk-toggleable__content {max-height: 0;max-width: 0;overflow: hidden;text-align: left;background-color: #f0f8ff;}#sk-container-id-3 div.sk-toggleable__content pre {margin: 0.2em;color: black;border-radius: 0.25em;background-color: #f0f8ff;}#sk-container-id-3 input.sk-toggleable__control:checked~div.sk-toggleable__content {max-height: 200px;max-width: 100%;overflow: auto;}#sk-container-id-3 input.sk-toggleable__control:checked~label.sk-toggleable__label-arrow:before {content: \"▾\";}#sk-container-id-3 div.sk-estimator input.sk-toggleable__control:checked~label.sk-toggleable__label {background-color: #d4ebff;}#sk-container-id-3 div.sk-label input.sk-toggleable__control:checked~label.sk-toggleable__label {background-color: #d4ebff;}#sk-container-id-3 input.sk-hidden--visually {border: 0;clip: rect(1px 1px 1px 1px);clip: rect(1px, 1px, 1px, 1px);height: 1px;margin: -1px;overflow: hidden;padding: 0;position: absolute;width: 1px;}#sk-container-id-3 div.sk-estimator {font-family: monospace;background-color: #f0f8ff;border: 1px dotted black;border-radius: 0.25em;box-sizing: border-box;margin-bottom: 0.5em;}#sk-container-id-3 div.sk-estimator:hover {background-color: #d4ebff;}#sk-container-id-3 div.sk-parallel-item::after {content: \"\";width: 100%;border-bottom: 1px solid gray;flex-grow: 1;}#sk-container-id-3 div.sk-label:hover label.sk-toggleable__label {background-color: #d4ebff;}#sk-container-id-3 div.sk-serial::before {content: \"\";position: absolute;border-left: 1px solid gray;box-sizing: border-box;top: 0;bottom: 0;left: 50%;z-index: 0;}#sk-container-id-3 div.sk-serial {display: flex;flex-direction: column;align-items: center;background-color: white;padding-right: 0.2em;padding-left: 0.2em;position: relative;}#sk-container-id-3 div.sk-item {position: relative;z-index: 1;}#sk-container-id-3 div.sk-parallel {display: flex;align-items: stretch;justify-content: center;background-color: white;position: relative;}#sk-container-id-3 div.sk-item::before, #sk-container-id-3 div.sk-parallel-item::before {content: \"\";position: absolute;border-left: 1px solid gray;box-sizing: border-box;top: 0;bottom: 0;left: 50%;z-index: -1;}#sk-container-id-3 div.sk-parallel-item {display: flex;flex-direction: column;z-index: 1;position: relative;background-color: white;}#sk-container-id-3 div.sk-parallel-item:first-child::after {align-self: flex-end;width: 50%;}#sk-container-id-3 div.sk-parallel-item:last-child::after {align-self: flex-start;width: 50%;}#sk-container-id-3 div.sk-parallel-item:only-child::after {width: 0;}#sk-container-id-3 div.sk-dashed-wrapped {border: 1px dashed gray;margin: 0 0.4em 0.5em 0.4em;box-sizing: border-box;padding-bottom: 0.4em;background-color: white;}#sk-container-id-3 div.sk-label label {font-family: monospace;font-weight: bold;display: inline-block;line-height: 1.2em;}#sk-container-id-3 div.sk-label-container {text-align: center;}#sk-container-id-3 div.sk-container {/* jupyter's `normalize.less` sets `[hidden] { display: none; }` but bootstrap.min.css set `[hidden] { display: none !important; }` so we also need the `!important` here to be able to override the default hidden behavior on the sphinx rendered scikit-learn.org. See: https://github.com/scikit-learn/scikit-learn/issues/21755 */display: inline-block !important;position: relative;}#sk-container-id-3 div.sk-text-repr-fallback {display: none;}</style><div id=\"sk-container-id-3\" class=\"sk-top-container\"><div class=\"sk-text-repr-fallback\"><pre>SGDClassifier(eta0=0.01, learning_rate=&#x27;constant&#x27;, loss=&#x27;log_loss&#x27;, max_iter=10,\n",
       "              penalty=&#x27;l1&#x27;)</pre><b>In a Jupyter environment, please rerun this cell to show the HTML representation or trust the notebook. <br />On GitHub, the HTML representation is unable to render, please try loading this page with nbviewer.org.</b></div><div class=\"sk-container\" hidden><div class=\"sk-item\"><div class=\"sk-estimator sk-toggleable\"><input class=\"sk-toggleable__control sk-hidden--visually\" id=\"sk-estimator-id-3\" type=\"checkbox\" checked><label for=\"sk-estimator-id-3\" class=\"sk-toggleable__label sk-toggleable__label-arrow\">SGDClassifier</label><div class=\"sk-toggleable__content\"><pre>SGDClassifier(eta0=0.01, learning_rate=&#x27;constant&#x27;, loss=&#x27;log_loss&#x27;, max_iter=10,\n",
       "              penalty=&#x27;l1&#x27;)</pre></div></div></div></div></div>"
      ],
      "text/plain": [
       "SGDClassifier(eta0=0.01, learning_rate='constant', loss='log_loss', max_iter=10,\n",
       "              penalty='l1')"
      ]
     },
     "execution_count": 30,
     "metadata": {},
     "output_type": "execute_result"
    }
   ],
   "source": [
    "# SGD logistic regression model with L1 regularization\n",
    "sgd_lr_l1 = SGDClassifier(loss='log_loss', \n",
    "                          penalty='l1', \n",
    "                          alpha=0.0001, \n",
    "                          fit_intercept=True, \n",
    "                          max_iter=10, \n",
    "                          learning_rate='constant', \n",
    "                          eta0=0.01)\n",
    "sgd_lr_l1.fit(X_train_enc.toarray(), Y_train)"
   ]
  },
  {
   "cell_type": "code",
   "execution_count": 31,
   "id": "35a5c8fa-5027-4e5c-b83d-9636766a151e",
   "metadata": {},
   "outputs": [
    {
     "name": "stdout",
     "output_type": "stream",
     "text": [
      "Training samples: 270000, AUC on testing set: 0.750\n"
     ]
    }
   ],
   "source": [
    "pred = sgd_lr_l1.predict_proba(X_test_enc.toarray())[:, 1]\n",
    "print(f'Training samples: {n_train}, AUC on testing set: {roc_auc_score(Y_test, pred):.3f}')"
   ]
  },
  {
   "cell_type": "markdown",
   "id": "4136d014-3e00-4a3e-8024-4db059d42034",
   "metadata": {},
   "source": [
    "# Scale up SGD with online learning\n",
    "\n",
    " We can scale up SGD further with online learning techniques. In online learning, new data for training is available in sequential order or in real time, as opposed to all at once in an offline learning environment. A relatively small chunk of data is loaded and preprocessed for training at a time, which releases the memory used to hold the entire large dataset. Besides better computational feasibility,\n",
    "online learning is also used because of its adaptability to cases where new data is generated in real time and is needed for modernizing the model. \n",
    "\n",
    "Online learning allows the model to continue training with new arriving data. However, in offline learning, we have to retrain the whole model with the new arriving data along with the old data. Click-through prediction models need to include the most recent data reflecting users' latest behaviors and tastes.\n",
    "\n",
    "The `SGDClassifier` module in scikit-learn implements online learning with\n",
    "the `partial_fit` method. We will train the model with 1,000,000 samples, where we feed in 100,000 samples at one time to simulate an online learning environment. And we will test the trained model on another 100,000 samples."
   ]
  },
  {
   "cell_type": "code",
   "execution_count": 33,
   "id": "8faa914e-eee6-4db1-ac9f-0d587e90835f",
   "metadata": {},
   "outputs": [],
   "source": [
    "n_rows = 1100000\n",
    "with gzip.open('../datasets/avazu-ctr-prediction/train.gz') as f:\n",
    "    df = pd.read_csv(f, nrows=n_rows)"
   ]
  },
  {
   "cell_type": "code",
   "execution_count": 34,
   "id": "e5818a40-c1b5-4f96-b035-5452e1ed60d0",
   "metadata": {},
   "outputs": [],
   "source": [
    "X = df.drop(['click', 'id', 'hour', 'device_id', 'device_ip'], axis=1).values\n",
    "Y = df['click'].values"
   ]
  },
  {
   "cell_type": "code",
   "execution_count": 35,
   "id": "691946bb-956a-4a11-a290-412635dd97be",
   "metadata": {},
   "outputs": [],
   "source": [
    "n_train = 1000000\n",
    "X_train, Y_train = X[:n_train], Y[:n_train]\n",
    "X_test, Y_test = X[n_train:], Y[n_train:]"
   ]
  },
  {
   "cell_type": "code",
   "execution_count": 36,
   "id": "f943bad1-0a15-4d46-b36b-5a520cac0f1e",
   "metadata": {},
   "outputs": [
    {
     "data": {
      "text/html": [
       "<style>#sk-container-id-4 {color: black;background-color: white;}#sk-container-id-4 pre{padding: 0;}#sk-container-id-4 div.sk-toggleable {background-color: white;}#sk-container-id-4 label.sk-toggleable__label {cursor: pointer;display: block;width: 100%;margin-bottom: 0;padding: 0.3em;box-sizing: border-box;text-align: center;}#sk-container-id-4 label.sk-toggleable__label-arrow:before {content: \"▸\";float: left;margin-right: 0.25em;color: #696969;}#sk-container-id-4 label.sk-toggleable__label-arrow:hover:before {color: black;}#sk-container-id-4 div.sk-estimator:hover label.sk-toggleable__label-arrow:before {color: black;}#sk-container-id-4 div.sk-toggleable__content {max-height: 0;max-width: 0;overflow: hidden;text-align: left;background-color: #f0f8ff;}#sk-container-id-4 div.sk-toggleable__content pre {margin: 0.2em;color: black;border-radius: 0.25em;background-color: #f0f8ff;}#sk-container-id-4 input.sk-toggleable__control:checked~div.sk-toggleable__content {max-height: 200px;max-width: 100%;overflow: auto;}#sk-container-id-4 input.sk-toggleable__control:checked~label.sk-toggleable__label-arrow:before {content: \"▾\";}#sk-container-id-4 div.sk-estimator input.sk-toggleable__control:checked~label.sk-toggleable__label {background-color: #d4ebff;}#sk-container-id-4 div.sk-label input.sk-toggleable__control:checked~label.sk-toggleable__label {background-color: #d4ebff;}#sk-container-id-4 input.sk-hidden--visually {border: 0;clip: rect(1px 1px 1px 1px);clip: rect(1px, 1px, 1px, 1px);height: 1px;margin: -1px;overflow: hidden;padding: 0;position: absolute;width: 1px;}#sk-container-id-4 div.sk-estimator {font-family: monospace;background-color: #f0f8ff;border: 1px dotted black;border-radius: 0.25em;box-sizing: border-box;margin-bottom: 0.5em;}#sk-container-id-4 div.sk-estimator:hover {background-color: #d4ebff;}#sk-container-id-4 div.sk-parallel-item::after {content: \"\";width: 100%;border-bottom: 1px solid gray;flex-grow: 1;}#sk-container-id-4 div.sk-label:hover label.sk-toggleable__label {background-color: #d4ebff;}#sk-container-id-4 div.sk-serial::before {content: \"\";position: absolute;border-left: 1px solid gray;box-sizing: border-box;top: 0;bottom: 0;left: 50%;z-index: 0;}#sk-container-id-4 div.sk-serial {display: flex;flex-direction: column;align-items: center;background-color: white;padding-right: 0.2em;padding-left: 0.2em;position: relative;}#sk-container-id-4 div.sk-item {position: relative;z-index: 1;}#sk-container-id-4 div.sk-parallel {display: flex;align-items: stretch;justify-content: center;background-color: white;position: relative;}#sk-container-id-4 div.sk-item::before, #sk-container-id-4 div.sk-parallel-item::before {content: \"\";position: absolute;border-left: 1px solid gray;box-sizing: border-box;top: 0;bottom: 0;left: 50%;z-index: -1;}#sk-container-id-4 div.sk-parallel-item {display: flex;flex-direction: column;z-index: 1;position: relative;background-color: white;}#sk-container-id-4 div.sk-parallel-item:first-child::after {align-self: flex-end;width: 50%;}#sk-container-id-4 div.sk-parallel-item:last-child::after {align-self: flex-start;width: 50%;}#sk-container-id-4 div.sk-parallel-item:only-child::after {width: 0;}#sk-container-id-4 div.sk-dashed-wrapped {border: 1px dashed gray;margin: 0 0.4em 0.5em 0.4em;box-sizing: border-box;padding-bottom: 0.4em;background-color: white;}#sk-container-id-4 div.sk-label label {font-family: monospace;font-weight: bold;display: inline-block;line-height: 1.2em;}#sk-container-id-4 div.sk-label-container {text-align: center;}#sk-container-id-4 div.sk-container {/* jupyter's `normalize.less` sets `[hidden] { display: none; }` but bootstrap.min.css set `[hidden] { display: none !important; }` so we also need the `!important` here to be able to override the default hidden behavior on the sphinx rendered scikit-learn.org. See: https://github.com/scikit-learn/scikit-learn/issues/21755 */display: inline-block !important;position: relative;}#sk-container-id-4 div.sk-text-repr-fallback {display: none;}</style><div id=\"sk-container-id-4\" class=\"sk-top-container\"><div class=\"sk-text-repr-fallback\"><pre>OneHotEncoder(handle_unknown=&#x27;ignore&#x27;)</pre><b>In a Jupyter environment, please rerun this cell to show the HTML representation or trust the notebook. <br />On GitHub, the HTML representation is unable to render, please try loading this page with nbviewer.org.</b></div><div class=\"sk-container\" hidden><div class=\"sk-item\"><div class=\"sk-estimator sk-toggleable\"><input class=\"sk-toggleable__control sk-hidden--visually\" id=\"sk-estimator-id-4\" type=\"checkbox\" checked><label for=\"sk-estimator-id-4\" class=\"sk-toggleable__label sk-toggleable__label-arrow\">OneHotEncoder</label><div class=\"sk-toggleable__content\"><pre>OneHotEncoder(handle_unknown=&#x27;ignore&#x27;)</pre></div></div></div></div></div>"
      ],
      "text/plain": [
       "OneHotEncoder(handle_unknown='ignore')"
      ]
     },
     "execution_count": 36,
     "metadata": {},
     "output_type": "execute_result"
    }
   ],
   "source": [
    "enc = OneHotEncoder(handle_unknown='ignore')\n",
    "enc.fit(X_train)"
   ]
  },
  {
   "cell_type": "code",
   "execution_count": 37,
   "id": "69a9543a-319c-42ca-aacb-cf0069f683b1",
   "metadata": {},
   "outputs": [
    {
     "data": {
      "text/plain": [
       "(1000000, 19)"
      ]
     },
     "execution_count": 37,
     "metadata": {},
     "output_type": "execute_result"
    }
   ],
   "source": [
    "X_train.shape"
   ]
  },
  {
   "cell_type": "code",
   "execution_count": 38,
   "id": "02760936-186b-4268-b8b1-d0980dedffa3",
   "metadata": {},
   "outputs": [],
   "source": [
    "sgd_lr_online = SGDClassifier(loss='log_loss', \n",
    "                              penalty=None, \n",
    "                              fit_intercept=True, \n",
    "                              max_iter=1, \n",
    "                              learning_rate='constant',\n",
    "                              eta0=0.01)"
   ]
  },
  {
   "cell_type": "code",
   "execution_count": 39,
   "id": "3a80e496-736a-4b4e-a010-096cbabf5507",
   "metadata": {},
   "outputs": [
    {
     "name": "stdout",
     "output_type": "stream",
     "text": [
      "--- 128.24422533300003.3fs seconds ---\n"
     ]
    }
   ],
   "source": [
    "start_time = timeit.default_timer()\n",
    "\n",
    "batch_size = 100000\n",
    "num_samples = len(X_train)\n",
    "\n",
    "for i in range(0, num_samples, batch_size):\n",
    "    x_train = X_train[i:i+batch_size]\n",
    "    y_train = Y_train[i:i+batch_size]\n",
    "    x_train_enc = enc.transform(x_train)\n",
    "    sgd_lr_online.partial_fit(x_train_enc.toarray(), y_train, classes=[0, 1])\n",
    "\n",
    "print(f\"--- {(timeit.default_timer() - start_time)}.3fs seconds ---\")"
   ]
  },
  {
   "cell_type": "markdown",
   "id": "8a13697e-0c88-4f4a-a9cb-e99486ec2059",
   "metadata": {},
   "source": [
    "With online learning, training based on a total of 1 million samples only takes 128 seconds.\n"
   ]
  },
  {
   "cell_type": "code",
   "execution_count": 40,
   "id": "802a9412-b063-4279-9000-18e8e5986dc1",
   "metadata": {},
   "outputs": [],
   "source": [
    "x_test_enc = enc.transform(X_test)"
   ]
  },
  {
   "cell_type": "code",
   "execution_count": 41,
   "id": "6edd0a2f-67c8-48ce-a8bc-b1cd22f6bbad",
   "metadata": {},
   "outputs": [
    {
     "name": "stdout",
     "output_type": "stream",
     "text": [
      "Training samples: 1000000, AUC on testing set: 0.758\n"
     ]
    }
   ],
   "source": [
    "pred = sgd_lr_online.predict_proba(x_test_enc.toarray())[:, 1]\n",
    "print(f'Training samples: {n_train}, AUC on testing set: {roc_auc_score(Y_test, pred):.3f}')"
   ]
  },
  {
   "cell_type": "markdown",
   "id": "8f362f24-658f-4d48-b34f-f87ba5ecdd55",
   "metadata": {
    "tags": []
   },
   "source": [
    "# Scale up with PySpark\n",
    "\n",
    "Now we will see how we can efficiently train the model on the entire dataset of 40 million samples. We will utilize tools such as Spark and the PySpark module to scale up our solution.\n",
    "\n",
    "Before configuring PySpark, you need to have [Apache Spark](https://spark.apache.org/downloads.html) installed. "
   ]
  },
  {
   "cell_type": "code",
   "execution_count": 73,
   "id": "a28a23f6-fd36-45f4-b767-7932fcddc1d5",
   "metadata": {},
   "outputs": [],
   "source": [
    "#pip install pyspark"
   ]
  },
  {
   "cell_type": "code",
   "execution_count": 42,
   "id": "3bba2433-ba0e-4a56-a0e9-8eb07c4c04fc",
   "metadata": {},
   "outputs": [
    {
     "name": "stderr",
     "output_type": "stream",
     "text": [
      "Setting default log level to \"WARN\".\n",
      "To adjust logging level use sc.setLogLevel(newLevel). For SparkR, use setLogLevel(newLevel).\n",
      "23/06/26 15:48:22 WARN NativeCodeLoader: Unable to load native-hadoop library for your platform... using builtin-java classes where applicable\n"
     ]
    }
   ],
   "source": [
    "spark = SparkSession \\\n",
    "    .builder \\\n",
    "    .appName(\"CTR\") \\\n",
    "    .getOrCreate()"
   ]
  },
  {
   "cell_type": "markdown",
   "id": "50a4316b-855f-44a2-8067-fb4532e21950",
   "metadata": {},
   "source": [
    "With a Spark session, `spark`, a DataFrame object can be created by reading a file. In the following example, we will create a DataFrame object, `df`, from a CSV file. First, we define the schema:"
   ]
  },
  {
   "cell_type": "code",
   "execution_count": 43,
   "id": "7bd84f3f-58ca-4b75-8478-03419aa2b86f",
   "metadata": {},
   "outputs": [],
   "source": [
    "schema = StructType([\n",
    "    StructField(\"id\", StringType(), True),\n",
    "    StructField(\"click\", IntegerType(), True),\n",
    "    StructField(\"hour\", IntegerType(), True),\n",
    "    StructField(\"C1\", StringType(), True),\n",
    "    StructField(\"banner_pos\", StringType(), True),\n",
    "    StructField(\"site_id\", StringType(), True),\n",
    "    StructField(\"site_domain\", StringType(), True),\n",
    "    StructField(\"site_category\", StringType(), True),\n",
    "    StructField(\"app_id\", StringType(), True),\n",
    "    StructField(\"app_domain\", StringType(), True),\n",
    "    StructField(\"app_category\", StringType(), True),\n",
    "    StructField(\"device_id\", StringType(), True),\n",
    "    StructField(\"device_ip\", StringType(), True),\n",
    "    StructField(\"device_model\", StringType(), True),\n",
    "    StructField(\"device_type\", StringType(), True),\n",
    "    StructField(\"device_conn_type\", StringType(), True),\n",
    "    StructField(\"C14\", StringType(), True),\n",
    "    StructField(\"C15\", StringType(), True),\n",
    "    StructField(\"C16\", StringType(), True),\n",
    "    StructField(\"C17\", StringType(), True),\n",
    "    StructField(\"C18\", StringType(), True),\n",
    "    StructField(\"C19\", StringType(), True),\n",
    "    StructField(\"C20\", StringType(), True),\n",
    "    StructField(\"C21\", StringType(), True),\n",
    "])"
   ]
  },
  {
   "cell_type": "code",
   "execution_count": 44,
   "id": "f99f1d5c-b1f6-4805-80f2-4ccbf32fcdcb",
   "metadata": {},
   "outputs": [],
   "source": [
    "df = spark.read.csv('../datasets/avazu-ctr-prediction/train.gz', header=True, schema=schema)"
   ]
  },
  {
   "cell_type": "code",
   "execution_count": 45,
   "id": "8ce542f5-b69b-427e-9012-e9354440f8f8",
   "metadata": {},
   "outputs": [
    {
     "name": "stderr",
     "output_type": "stream",
     "text": [
      "                                                                                \r"
     ]
    },
    {
     "name": "stdout",
     "output_type": "stream",
     "text": [
      "+--------------------+-----+--------+----+----------+--------+-----------+-------------+--------+----------+------------+---------+---------+------------+-----------+----------------+-----+---+---+----+---+---+------+---+\n",
      "|                  id|click|    hour|  C1|banner_pos| site_id|site_domain|site_category|  app_id|app_domain|app_category|device_id|device_ip|device_model|device_type|device_conn_type|  C14|C15|C16| C17|C18|C19|   C20|C21|\n",
      "+--------------------+-----+--------+----+----------+--------+-----------+-------------+--------+----------+------------+---------+---------+------------+-----------+----------------+-----+---+---+----+---+---+------+---+\n",
      "| 1000009418151094273|    0|14102100|1005|         0|1fbe01fe|   f3845767|     28905ebd|ecad2386|  7801e8d9|    07d7df22| a99f214a| ddd2926e|    44956a24|          1|               2|15706|320| 50|1722|  0| 35|    -1| 79|\n",
      "|10000169349117863715|    0|14102100|1005|         0|1fbe01fe|   f3845767|     28905ebd|ecad2386|  7801e8d9|    07d7df22| a99f214a| 96809ac8|    711ee120|          1|               0|15704|320| 50|1722|  0| 35|100084| 79|\n",
      "|10000371904215119486|    0|14102100|1005|         0|1fbe01fe|   f3845767|     28905ebd|ecad2386|  7801e8d9|    07d7df22| a99f214a| b3cf8def|    8a4875bd|          1|               0|15704|320| 50|1722|  0| 35|100084| 79|\n",
      "|10000640724480838376|    0|14102100|1005|         0|1fbe01fe|   f3845767|     28905ebd|ecad2386|  7801e8d9|    07d7df22| a99f214a| e8275b8f|    6332421a|          1|               0|15706|320| 50|1722|  0| 35|100084| 79|\n",
      "|10000679056417042096|    0|14102100|1005|         1|fe8cc448|   9166c161|     0569f928|ecad2386|  7801e8d9|    07d7df22| a99f214a| 9644d0bf|    779d90c2|          1|               0|18993|320| 50|2161|  0| 35|    -1|157|\n",
      "+--------------------+-----+--------+----+----------+--------+-----------+-------------+--------+----------+------------+---------+---------+------------+-----------+----------------+-----+---+---+----+---+---+------+---+\n",
      "only showing top 5 rows\n",
      "\n"
     ]
    }
   ],
   "source": [
    "df.show(5)"
   ]
  },
  {
   "cell_type": "code",
   "execution_count": 46,
   "id": "cb903c43-a9bf-4d35-b24d-5c89574d1ab1",
   "metadata": {},
   "outputs": [
    {
     "name": "stderr",
     "output_type": "stream",
     "text": [
      "                                                                                \r"
     ]
    },
    {
     "data": {
      "text/plain": [
       "40428967"
      ]
     },
     "execution_count": 46,
     "metadata": {},
     "output_type": "execute_result"
    }
   ],
   "source": [
    "df.count()"
   ]
  },
  {
   "cell_type": "code",
   "execution_count": 47,
   "id": "0fdecfb8-dc32-44dc-94ee-7229ed46b016",
   "metadata": {},
   "outputs": [
    {
     "name": "stdout",
     "output_type": "stream",
     "text": [
      "root\n",
      " |-- id: string (nullable = true)\n",
      " |-- click: integer (nullable = true)\n",
      " |-- hour: integer (nullable = true)\n",
      " |-- C1: string (nullable = true)\n",
      " |-- banner_pos: string (nullable = true)\n",
      " |-- site_id: string (nullable = true)\n",
      " |-- site_domain: string (nullable = true)\n",
      " |-- site_category: string (nullable = true)\n",
      " |-- app_id: string (nullable = true)\n",
      " |-- app_domain: string (nullable = true)\n",
      " |-- app_category: string (nullable = true)\n",
      " |-- device_id: string (nullable = true)\n",
      " |-- device_ip: string (nullable = true)\n",
      " |-- device_model: string (nullable = true)\n",
      " |-- device_type: string (nullable = true)\n",
      " |-- device_conn_type: string (nullable = true)\n",
      " |-- C14: string (nullable = true)\n",
      " |-- C15: string (nullable = true)\n",
      " |-- C16: string (nullable = true)\n",
      " |-- C17: string (nullable = true)\n",
      " |-- C18: string (nullable = true)\n",
      " |-- C19: string (nullable = true)\n",
      " |-- C20: string (nullable = true)\n",
      " |-- C21: string (nullable = true)\n",
      "\n"
     ]
    }
   ],
   "source": [
    "df.printSchema()"
   ]
  },
  {
   "cell_type": "code",
   "execution_count": 48,
   "id": "c082a751-9371-456c-b01a-2b89ffb17bca",
   "metadata": {},
   "outputs": [],
   "source": [
    "df = df.drop('id').drop('hour').drop('device_id').drop('device_ip')\n",
    "df = df.withColumnRenamed(\"click\", \"label\")"
   ]
  },
  {
   "cell_type": "code",
   "execution_count": 49,
   "id": "74b1dffd-3d4d-4edb-9649-0c35a0fa0353",
   "metadata": {},
   "outputs": [
    {
     "name": "stdout",
     "output_type": "stream",
     "text": [
      "+-----+----+----------+--------+-----------+-------------+--------+----------+------------+------------+-----------+----------------+-----+---+---+----+---+---+------+---+\n",
      "|label|  C1|banner_pos| site_id|site_domain|site_category|  app_id|app_domain|app_category|device_model|device_type|device_conn_type|  C14|C15|C16| C17|C18|C19|   C20|C21|\n",
      "+-----+----+----------+--------+-----------+-------------+--------+----------+------------+------------+-----------+----------------+-----+---+---+----+---+---+------+---+\n",
      "|    0|1005|         0|1fbe01fe|   f3845767|     28905ebd|ecad2386|  7801e8d9|    07d7df22|    44956a24|          1|               2|15706|320| 50|1722|  0| 35|    -1| 79|\n",
      "|    0|1005|         0|1fbe01fe|   f3845767|     28905ebd|ecad2386|  7801e8d9|    07d7df22|    711ee120|          1|               0|15704|320| 50|1722|  0| 35|100084| 79|\n",
      "|    0|1005|         0|1fbe01fe|   f3845767|     28905ebd|ecad2386|  7801e8d9|    07d7df22|    8a4875bd|          1|               0|15704|320| 50|1722|  0| 35|100084| 79|\n",
      "|    0|1005|         0|1fbe01fe|   f3845767|     28905ebd|ecad2386|  7801e8d9|    07d7df22|    6332421a|          1|               0|15706|320| 50|1722|  0| 35|100084| 79|\n",
      "|    0|1005|         1|fe8cc448|   9166c161|     0569f928|ecad2386|  7801e8d9|    07d7df22|    779d90c2|          1|               0|18993|320| 50|2161|  0| 35|    -1|157|\n",
      "+-----+----+----------+--------+-----------+-------------+--------+----------+------------+------------+-----------+----------------+-----+---+---+----+---+---+------+---+\n",
      "only showing top 5 rows\n",
      "\n"
     ]
    }
   ],
   "source": [
    "df.show(5)"
   ]
  },
  {
   "cell_type": "code",
   "execution_count": 50,
   "id": "ed47de63-c294-4c0c-9668-21f3e717cebb",
   "metadata": {},
   "outputs": [
    {
     "data": {
      "text/plain": [
       "['label',\n",
       " 'C1',\n",
       " 'banner_pos',\n",
       " 'site_id',\n",
       " 'site_domain',\n",
       " 'site_category',\n",
       " 'app_id',\n",
       " 'app_domain',\n",
       " 'app_category',\n",
       " 'device_model',\n",
       " 'device_type',\n",
       " 'device_conn_type',\n",
       " 'C14',\n",
       " 'C15',\n",
       " 'C16',\n",
       " 'C17',\n",
       " 'C18',\n",
       " 'C19',\n",
       " 'C20',\n",
       " 'C21']"
      ]
     },
     "execution_count": 50,
     "metadata": {},
     "output_type": "execute_result"
    }
   ],
   "source": [
    "df.columns"
   ]
  },
  {
   "cell_type": "code",
   "execution_count": 51,
   "id": "3ce99865-9275-4e32-91cd-44dd2687500c",
   "metadata": {},
   "outputs": [
    {
     "name": "stdout",
     "output_type": "stream",
     "text": [
      "+-----+\n",
      "|label|\n",
      "+-----+\n",
      "|    0|\n",
      "|    0|\n",
      "|    0|\n",
      "|    0|\n",
      "|    0|\n",
      "|    0|\n",
      "|    0|\n",
      "|    0|\n",
      "|    1|\n",
      "|    0|\n",
      "|    0|\n",
      "|    0|\n",
      "|    0|\n",
      "|    0|\n",
      "|    0|\n",
      "|    0|\n",
      "|    0|\n",
      "|    0|\n",
      "|    0|\n",
      "|    0|\n",
      "+-----+\n",
      "only showing top 20 rows\n",
      "\n"
     ]
    }
   ],
   "source": [
    "df.select(\"label\").show()"
   ]
  },
  {
   "cell_type": "markdown",
   "id": "7070d512-03d4-44f4-8768-cc1d0d7d858c",
   "metadata": {},
   "source": [
    "We split the data into a training set and testing set: 70% of the samples are used for training and the remaining samples are used for testing. We use PySpark's [randomSplit()](https://spark.apache.org/docs/3.1.3/api/python/reference/api/pyspark.sql.DataFrame.randomSplit.html) method.\n",
    "\n",
    "\n",
    "\n"
   ]
  },
  {
   "cell_type": "code",
   "execution_count": 52,
   "id": "31ec0331-9f43-43cd-97a6-10748ef8455b",
   "metadata": {},
   "outputs": [],
   "source": [
    "df_train, df_test = df.randomSplit([0.7, 0.3], seed=42)"
   ]
  },
  {
   "cell_type": "markdown",
   "id": "22fcc4cf-58cf-48b4-a231-e83d802e7419",
   "metadata": {},
   "source": [
    "## Caching the Data\n",
    "\n",
    "In Spark, caching and persistence are optimization techniques that reduce the computation overhead. This saves the intermediate results of RDD or DataFrame operations in memory and/or on disk. Without caching or persistence, whenever an intermediate DataFrame is needed, it will be recalculated again according to how it was created originally. Depending on the storage level, persistence behaves differently:\n",
    "\n",
    "* MEMORY_ONLY: The object is only stored in memory. If it does not fit in memory, the remaining part will be recomputed each time it is needed.\n",
    "* DISK_ONLY: The object is only kept on disk. A persisted object can be extracted directly from storage without being recalculated.\n",
    "* MEMORY_AND_DISK: The object is stored in memory, and might be on disk as well. If the full object does not fit in memory, the remaining partition will be stored on disk, instead of being recalculated every time it is needed. This is the default mode for caching and persistence in Spark. It takes advantage of both the fast retrieval of in-memory storage and the high accessibility and capacity of disk storage."
   ]
  },
  {
   "cell_type": "markdown",
   "id": "0fb0a5cd-6fbe-4742-b29a-6ddfa0a5ecb5",
   "metadata": {},
   "source": [
    "Let's cache both the training and testing DataFrames:"
   ]
  },
  {
   "cell_type": "code",
   "execution_count": 53,
   "id": "1e09c047-52b4-47c8-8dad-5519c30f7311",
   "metadata": {},
   "outputs": [
    {
     "data": {
      "text/plain": [
       "DataFrame[label: int, C1: string, banner_pos: string, site_id: string, site_domain: string, site_category: string, app_id: string, app_domain: string, app_category: string, device_model: string, device_type: string, device_conn_type: string, C14: string, C15: string, C16: string, C17: string, C18: string, C19: string, C20: string, C21: string]"
      ]
     },
     "execution_count": 53,
     "metadata": {},
     "output_type": "execute_result"
    }
   ],
   "source": [
    "df_train.cache()"
   ]
  },
  {
   "cell_type": "code",
   "execution_count": 54,
   "id": "8508eed8-af55-416f-aaf7-2cb8355c0775",
   "metadata": {},
   "outputs": [
    {
     "data": {
      "text/plain": [
       "DataFrame[label: int, C1: string, banner_pos: string, site_id: string, site_domain: string, site_category: string, app_id: string, app_domain: string, app_category: string, device_model: string, device_type: string, device_conn_type: string, C14: string, C15: string, C16: string, C17: string, C18: string, C19: string, C20: string, C21: string]"
      ]
     },
     "execution_count": 54,
     "metadata": {},
     "output_type": "execute_result"
    }
   ],
   "source": [
    "df_test.cache()"
   ]
  },
  {
   "cell_type": "markdown",
   "id": "781848f2-e652-44c4-beae-7ec1cc227f09",
   "metadata": {},
   "source": [
    "## One-hot encoding categorical features"
   ]
  },
  {
   "cell_type": "code",
   "execution_count": 65,
   "id": "2f96e02d-afce-4b4d-a87b-730da43b1f0d",
   "metadata": {},
   "outputs": [],
   "source": [
    "categorical = df_train.columns"
   ]
  },
  {
   "cell_type": "code",
   "execution_count": 66,
   "id": "0a7e4d2a-6211-4f31-b8b1-d77227b3ea5d",
   "metadata": {},
   "outputs": [],
   "source": [
    "categorical.remove('label')"
   ]
  },
  {
   "cell_type": "code",
   "execution_count": 74,
   "id": "7179c8c4-0ce6-4667-8ab6-940f8c8b1808",
   "metadata": {},
   "outputs": [],
   "source": [
    "indexers = [StringIndexer(inputCol=c,outputCol=\"{0}_indexed\".format(c)).setHandleInvalid(\"keep\") for c in categorical]"
   ]
  },
  {
   "cell_type": "markdown",
   "id": "d86d9fbc-d86f-4531-9c60-acd31f3e9045",
   "metadata": {},
   "source": [
    "The `setHandleInvalid(\"keep\")` handle makes sure the application won't crash if any new categorical value occurs."
   ]
  },
  {
   "cell_type": "markdown",
   "id": "7d0e1e35-ab2b-4575-9daa-f8d603b7bc12",
   "metadata": {},
   "source": [
    "We perform one-hot encoding on each individual indexed categorical column:"
   ]
  },
  {
   "cell_type": "code",
   "execution_count": 76,
   "id": "5a961ffb-95fe-44f1-9da0-16a47435756d",
   "metadata": {},
   "outputs": [],
   "source": [
    "encoder = OneHotEncoder(\n",
    "    inputCols=[indexer.getOutputCol() for indexer in indexers],\n",
    "    outputCols=[\"{0}_encoded\".format(indexer.getOutputCol()) for indexer in indexers])"
   ]
  },
  {
   "cell_type": "markdown",
   "id": "760ed163-65fd-491e-bd07-b25c73d4be55",
   "metadata": {},
   "source": [
    "We concatenate all sets of generated binary vectors into a single one using the `VectorAssembler` module. This creates the final encoded vector column called `features`."
   ]
  },
  {
   "cell_type": "code",
   "execution_count": 78,
   "id": "3225d17f-49ab-4148-9356-f5cd1f043b68",
   "metadata": {},
   "outputs": [],
   "source": [
    "assembler = VectorAssembler(inputCols=encoder.getOutputCols(), outputCol=\"features\")"
   ]
  },
  {
   "cell_type": "code",
   "execution_count": 83,
   "id": "1cc6390e-a106-4807-8e45-64f83dbc2132",
   "metadata": {},
   "outputs": [],
   "source": [
    "stages = indexers + [encoder, assembler]\n",
    "pipeline = Pipeline(stages=stages)"
   ]
  },
  {
   "cell_type": "code",
   "execution_count": 84,
   "id": "aa47f1b5-fdab-4826-8b32-27463e066631",
   "metadata": {},
   "outputs": [
    {
     "name": "stderr",
     "output_type": "stream",
     "text": [
      "23/06/26 16:33:13 WARN MemoryStore: Not enough space to cache rdd_23_0 in memory! (computed 123.0 MiB so far)\n",
      "23/06/26 16:33:13 WARN BlockManager: Persisting block rdd_23_0 to disk instead.\n",
      "                                                                                \r"
     ]
    }
   ],
   "source": [
    "one_hot_encoder = pipeline.fit(df_train)"
   ]
  },
  {
   "cell_type": "code",
   "execution_count": 85,
   "id": "4d612c39-a86c-4283-a8cb-f61b354516b7",
   "metadata": {},
   "outputs": [],
   "source": [
    "df_train_encoded = one_hot_encoder.transform(df_train)"
   ]
  },
  {
   "cell_type": "code",
   "execution_count": 86,
   "id": "1ec2a1a5-0ea5-4431-a224-1b06e0475214",
   "metadata": {},
   "outputs": [],
   "source": [
    "df_train_encoded = df_train_encoded.select( [\"label\", \"features\"])"
   ]
  },
  {
   "cell_type": "code",
   "execution_count": 87,
   "id": "0ce904b5-137c-45d9-be7b-458eee704c1e",
   "metadata": {},
   "outputs": [
    {
     "name": "stderr",
     "output_type": "stream",
     "text": [
      "23/06/26 16:38:59 WARN package: Truncated the string representation of a plan since it was too large. This behavior can be adjusted by setting 'spark.sql.debug.maxToStringFields'.\n",
      "23/06/26 16:39:00 WARN DAGScheduler: Broadcasting large task binary with size 1220.8 KiB\n"
     ]
    },
    {
     "name": "stdout",
     "output_type": "stream",
     "text": [
      "+-----+--------------------+\n",
      "|label|            features|\n",
      "+-----+--------------------+\n",
      "|    0|(31490,[5,7,2794,...|\n",
      "|    0|(31490,[5,7,2794,...|\n",
      "|    0|(31490,[5,7,2794,...|\n",
      "|    0|(31490,[5,7,2794,...|\n",
      "|    0|(31490,[5,7,2794,...|\n",
      "|    0|(31490,[5,7,2794,...|\n",
      "|    0|(31490,[5,7,2794,...|\n",
      "|    0|(31490,[5,7,2794,...|\n",
      "|    0|(31490,[5,7,2794,...|\n",
      "|    0|(31490,[5,7,2794,...|\n",
      "|    0|(31490,[5,7,2794,...|\n",
      "|    0|(31490,[5,7,2794,...|\n",
      "|    0|(31490,[5,7,3990,...|\n",
      "|    0|(31490,[5,7,4005,...|\n",
      "|    0|(31490,[5,7,3744,...|\n",
      "|    0|(31490,[5,7,3744,...|\n",
      "|    0|(31490,[5,7,4061,...|\n",
      "|    0|(31490,[5,7,3765,...|\n",
      "|    0|(31490,[5,7,3765,...|\n",
      "|    0|(31490,[5,7,3776,...|\n",
      "+-----+--------------------+\n",
      "only showing top 20 rows\n",
      "\n"
     ]
    }
   ],
   "source": [
    "df_train_encoded.show()"
   ]
  },
  {
   "cell_type": "code",
   "execution_count": 88,
   "id": "35bd6430-d108-4b84-b124-3297f5ee7498",
   "metadata": {},
   "outputs": [
    {
     "data": {
      "text/plain": [
       "DataFrame[label: int, features: vector]"
      ]
     },
     "execution_count": 88,
     "metadata": {},
     "output_type": "execute_result"
    }
   ],
   "source": [
    "df_train_encoded.cache()"
   ]
  },
  {
   "cell_type": "code",
   "execution_count": 91,
   "id": "dfa22e73-387d-49b0-9b68-d5395a7b4485",
   "metadata": {},
   "outputs": [
    {
     "name": "stderr",
     "output_type": "stream",
     "text": [
      "23/06/26 16:43:03 WARN DAGScheduler: Broadcasting large task binary with size 1220.8 KiB\n",
      "23/06/26 16:48:27 WARN MemoryStore: Not enough space to cache rdd_185_0 in memory! (computed 43.1 MiB so far)\n",
      "23/06/26 16:48:27 WARN BlockManager: Persisting block rdd_185_0 to disk instead.\n",
      "[Stage 64:>                                                         (0 + 1) / 1]\r"
     ]
    },
    {
     "name": "stdout",
     "output_type": "stream",
     "text": [
      "+-----+--------------------+\n",
      "|label|            features|\n",
      "+-----+--------------------+\n",
      "|    0|(31490,[5,7,2794,...|\n",
      "|    0|(31490,[5,7,2794,...|\n",
      "|    0|(31490,[5,7,2794,...|\n",
      "|    0|(31490,[5,7,2794,...|\n",
      "|    0|(31490,[5,7,2794,...|\n",
      "|    0|(31490,[5,7,2794,...|\n",
      "|    0|(31490,[5,7,2794,...|\n",
      "|    0|(31490,[5,7,2794,...|\n",
      "|    0|(31490,[5,7,4005,...|\n",
      "|    0|(31490,[5,7,4005,...|\n",
      "|    0|(31490,[5,7,3744,...|\n",
      "|    0|(31490,[5,7,4061,...|\n",
      "|    0|(31490,[5,7,4061,...|\n",
      "|    0|(31490,[5,7,4530,...|\n",
      "|    0|(31490,[5,7,3765,...|\n",
      "|    0|(31490,[5,7,4530,...|\n",
      "|    0|(31490,[5,7,3776,...|\n",
      "|    0|(31490,[5,7,3028,...|\n",
      "|    0|(31490,[5,7,3028,...|\n",
      "|    0|(31490,[5,7,3028,...|\n",
      "+-----+--------------------+\n",
      "only showing top 20 rows\n",
      "\n"
     ]
    },
    {
     "name": "stderr",
     "output_type": "stream",
     "text": [
      "                                                                                \r"
     ]
    }
   ],
   "source": [
    "df_test_encoded = one_hot_encoder.transform(df_test)\n",
    "df_test_encoded = df_test_encoded.select([\"label\", \"features\"])\n",
    "df_test_encoded.show()"
   ]
  },
  {
   "cell_type": "code",
   "execution_count": 92,
   "id": "1cb306cf-6a66-4885-bbfb-1023b0536703",
   "metadata": {},
   "outputs": [
    {
     "data": {
      "text/plain": [
       "DataFrame[label: int, features: vector]"
      ]
     },
     "execution_count": 92,
     "metadata": {},
     "output_type": "execute_result"
    }
   ],
   "source": [
    "df_test_encoded.cache()"
   ]
  },
  {
   "cell_type": "markdown",
   "id": "db75c641-16c3-4fb5-b906-5c26793e1ed7",
   "metadata": {},
   "source": [
    "To release some space, we uncache `df_train` and `df_test`:\n"
   ]
  },
  {
   "cell_type": "code",
   "execution_count": 90,
   "id": "9dae4a37-d68d-4043-9a25-40e9884a5540",
   "metadata": {},
   "outputs": [
    {
     "data": {
      "text/plain": [
       "DataFrame[label: int, C1: string, banner_pos: string, site_id: string, site_domain: string, site_category: string, app_id: string, app_domain: string, app_category: string, device_model: string, device_type: string, device_conn_type: string, C14: string, C15: string, C16: string, C17: string, C18: string, C19: string, C20: string, C21: string]"
      ]
     },
     "execution_count": 90,
     "metadata": {},
     "output_type": "execute_result"
    }
   ],
   "source": [
    "df_train.unpersist()"
   ]
  },
  {
   "cell_type": "code",
   "execution_count": 93,
   "id": "b461d136-3bd8-496d-808c-854a054fd84f",
   "metadata": {},
   "outputs": [
    {
     "data": {
      "text/plain": [
       "DataFrame[label: int, C1: string, banner_pos: string, site_id: string, site_domain: string, site_category: string, app_id: string, app_domain: string, app_category: string, device_model: string, device_type: string, device_conn_type: string, C14: string, C15: string, C16: string, C17: string, C18: string, C19: string, C20: string, C21: string]"
      ]
     },
     "execution_count": 93,
     "metadata": {},
     "output_type": "execute_result"
    }
   ],
   "source": [
    "df_test.unpersist()"
   ]
  },
  {
   "cell_type": "markdown",
   "id": "d201fe4a-7ce0-4ed6-bf19-b34cb989d820",
   "metadata": {},
   "source": [
    "## Training and testing a [logistic regression model](https://spark.apache.org/docs/latest/api/python/reference/api/pyspark.ml.classification.LogisticRegression.html)"
   ]
  },
  {
   "cell_type": "code",
   "execution_count": 95,
   "id": "b0cee9e8-7684-435d-999f-d5562ebeae0a",
   "metadata": {},
   "outputs": [],
   "source": [
    "classifier = LogisticRegression(maxIter=20, \n",
    "                                regParam=0.001,\n",
    "                                elasticNetParam=0.001)"
   ]
  },
  {
   "cell_type": "code",
   "execution_count": 96,
   "id": "1224b146-d02a-4f2a-be46-7b6638d04f30",
   "metadata": {},
   "outputs": [
    {
     "name": "stderr",
     "output_type": "stream",
     "text": [
      "23/06/26 16:56:01 WARN DAGScheduler: Broadcasting large task binary with size 3.7 MiB\n",
      "23/06/26 17:00:26 WARN MemoryStore: Not enough space to cache rdd_195_0 in memory! (computed 331.9 MiB so far)\n",
      "23/06/26 17:00:26 WARN BlockManager: Persisting block rdd_195_0 to disk instead.\n",
      "23/06/26 17:08:05 WARN MemoryStore: Not enough space to cache rdd_195_0 in memory! (computed 331.9 MiB so far)\n",
      "23/06/26 17:08:55 WARN InstanceBuilder: Failed to load implementation from:dev.ludovic.netlib.blas.JNIBLAS\n",
      "23/06/26 17:08:55 WARN DAGScheduler: Broadcasting large task binary with size 3.7 MiB\n",
      "23/06/26 17:08:56 WARN MemoryStore: Not enough space to cache rdd_195_0 in memory! (computed 331.9 MiB so far)\n",
      "23/06/26 17:08:57 WARN MemoryStore: Not enough space to cache rdd_213_0 in memory! (computed 65.0 MiB so far)\n",
      "23/06/26 17:08:57 WARN BlockManager: Persisting block rdd_213_0 to disk instead.\n",
      "23/06/26 17:10:11 WARN MemoryStore: Not enough space to cache rdd_213_0 in memory! (computed 272.8 MiB so far)\n",
      "23/06/26 17:10:34 WARN DAGScheduler: Broadcasting large task binary with size 3.7 MiB\n",
      "23/06/26 17:10:35 WARN MemoryStore: Not enough space to cache rdd_213_0 in memory! (computed 272.8 MiB so far)\n",
      "23/06/26 17:10:58 WARN DAGScheduler: Broadcasting large task binary with size 3.7 MiB\n",
      "23/06/26 17:10:58 WARN MemoryStore: Not enough space to cache rdd_213_0 in memory! (computed 272.8 MiB so far)\n",
      "23/06/26 17:11:22 WARN DAGScheduler: Broadcasting large task binary with size 3.7 MiB\n",
      "23/06/26 17:11:22 WARN MemoryStore: Not enough space to cache rdd_213_0 in memory! (computed 272.8 MiB so far)\n",
      "23/06/26 17:11:46 WARN DAGScheduler: Broadcasting large task binary with size 3.7 MiB\n",
      "23/06/26 17:11:47 WARN MemoryStore: Not enough space to cache rdd_213_0 in memory! (computed 272.8 MiB so far)\n",
      "23/06/26 17:12:10 WARN DAGScheduler: Broadcasting large task binary with size 3.7 MiB\n",
      "23/06/26 17:12:11 WARN MemoryStore: Not enough space to cache rdd_213_0 in memory! (computed 272.8 MiB so far)\n",
      "23/06/26 17:12:34 WARN DAGScheduler: Broadcasting large task binary with size 3.7 MiB\n",
      "23/06/26 17:12:35 WARN MemoryStore: Not enough space to cache rdd_213_0 in memory! (computed 272.8 MiB so far)\n",
      "23/06/26 17:12:58 WARN DAGScheduler: Broadcasting large task binary with size 3.7 MiB\n",
      "23/06/26 17:12:59 WARN MemoryStore: Not enough space to cache rdd_213_0 in memory! (computed 272.8 MiB so far)\n",
      "23/06/26 17:13:23 WARN DAGScheduler: Broadcasting large task binary with size 3.7 MiB\n",
      "23/06/26 17:13:23 WARN MemoryStore: Not enough space to cache rdd_213_0 in memory! (computed 272.8 MiB so far)\n",
      "23/06/26 17:13:46 WARN DAGScheduler: Broadcasting large task binary with size 3.7 MiB\n",
      "23/06/26 17:13:47 WARN MemoryStore: Not enough space to cache rdd_213_0 in memory! (computed 272.8 MiB so far)\n",
      "23/06/26 17:14:10 WARN DAGScheduler: Broadcasting large task binary with size 3.7 MiB\n",
      "23/06/26 17:14:11 WARN MemoryStore: Not enough space to cache rdd_213_0 in memory! (computed 272.8 MiB so far)\n",
      "23/06/26 17:14:34 WARN DAGScheduler: Broadcasting large task binary with size 3.7 MiB\n",
      "23/06/26 17:14:35 WARN MemoryStore: Not enough space to cache rdd_213_0 in memory! (computed 272.8 MiB so far)\n",
      "23/06/26 17:14:59 WARN DAGScheduler: Broadcasting large task binary with size 3.7 MiB\n",
      "23/06/26 17:14:59 WARN MemoryStore: Not enough space to cache rdd_213_0 in memory! (computed 272.8 MiB so far)\n",
      "23/06/26 17:15:23 WARN DAGScheduler: Broadcasting large task binary with size 3.7 MiB\n",
      "23/06/26 17:15:23 WARN MemoryStore: Not enough space to cache rdd_213_0 in memory! (computed 272.8 MiB so far)\n",
      "23/06/26 17:15:47 WARN DAGScheduler: Broadcasting large task binary with size 3.7 MiB\n",
      "23/06/26 17:15:48 WARN MemoryStore: Not enough space to cache rdd_213_0 in memory! (computed 272.8 MiB so far)\n",
      "23/06/26 17:16:11 WARN DAGScheduler: Broadcasting large task binary with size 3.7 MiB\n",
      "23/06/26 17:16:11 WARN MemoryStore: Not enough space to cache rdd_213_0 in memory! (computed 272.8 MiB so far)\n",
      "23/06/26 17:16:35 WARN DAGScheduler: Broadcasting large task binary with size 3.7 MiB\n",
      "23/06/26 17:16:36 WARN MemoryStore: Not enough space to cache rdd_213_0 in memory! (computed 272.8 MiB so far)\n",
      "23/06/26 17:16:59 WARN DAGScheduler: Broadcasting large task binary with size 3.7 MiB\n",
      "23/06/26 17:17:00 WARN MemoryStore: Not enough space to cache rdd_213_0 in memory! (computed 272.8 MiB so far)\n",
      "23/06/26 17:17:23 WARN DAGScheduler: Broadcasting large task binary with size 3.7 MiB\n",
      "23/06/26 17:17:24 WARN MemoryStore: Not enough space to cache rdd_213_0 in memory! (computed 272.8 MiB so far)\n",
      "23/06/26 17:17:47 WARN DAGScheduler: Broadcasting large task binary with size 3.7 MiB\n",
      "23/06/26 17:17:48 WARN MemoryStore: Not enough space to cache rdd_213_0 in memory! (computed 272.8 MiB so far)\n",
      "23/06/26 17:18:12 WARN DAGScheduler: Broadcasting large task binary with size 3.7 MiB\n",
      "23/06/26 17:18:12 WARN MemoryStore: Not enough space to cache rdd_213_0 in memory! (computed 272.8 MiB so far)\n",
      "23/06/26 17:18:36 WARN DAGScheduler: Broadcasting large task binary with size 3.7 MiB\n",
      "23/06/26 17:18:36 WARN MemoryStore: Not enough space to cache rdd_213_0 in memory! (computed 272.8 MiB so far)\n",
      "23/06/26 17:19:01 WARN DAGScheduler: Broadcasting large task binary with size 3.7 MiB\n",
      "23/06/26 17:19:01 WARN MemoryStore: Not enough space to cache rdd_213_0 in memory! (computed 272.8 MiB so far)\n",
      "23/06/26 17:19:25 WARN DAGScheduler: Broadcasting large task binary with size 3.7 MiB\n",
      "23/06/26 17:19:26 WARN MemoryStore: Not enough space to cache rdd_213_0 in memory! (computed 272.8 MiB so far)\n",
      "                                                                                \r"
     ]
    }
   ],
   "source": [
    "lr_model = classifier.fit(df_train_encoded)"
   ]
  },
  {
   "cell_type": "code",
   "execution_count": 97,
   "id": "b0f30caa-a7c0-4fd8-9b80-cbe3174ccf70",
   "metadata": {},
   "outputs": [],
   "source": [
    "predictions = lr_model.transform(df_test_encoded)"
   ]
  },
  {
   "cell_type": "code",
   "execution_count": 98,
   "id": "76f06c5b-4fad-4bcd-8184-937201edbe93",
   "metadata": {},
   "outputs": [
    {
     "data": {
      "text/plain": [
       "DataFrame[label: int, features: vector, rawPrediction: vector, probability: vector, prediction: double]"
      ]
     },
     "execution_count": 98,
     "metadata": {},
     "output_type": "execute_result"
    }
   ],
   "source": [
    "predictions.cache()"
   ]
  },
  {
   "cell_type": "code",
   "execution_count": 99,
   "id": "4da11e89-8409-41c4-8232-8ece297bdf04",
   "metadata": {},
   "outputs": [
    {
     "name": "stderr",
     "output_type": "stream",
     "text": [
      "23/06/26 17:28:54 WARN DAGScheduler: Broadcasting large task binary with size 4.0 MiB\n",
      "23/06/26 17:33:16 WARN MemoryStore: Not enough space to cache rdd_259_0 in memory! (computed 190.9 MiB so far)\n",
      "23/06/26 17:33:16 WARN BlockManager: Persisting block rdd_259_0 to disk instead.\n",
      "23/06/26 17:36:31 WARN MemoryStore: Not enough space to cache rdd_259_0 in memory! (computed 331.9 MiB so far)\n",
      "23/06/26 17:36:31 WARN MemoryStore: Not enough space to cache rdd_265_0 in memory! (computed 67.4 MiB so far)\n",
      "23/06/26 17:36:31 WARN BlockManager: Persisting block rdd_265_0 to disk instead.\n",
      "23/06/26 17:37:13 WARN MemoryStore: Not enough space to cache rdd_265_0 in memory! (computed 257.8 MiB so far)\n"
     ]
    },
    {
     "name": "stdout",
     "output_type": "stream",
     "text": [
      "+-----+--------------------+--------------------+--------------------+----------+\n",
      "|label|            features|       rawPrediction|         probability|prediction|\n",
      "+-----+--------------------+--------------------+--------------------+----------+\n",
      "|    0|(31490,[5,7,2794,...|[5.62405163440240...|[0.99640300001753...|       0.0|\n",
      "|    0|(31490,[5,7,2794,...|[5.63177753732283...|[0.99643058420230...|       0.0|\n",
      "|    0|(31490,[5,7,2794,...|[5.76519716496787...|[0.99687501888506...|       0.0|\n",
      "|    0|(31490,[5,7,2794,...|[5.42726668833494...|[0.99562413975328...|       0.0|\n",
      "|    0|(31490,[5,7,2794,...|[5.42726668833494...|[0.99562413975328...|       0.0|\n",
      "|    0|(31490,[5,7,2794,...|[5.42726668833494...|[0.99562413975328...|       0.0|\n",
      "|    0|(31490,[5,7,2794,...|[5.42726668833494...|[0.99562413975328...|       0.0|\n",
      "|    0|(31490,[5,7,2794,...|[5.43499259125538...|[0.99565767072626...|       0.0|\n",
      "|    0|(31490,[5,7,4005,...|[-2.8232800910379...|[0.05607905157199...|       1.0|\n",
      "|    0|(31490,[5,7,4005,...|[4.36006311515018...|[0.98738362558299...|       0.0|\n",
      "|    0|(31490,[5,7,3744,...|[4.65732865507211...|[0.99059746246419...|       0.0|\n",
      "|    0|(31490,[5,7,4061,...|[5.10799403970974...|[0.99398815762579...|       0.0|\n",
      "|    0|(31490,[5,7,4061,...|[5.18130755651502...|[0.99441076287148...|       0.0|\n",
      "|    0|(31490,[5,7,4530,...|[-0.4027987165311...|[0.40064010427610...|       1.0|\n",
      "|    0|(31490,[5,7,3765,...|[5.49403077299011...|[0.99590559382415...|       0.0|\n",
      "|    0|(31490,[5,7,4530,...|[4.45372641137641...|[0.98849869040851...|       0.0|\n",
      "|    0|(31490,[5,7,3776,...|[5.67593347892166...|[0.99658423939683...|       0.0|\n",
      "|    0|(31490,[5,7,3028,...|[5.47112629559927...|[0.99581112871662...|       0.0|\n",
      "|    0|(31490,[5,7,3028,...|[5.54443981240454...|[0.99610608937408...|       0.0|\n",
      "|    0|(31490,[5,7,3028,...|[5.54443981240454...|[0.99610608937408...|       0.0|\n",
      "+-----+--------------------+--------------------+--------------------+----------+\n",
      "only showing top 20 rows\n",
      "\n"
     ]
    },
    {
     "name": "stderr",
     "output_type": "stream",
     "text": [
      "                                                                                \r"
     ]
    }
   ],
   "source": [
    "predictions.show()"
   ]
  },
  {
   "cell_type": "code",
   "execution_count": 101,
   "id": "fc58c4ed-cbd9-413a-b23a-fbf2fc927f20",
   "metadata": {},
   "outputs": [
    {
     "name": "stderr",
     "output_type": "stream",
     "text": [
      "23/06/26 17:38:13 WARN DAGScheduler: Broadcasting large task binary with size 4.0 MiB\n",
      "23/06/26 17:38:13 WARN MemoryStore: Not enough space to cache rdd_265_0 in memory! (computed 257.8 MiB so far)\n",
      "[Stage 99:>                                                         (0 + 1) / 1]\r"
     ]
    },
    {
     "name": "stdout",
     "output_type": "stream",
     "text": [
      "0.7490537166477022\n"
     ]
    },
    {
     "name": "stderr",
     "output_type": "stream",
     "text": [
      "                                                                                \r"
     ]
    }
   ],
   "source": [
    "ev = BinaryClassificationEvaluator(rawPredictionCol =\"rawPrediction\", metricName = \"areaUnderROC\")\n",
    "print(ev.evaluate(predictions))"
   ]
  },
  {
   "cell_type": "code",
   "execution_count": null,
   "id": "b47c6773-26ba-4afc-8495-1f85d7cb6b65",
   "metadata": {},
   "outputs": [],
   "source": []
  }
 ],
 "metadata": {
  "kernelspec": {
   "display_name": "Python 3 (ipykernel)",
   "language": "python",
   "name": "python3"
  },
  "language_info": {
   "codemirror_mode": {
    "name": "ipython",
    "version": 3
   },
   "file_extension": ".py",
   "mimetype": "text/x-python",
   "name": "python",
   "nbconvert_exporter": "python",
   "pygments_lexer": "ipython3",
   "version": "3.9.13"
  }
 },
 "nbformat": 4,
 "nbformat_minor": 5
}
