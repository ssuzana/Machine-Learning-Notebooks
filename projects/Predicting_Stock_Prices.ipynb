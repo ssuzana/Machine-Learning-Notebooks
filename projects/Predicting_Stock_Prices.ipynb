{
 "cells": [
  {
   "cell_type": "markdown",
   "id": "c36826d6-a614-4a79-9b1a-d25cd5e6bb51",
   "metadata": {},
   "source": [
    "# Intro \n",
    "\n",
    "There are two main streams of studies that attempt to understand factors and conditions that lead to price changes or even to forecast future stock prices, fundamental analysis and technical analysis:\n",
    "\n",
    "* **Fundamental analysis**: This stream focuses on underlying factors that influence a company's value and business, including overall economy and industry conditions from macro perspectives, the company's financial conditions, management, and competitors from micro perspectives.\n",
    "* **Technical analysis**: On the other hand, this stream predicts future price movements through the statistical study of past trading activity, including price movement, volume, and market data. Predicting prices via machine learning techniques is an important topic in technical analysis nowadays.\n",
    "\n",
    "In this notebook, we'll be working as a quantitative analyst/researcher, exploring how to predict stock prices with several typical machine learning regression algorithms.\n"
   ]
  },
  {
   "cell_type": "markdown",
   "id": "947909ae-2e45-4d3b-9ccc-553008df4f01",
   "metadata": {},
   "source": [
    "## Stock index\n",
    "\n",
    "A **stock index** is a statistical measure of the value of a portion of the overall stock market. An index includes several stocks that are diverse enough to represent a section of the whole market. And the price of an index is typically computed as the weighted average of the prices of selected stocks."
   ]
  },
  {
   "cell_type": "markdown",
   "id": "85791970-d5cf-4571-a0d7-167c4ecc708f",
   "metadata": {},
   "source": [
    "## Stock price data\n",
    "\n",
    "We can apply regression techniques to predicting prices of a particular stock. However, it's difficult to ensure the stock we pick is suitable for learning purposes — its price should follow some learnable patterns and it can't have been affected by unprecedented instances or irregular events. \n",
    "\n",
    "Hence, we'll be focusing on one of the most popular stock indexes to better illustrate and generalize our price regression approach.\n",
    "\n",
    "The Dow Jones Industrial Average (DJIA) is one of the longest established and most commonly watched indexes in the world. It consists of 30 of the most significant stocks in the U.S., such as Microsoft, Apple, General Electric, and the Walt Disney Company, and represents around a quarter of the value of the entire U.S. market. You can view its daily prices and performance on Yahoo Finance at \n",
    "https://finance.yahoo.com/quote/%5EDJI/history?p=%5EDJI."
   ]
  },
  {
   "cell_type": "markdown",
   "id": "829f887a-1bf9-4771-bcce-2ae2b1e38e63",
   "metadata": {
    "tags": []
   },
   "source": [
    "# Get the data\n",
    "\n",
    "We will acquire stock index price and performance data from Yahoo Finance using the [yfinance](https://pypi.org/project/yfinance/) Python library.\n"
   ]
  },
  {
   "cell_type": "code",
   "execution_count": 5,
   "id": "00534816-b044-46ce-9a4a-2b8b304ac140",
   "metadata": {},
   "outputs": [],
   "source": [
    "# pip install yfinance"
   ]
  },
  {
   "cell_type": "code",
   "execution_count": 68,
   "id": "7e4be7c6-4f32-4b02-b708-20c18b499c7b",
   "metadata": {},
   "outputs": [],
   "source": [
    "import pandas as pd\n",
    "import yfinance as yf"
   ]
  },
  {
   "cell_type": "code",
   "execution_count": 69,
   "id": "96da7c4c-084e-4f00-a15f-d48e398d272a",
   "metadata": {},
   "outputs": [
    {
     "name": "stdout",
     "output_type": "stream",
     "text": [
      "[*********************100%***********************]  1 of 1 completed\n"
     ]
    }
   ],
   "source": [
    "start_date= '1988-01-01'\n",
    "end_date= '2019-12-31'\n",
    "ticker= '^DJI'\n",
    "data = yf.download(ticker, start=start_date, end=end_date)"
   ]
  },
  {
   "cell_type": "code",
   "execution_count": 70,
   "id": "42c704f2-39cf-4319-9f1b-f810b9afeee5",
   "metadata": {},
   "outputs": [
    {
     "data": {
      "text/html": [
       "<div>\n",
       "<style scoped>\n",
       "    .dataframe tbody tr th:only-of-type {\n",
       "        vertical-align: middle;\n",
       "    }\n",
       "\n",
       "    .dataframe tbody tr th {\n",
       "        vertical-align: top;\n",
       "    }\n",
       "\n",
       "    .dataframe thead th {\n",
       "        text-align: right;\n",
       "    }\n",
       "</style>\n",
       "<table border=\"1\" class=\"dataframe\">\n",
       "  <thead>\n",
       "    <tr style=\"text-align: right;\">\n",
       "      <th></th>\n",
       "      <th>Open</th>\n",
       "      <th>High</th>\n",
       "      <th>Low</th>\n",
       "      <th>Close</th>\n",
       "      <th>Adj Close</th>\n",
       "      <th>Volume</th>\n",
       "    </tr>\n",
       "    <tr>\n",
       "      <th>Date</th>\n",
       "      <th></th>\n",
       "      <th></th>\n",
       "      <th></th>\n",
       "      <th></th>\n",
       "      <th></th>\n",
       "      <th></th>\n",
       "    </tr>\n",
       "  </thead>\n",
       "  <tbody>\n",
       "    <tr>\n",
       "      <th>1992-01-02</th>\n",
       "      <td>3152.100098</td>\n",
       "      <td>3172.629883</td>\n",
       "      <td>3139.310059</td>\n",
       "      <td>3172.399902</td>\n",
       "      <td>3172.399902</td>\n",
       "      <td>23550000</td>\n",
       "    </tr>\n",
       "    <tr>\n",
       "      <th>1992-01-03</th>\n",
       "      <td>3172.399902</td>\n",
       "      <td>3210.639893</td>\n",
       "      <td>3165.919922</td>\n",
       "      <td>3201.500000</td>\n",
       "      <td>3201.500000</td>\n",
       "      <td>23620000</td>\n",
       "    </tr>\n",
       "    <tr>\n",
       "      <th>1992-01-06</th>\n",
       "      <td>3201.500000</td>\n",
       "      <td>3213.330078</td>\n",
       "      <td>3191.860107</td>\n",
       "      <td>3200.100098</td>\n",
       "      <td>3200.100098</td>\n",
       "      <td>27280000</td>\n",
       "    </tr>\n",
       "    <tr>\n",
       "      <th>1992-01-07</th>\n",
       "      <td>3200.100098</td>\n",
       "      <td>3210.199951</td>\n",
       "      <td>3184.479980</td>\n",
       "      <td>3204.800049</td>\n",
       "      <td>3204.800049</td>\n",
       "      <td>25510000</td>\n",
       "    </tr>\n",
       "    <tr>\n",
       "      <th>1992-01-08</th>\n",
       "      <td>3204.800049</td>\n",
       "      <td>3229.199951</td>\n",
       "      <td>3185.820068</td>\n",
       "      <td>3203.899902</td>\n",
       "      <td>3203.899902</td>\n",
       "      <td>29040000</td>\n",
       "    </tr>\n",
       "    <tr>\n",
       "      <th>...</th>\n",
       "      <td>...</td>\n",
       "      <td>...</td>\n",
       "      <td>...</td>\n",
       "      <td>...</td>\n",
       "      <td>...</td>\n",
       "      <td>...</td>\n",
       "    </tr>\n",
       "    <tr>\n",
       "      <th>2019-12-23</th>\n",
       "      <td>28491.779297</td>\n",
       "      <td>28582.490234</td>\n",
       "      <td>28491.779297</td>\n",
       "      <td>28551.529297</td>\n",
       "      <td>28551.529297</td>\n",
       "      <td>223530000</td>\n",
       "    </tr>\n",
       "    <tr>\n",
       "      <th>2019-12-24</th>\n",
       "      <td>28572.570312</td>\n",
       "      <td>28576.800781</td>\n",
       "      <td>28503.210938</td>\n",
       "      <td>28515.449219</td>\n",
       "      <td>28515.449219</td>\n",
       "      <td>86150000</td>\n",
       "    </tr>\n",
       "    <tr>\n",
       "      <th>2019-12-26</th>\n",
       "      <td>28539.460938</td>\n",
       "      <td>28624.099609</td>\n",
       "      <td>28535.150391</td>\n",
       "      <td>28621.390625</td>\n",
       "      <td>28621.390625</td>\n",
       "      <td>155970000</td>\n",
       "    </tr>\n",
       "    <tr>\n",
       "      <th>2019-12-27</th>\n",
       "      <td>28675.339844</td>\n",
       "      <td>28701.660156</td>\n",
       "      <td>28608.980469</td>\n",
       "      <td>28645.259766</td>\n",
       "      <td>28645.259766</td>\n",
       "      <td>182280000</td>\n",
       "    </tr>\n",
       "    <tr>\n",
       "      <th>2019-12-30</th>\n",
       "      <td>28654.759766</td>\n",
       "      <td>28664.689453</td>\n",
       "      <td>28428.980469</td>\n",
       "      <td>28462.140625</td>\n",
       "      <td>28462.140625</td>\n",
       "      <td>181600000</td>\n",
       "    </tr>\n",
       "  </tbody>\n",
       "</table>\n",
       "<p>7052 rows × 6 columns</p>\n",
       "</div>"
      ],
      "text/plain": [
       "                    Open          High           Low         Close  \\\n",
       "Date                                                                 \n",
       "1992-01-02   3152.100098   3172.629883   3139.310059   3172.399902   \n",
       "1992-01-03   3172.399902   3210.639893   3165.919922   3201.500000   \n",
       "1992-01-06   3201.500000   3213.330078   3191.860107   3200.100098   \n",
       "1992-01-07   3200.100098   3210.199951   3184.479980   3204.800049   \n",
       "1992-01-08   3204.800049   3229.199951   3185.820068   3203.899902   \n",
       "...                  ...           ...           ...           ...   \n",
       "2019-12-23  28491.779297  28582.490234  28491.779297  28551.529297   \n",
       "2019-12-24  28572.570312  28576.800781  28503.210938  28515.449219   \n",
       "2019-12-26  28539.460938  28624.099609  28535.150391  28621.390625   \n",
       "2019-12-27  28675.339844  28701.660156  28608.980469  28645.259766   \n",
       "2019-12-30  28654.759766  28664.689453  28428.980469  28462.140625   \n",
       "\n",
       "               Adj Close     Volume  \n",
       "Date                                 \n",
       "1992-01-02   3172.399902   23550000  \n",
       "1992-01-03   3201.500000   23620000  \n",
       "1992-01-06   3200.100098   27280000  \n",
       "1992-01-07   3204.800049   25510000  \n",
       "1992-01-08   3203.899902   29040000  \n",
       "...                  ...        ...  \n",
       "2019-12-23  28551.529297  223530000  \n",
       "2019-12-24  28515.449219   86150000  \n",
       "2019-12-26  28621.390625  155970000  \n",
       "2019-12-27  28645.259766  182280000  \n",
       "2019-12-30  28462.140625  181600000  \n",
       "\n",
       "[7052 rows x 6 columns]"
      ]
     },
     "execution_count": 70,
     "metadata": {},
     "output_type": "execute_result"
    }
   ],
   "source": [
    "data"
   ]
  },
  {
   "cell_type": "code",
   "execution_count": 71,
   "id": "951aea6b-cf68-482f-b041-ebe8ac5b3b48",
   "metadata": {},
   "outputs": [],
   "source": [
    "data.to_csv(\"../datasets/19880101_20191231.csv\")"
   ]
  },
  {
   "cell_type": "markdown",
   "id": "2fd279b6-dc70-4733-a428-45f30b0d74a5",
   "metadata": {},
   "source": [
    "# Feature engineering\n",
    "\n",
    "We can compute the average close price over the past week (five trading days), over the past month, and over the past year as three new features. We can also customize the time window to the size we want, such as the past quarter or the past six months. On top of these three averaged price features, we can generate new features associated with the price trend by computing the ratios between each pair of average prices in the three different time frames, for instance, the ratio between the average price over the past week and over the past year.\n",
    "\n",
    "Similarly, we can generate new volume-based features by computing the average volumes in several different time frames and the ratios between each pair of averaged values.\n",
    "\n",
    "We should also consider stock volatility. Volatility describes the degree of variation of prices for a given stock or index over time. In statistical terms, it's basically the standard deviation of the close prices. We can easily generate new sets of features by computing the standard deviation of close prices in a particular time frame, as well as the standard deviation of volumes traded. In a similar manner, ratios between each pair of standard deviation values can be included in our engineered feature pool.\n",
    "\n",
    "Last but not least, return is a significant financial metric that investors closely watch for. Return is the percentage of gain or loss of close price for a stock/index in a particular period. For example, daily return and annual return are financial terms we frequently hear. They are calculated as follows:\n",
    "$$ \\text{ return}_{i:i-1} = \\frac{\\text{price}_i - \\text{price}_{i-1}}{ \\text{price}_{i-1}}$$\n",
    "$$ \\text{ return}_{i:i-365} = \\frac{\\text{price}_i - \\text{price}_{i-365}}{ \\text{price}_{i-365}}$$\n",
    "\n",
    "Here, $\\text{price}_i$ is the price on the $i$th day. Weekly and monthly returns can be computed in a similar way. Based on daily returns, we can produce a moving average over a particular number of days.\n",
    "\n",
    "For instance, given daily returns of the past week, we can calculate the moving average over that week as follows:\n",
    "\n",
    "$$\\text{MovingAvg}_{i_5}=\\frac{\\text{ return}_{i:i-1} + \\text{ return}_{i-1:i-2}+\\text{ return}_{i-2:i-3}+\\text{ return}_{i-3:i-4}+\\text{ return}_{i-4:i-5}}{5}$$"
   ]
  },
  {
   "cell_type": "code",
   "execution_count": 72,
   "id": "eceb1766-6749-46cb-aa79-e75006ab42b0",
   "metadata": {},
   "outputs": [],
   "source": [
    "def generate_features(df):\n",
    "    \"\"\"\n",
    "    Generate features for a stock/index based on historical price and performance\n",
    "    @param df: dataframe with columns \"Open\", \"Close\", \"High\", \"Low\", \"Volume\", \"Adjusted Close\"\n",
    "    @return: dataframe, data set with new features\n",
    "    \"\"\"\n",
    "    df_new = pd.DataFrame()\n",
    "    # 6 original features\n",
    "    df_new['open'] = df['Open']\n",
    "    df_new['open_1'] = df['Open'].shift(1)\n",
    "    df_new['close_1'] = df['Close'].shift(1)\n",
    "    df_new['high_1'] = df['High'].shift(1)\n",
    "    df_new['low_1'] = df['Low'].shift(1)\n",
    "    df_new['volume_1'] = df['Volume'].shift(1)\n",
    "    # 31 generated features\n",
    "    # average price\n",
    "    df_new['avg_price_5'] = df['Close'].rolling(5).mean().shift(1)\n",
    "    df_new['avg_price_30'] = df['Close'].rolling(21).mean().shift(1)\n",
    "    df_new['avg_price_365'] = df['Close'].rolling(252).mean().shift(1)\n",
    "    df_new['ratio_avg_price_5_30'] = df_new['avg_price_5'] / df_new['avg_price_30']\n",
    "    df_new['ratio_avg_price_5_365'] = df_new['avg_price_5'] / df_new['avg_price_365']\n",
    "    df_new['ratio_avg_price_30_365'] = df_new['avg_price_30'] / df_new['avg_price_365']\n",
    "    # average volume\n",
    "    df_new['avg_volume_5'] = df['Volume'].rolling(5).mean().shift(1)\n",
    "    df_new['avg_volume_30'] = df['Volume'].rolling(21).mean().shift(1)\n",
    "    df_new['avg_volume_365'] = df['Volume'].rolling(252).mean().shift(1)\n",
    "    df_new['ratio_avg_volume_5_30'] = df_new['avg_volume_5'] / df_new['avg_volume_30']\n",
    "    df_new['ratio_avg_volume_5_365'] = df_new['avg_volume_5'] / df_new['avg_volume_365']\n",
    "    df_new['ratio_avg_volume_30_365'] = df_new['avg_volume_30'] / df_new['avg_volume_365']\n",
    "    # standard deviation of prices\n",
    "    df_new['std_price_5'] = df['Close'].rolling(5).std().shift(1)\n",
    "    df_new['std_price_30'] = df['Close'].rolling(21).std().shift(1)\n",
    "    df_new['std_price_365'] = df['Close'].rolling(252).std().shift(1)\n",
    "    df_new['ratio_std_price_5_30'] = df_new['std_price_5'] / df_new['std_price_30']\n",
    "    df_new['ratio_std_price_5_365'] = df_new['std_price_5'] / df_new['std_price_365']\n",
    "    df_new['ratio_std_price_30_365'] = df_new['std_price_30'] / df_new['std_price_365']\n",
    "    # standard deviation of volumes\n",
    "    df_new['std_volume_5'] = df['Volume'].rolling(5).std().shift(1)\n",
    "    df_new['std_volume_30'] = df['Volume'].rolling(21).std().shift(1)\n",
    "    df_new['std_volume_365'] = df['Volume'].rolling(252).std().shift(1)\n",
    "    df_new['ratio_std_volume_5_30'] = df_new['std_volume_5'] / df_new['std_volume_30']\n",
    "    df_new['ratio_std_volume_5_365'] = df_new['std_volume_5'] / df_new['std_volume_365']\n",
    "    df_new['ratio_std_volume_30_365'] = df_new['std_volume_30'] / df_new['std_volume_365']\n",
    "    # return\n",
    "    df_new['return_1'] = ((df['Close'] - df['Close'].shift(1)) / df['Close'].shift(1)).shift(1)\n",
    "    df_new['return_5'] = ((df['Close'] - df['Close'].shift(5)) / df['Close'].shift(5)).shift(1)\n",
    "    df_new['return_30'] = ((df['Close'] - df['Close'].shift(21)) / df['Close'].shift(21)).shift(1)\n",
    "    df_new['return_365'] = ((df['Close'] - df['Close'].shift(252)) / df['Close'].shift(252)).shift(1)\n",
    "    df_new['moving_avg_5'] = df_new['return_1'].rolling(5).mean().shift(1)\n",
    "    df_new['moving_avg_30'] = df_new['return_1'].rolling(21).mean().shift(1)\n",
    "    df_new['moving_avg_365'] = df_new['return_1'].rolling(252).mean().shift(1)\n",
    "    # the target\n",
    "    df_new['close'] = df['Close']\n",
    "    df_new = df_new.dropna(axis=0)\n",
    "    return df_new"
   ]
  },
  {
   "cell_type": "code",
   "execution_count": 73,
   "id": "63bf5289-5346-4781-a8ab-f66d8e59ae6a",
   "metadata": {},
   "outputs": [],
   "source": [
    "df = generate_features(data)"
   ]
  },
  {
   "cell_type": "code",
   "execution_count": 74,
   "id": "de3fc213-6336-4087-b2d4-e7bd950ed524",
   "metadata": {},
   "outputs": [
    {
     "data": {
      "text/html": [
       "<div>\n",
       "<style scoped>\n",
       "    .dataframe tbody tr th:only-of-type {\n",
       "        vertical-align: middle;\n",
       "    }\n",
       "\n",
       "    .dataframe tbody tr th {\n",
       "        vertical-align: top;\n",
       "    }\n",
       "\n",
       "    .dataframe thead th {\n",
       "        text-align: right;\n",
       "    }\n",
       "</style>\n",
       "<table border=\"1\" class=\"dataframe\">\n",
       "  <thead>\n",
       "    <tr style=\"text-align: right;\">\n",
       "      <th></th>\n",
       "      <th>open</th>\n",
       "      <th>open_1</th>\n",
       "      <th>close_1</th>\n",
       "      <th>high_1</th>\n",
       "      <th>low_1</th>\n",
       "      <th>volume_1</th>\n",
       "      <th>avg_price_5</th>\n",
       "      <th>avg_price_30</th>\n",
       "      <th>avg_price_365</th>\n",
       "      <th>ratio_avg_price_5_30</th>\n",
       "      <th>...</th>\n",
       "      <th>ratio_std_volume_5_365</th>\n",
       "      <th>ratio_std_volume_30_365</th>\n",
       "      <th>return_1</th>\n",
       "      <th>return_5</th>\n",
       "      <th>return_30</th>\n",
       "      <th>return_365</th>\n",
       "      <th>moving_avg_5</th>\n",
       "      <th>moving_avg_30</th>\n",
       "      <th>moving_avg_365</th>\n",
       "      <th>close</th>\n",
       "    </tr>\n",
       "    <tr>\n",
       "      <th>Date</th>\n",
       "      <th></th>\n",
       "      <th></th>\n",
       "      <th></th>\n",
       "      <th></th>\n",
       "      <th></th>\n",
       "      <th></th>\n",
       "      <th></th>\n",
       "      <th></th>\n",
       "      <th></th>\n",
       "      <th></th>\n",
       "      <th></th>\n",
       "      <th></th>\n",
       "      <th></th>\n",
       "      <th></th>\n",
       "      <th></th>\n",
       "      <th></th>\n",
       "      <th></th>\n",
       "      <th></th>\n",
       "      <th></th>\n",
       "      <th></th>\n",
       "      <th></th>\n",
       "    </tr>\n",
       "  </thead>\n",
       "  <tbody>\n",
       "    <tr>\n",
       "      <th>1993-01-04</th>\n",
       "      <td>3301.1</td>\n",
       "      <td>3321.1</td>\n",
       "      <td>3301.11</td>\n",
       "      <td>3327.86</td>\n",
       "      <td>3301.11</td>\n",
       "      <td>13860000.0</td>\n",
       "      <td>3318.494</td>\n",
       "      <td>3303.572</td>\n",
       "      <td>3284.851</td>\n",
       "      <td>1.005</td>\n",
       "      <td>...</td>\n",
       "      <td>1.098</td>\n",
       "      <td>1.559</td>\n",
       "      <td>-0.006</td>\n",
       "      <td>-0.004</td>\n",
       "      <td>0.002</td>\n",
       "      <td>0.031</td>\n",
       "      <td>0.000</td>\n",
       "      <td>0.0</td>\n",
       "      <td>0.0</td>\n",
       "      <td>3309.2</td>\n",
       "    </tr>\n",
       "    <tr>\n",
       "      <th>1993-01-05</th>\n",
       "      <td>3309.2</td>\n",
       "      <td>3301.1</td>\n",
       "      <td>3309.20</td>\n",
       "      <td>3319.21</td>\n",
       "      <td>3298.68</td>\n",
       "      <td>21400000.0</td>\n",
       "      <td>3315.094</td>\n",
       "      <td>3304.662</td>\n",
       "      <td>3285.284</td>\n",
       "      <td>1.003</td>\n",
       "      <td>...</td>\n",
       "      <td>0.970</td>\n",
       "      <td>1.562</td>\n",
       "      <td>0.002</td>\n",
       "      <td>-0.005</td>\n",
       "      <td>0.007</td>\n",
       "      <td>0.034</td>\n",
       "      <td>-0.001</td>\n",
       "      <td>0.0</td>\n",
       "      <td>0.0</td>\n",
       "      <td>3307.9</td>\n",
       "    </tr>\n",
       "    <tr>\n",
       "      <th>1993-01-06</th>\n",
       "      <td>3307.9</td>\n",
       "      <td>3309.2</td>\n",
       "      <td>3307.90</td>\n",
       "      <td>3320.83</td>\n",
       "      <td>3300.57</td>\n",
       "      <td>28060000.0</td>\n",
       "      <td>3310.022</td>\n",
       "      <td>3306.158</td>\n",
       "      <td>3285.693</td>\n",
       "      <td>1.001</td>\n",
       "      <td>...</td>\n",
       "      <td>1.145</td>\n",
       "      <td>1.571</td>\n",
       "      <td>-0.000</td>\n",
       "      <td>-0.008</td>\n",
       "      <td>0.010</td>\n",
       "      <td>0.032</td>\n",
       "      <td>-0.001</td>\n",
       "      <td>0.0</td>\n",
       "      <td>0.0</td>\n",
       "      <td>3305.2</td>\n",
       "    </tr>\n",
       "    <tr>\n",
       "      <th>1993-01-07</th>\n",
       "      <td>3305.2</td>\n",
       "      <td>3307.9</td>\n",
       "      <td>3305.20</td>\n",
       "      <td>3312.19</td>\n",
       "      <td>3290.58</td>\n",
       "      <td>35790000.0</td>\n",
       "      <td>3308.902</td>\n",
       "      <td>3306.943</td>\n",
       "      <td>3286.095</td>\n",
       "      <td>1.001</td>\n",
       "      <td>...</td>\n",
       "      <td>1.692</td>\n",
       "      <td>1.639</td>\n",
       "      <td>-0.001</td>\n",
       "      <td>-0.002</td>\n",
       "      <td>0.005</td>\n",
       "      <td>0.032</td>\n",
       "      <td>-0.002</td>\n",
       "      <td>0.0</td>\n",
       "      <td>0.0</td>\n",
       "      <td>3269.0</td>\n",
       "    </tr>\n",
       "    <tr>\n",
       "      <th>1993-01-08</th>\n",
       "      <td>3269.0</td>\n",
       "      <td>3305.2</td>\n",
       "      <td>3269.00</td>\n",
       "      <td>3313.27</td>\n",
       "      <td>3260.86</td>\n",
       "      <td>36820000.0</td>\n",
       "      <td>3298.482</td>\n",
       "      <td>3305.120</td>\n",
       "      <td>3286.331</td>\n",
       "      <td>0.998</td>\n",
       "      <td>...</td>\n",
       "      <td>1.807</td>\n",
       "      <td>1.704</td>\n",
       "      <td>-0.011</td>\n",
       "      <td>-0.016</td>\n",
       "      <td>-0.012</td>\n",
       "      <td>0.019</td>\n",
       "      <td>-0.000</td>\n",
       "      <td>0.0</td>\n",
       "      <td>0.0</td>\n",
       "      <td>3251.7</td>\n",
       "    </tr>\n",
       "  </tbody>\n",
       "</table>\n",
       "<p>5 rows × 38 columns</p>\n",
       "</div>"
      ],
      "text/plain": [
       "              open  open_1  close_1   high_1    low_1    volume_1  \\\n",
       "Date                                                                \n",
       "1993-01-04  3301.1  3321.1  3301.11  3327.86  3301.11  13860000.0   \n",
       "1993-01-05  3309.2  3301.1  3309.20  3319.21  3298.68  21400000.0   \n",
       "1993-01-06  3307.9  3309.2  3307.90  3320.83  3300.57  28060000.0   \n",
       "1993-01-07  3305.2  3307.9  3305.20  3312.19  3290.58  35790000.0   \n",
       "1993-01-08  3269.0  3305.2  3269.00  3313.27  3260.86  36820000.0   \n",
       "\n",
       "            avg_price_5  avg_price_30  avg_price_365  ratio_avg_price_5_30  \\\n",
       "Date                                                                         \n",
       "1993-01-04     3318.494      3303.572       3284.851                 1.005   \n",
       "1993-01-05     3315.094      3304.662       3285.284                 1.003   \n",
       "1993-01-06     3310.022      3306.158       3285.693                 1.001   \n",
       "1993-01-07     3308.902      3306.943       3286.095                 1.001   \n",
       "1993-01-08     3298.482      3305.120       3286.331                 0.998   \n",
       "\n",
       "            ...  ratio_std_volume_5_365  ratio_std_volume_30_365  return_1  \\\n",
       "Date        ...                                                              \n",
       "1993-01-04  ...                   1.098                    1.559    -0.006   \n",
       "1993-01-05  ...                   0.970                    1.562     0.002   \n",
       "1993-01-06  ...                   1.145                    1.571    -0.000   \n",
       "1993-01-07  ...                   1.692                    1.639    -0.001   \n",
       "1993-01-08  ...                   1.807                    1.704    -0.011   \n",
       "\n",
       "            return_5  return_30  return_365  moving_avg_5  moving_avg_30  \\\n",
       "Date                                                                       \n",
       "1993-01-04    -0.004      0.002       0.031         0.000            0.0   \n",
       "1993-01-05    -0.005      0.007       0.034        -0.001            0.0   \n",
       "1993-01-06    -0.008      0.010       0.032        -0.001            0.0   \n",
       "1993-01-07    -0.002      0.005       0.032        -0.002            0.0   \n",
       "1993-01-08    -0.016     -0.012       0.019        -0.000            0.0   \n",
       "\n",
       "            moving_avg_365   close  \n",
       "Date                                \n",
       "1993-01-04             0.0  3309.2  \n",
       "1993-01-05             0.0  3307.9  \n",
       "1993-01-06             0.0  3305.2  \n",
       "1993-01-07             0.0  3269.0  \n",
       "1993-01-08             0.0  3251.7  \n",
       "\n",
       "[5 rows x 38 columns]"
      ]
     },
     "execution_count": 74,
     "metadata": {},
     "output_type": "execute_result"
    }
   ],
   "source": [
    "df.round(decimals=3).head(5)"
   ]
  },
  {
   "cell_type": "code",
   "execution_count": 75,
   "id": "88f40469-024b-440b-9ead-5617de52f505",
   "metadata": {},
   "outputs": [
    {
     "data": {
      "text/plain": [
       "(6798, 38)"
      ]
     },
     "execution_count": 75,
     "metadata": {},
     "output_type": "execute_result"
    }
   ],
   "source": [
    "df.shape"
   ]
  },
  {
   "cell_type": "code",
   "execution_count": 10,
   "id": "b320776f-6119-45a8-94ff-732f4b790d3c",
   "metadata": {},
   "outputs": [],
   "source": [
    "start_train = '1988-01-01'\n",
    "end_train = '2018-12-31'\n",
    "\n",
    "start_test = '2019-01-01'\n",
    "end_test = '2019-12-31'\n",
    "\n",
    "df_train = df.loc[start_train:end_train]\n",
    "X_train = df_train.drop('close', axis=1).values\n",
    "y_train = df_train['close'].values"
   ]
  },
  {
   "cell_type": "code",
   "execution_count": 76,
   "id": "5f59af42-9cba-4460-85ed-430133ea30f9",
   "metadata": {},
   "outputs": [
    {
     "data": {
      "text/plain": [
       "(6547, 37)"
      ]
     },
     "execution_count": 76,
     "metadata": {},
     "output_type": "execute_result"
    }
   ],
   "source": [
    "X_train.shape"
   ]
  },
  {
   "cell_type": "code",
   "execution_count": 77,
   "id": "7f2df1f9-2749-4a6c-a6b1-9ef361973bc9",
   "metadata": {},
   "outputs": [],
   "source": [
    "df_test = df.loc[start_test:end_test]\n",
    "X_test = df_test.drop('close', axis=1).values\n",
    "y_test = df_test['close'].values"
   ]
  },
  {
   "cell_type": "markdown",
   "id": "06559a0c-3210-4480-8271-577367a364e8",
   "metadata": {},
   "source": [
    "# Linear regression\n",
    "\n",
    "SGD based algorithms are sensitive to data with features at very different scales. This means that we need to normalize features into the same or comparable scale. "
   ]
  },
  {
   "cell_type": "code",
   "execution_count": 78,
   "id": "ecb8b580-34e6-432e-9cd0-fd7208391ff8",
   "metadata": {},
   "outputs": [],
   "source": [
    "from sklearn.preprocessing import StandardScaler\n",
    "from sklearn.linear_model import SGDRegressor\n",
    "from sklearn.model_selection import GridSearchCV\n",
    "from sklearn.metrics import mean_squared_error, mean_absolute_error, r2_score"
   ]
  },
  {
   "cell_type": "code",
   "execution_count": 79,
   "id": "1c45cc11-c273-4720-8e7c-d9846900ebc6",
   "metadata": {},
   "outputs": [],
   "source": [
    "scaler = StandardScaler()\n",
    "\n",
    "X_train_scaled = scaler.fit_transform(X_train)\n",
    "X_test_scaled = scaler.transform(X_test)"
   ]
  },
  {
   "cell_type": "code",
   "execution_count": 80,
   "id": "7ac19d34-0dc1-4e0e-acf7-074980d86d0e",
   "metadata": {},
   "outputs": [],
   "source": [
    "param_grid = {\n",
    "    \"alpha\": [1e-4, 3e-4, 1e-3],\n",
    "    \"eta0\": [0.01, 0.03, 0.1],\n",
    "}"
   ]
  },
  {
   "cell_type": "code",
   "execution_count": 81,
   "id": "c12673b3-9282-4215-808a-c2ada11f9968",
   "metadata": {},
   "outputs": [
    {
     "data": {
      "text/html": [
       "<style>#sk-container-id-1 {color: black;background-color: white;}#sk-container-id-1 pre{padding: 0;}#sk-container-id-1 div.sk-toggleable {background-color: white;}#sk-container-id-1 label.sk-toggleable__label {cursor: pointer;display: block;width: 100%;margin-bottom: 0;padding: 0.3em;box-sizing: border-box;text-align: center;}#sk-container-id-1 label.sk-toggleable__label-arrow:before {content: \"▸\";float: left;margin-right: 0.25em;color: #696969;}#sk-container-id-1 label.sk-toggleable__label-arrow:hover:before {color: black;}#sk-container-id-1 div.sk-estimator:hover label.sk-toggleable__label-arrow:before {color: black;}#sk-container-id-1 div.sk-toggleable__content {max-height: 0;max-width: 0;overflow: hidden;text-align: left;background-color: #f0f8ff;}#sk-container-id-1 div.sk-toggleable__content pre {margin: 0.2em;color: black;border-radius: 0.25em;background-color: #f0f8ff;}#sk-container-id-1 input.sk-toggleable__control:checked~div.sk-toggleable__content {max-height: 200px;max-width: 100%;overflow: auto;}#sk-container-id-1 input.sk-toggleable__control:checked~label.sk-toggleable__label-arrow:before {content: \"▾\";}#sk-container-id-1 div.sk-estimator input.sk-toggleable__control:checked~label.sk-toggleable__label {background-color: #d4ebff;}#sk-container-id-1 div.sk-label input.sk-toggleable__control:checked~label.sk-toggleable__label {background-color: #d4ebff;}#sk-container-id-1 input.sk-hidden--visually {border: 0;clip: rect(1px 1px 1px 1px);clip: rect(1px, 1px, 1px, 1px);height: 1px;margin: -1px;overflow: hidden;padding: 0;position: absolute;width: 1px;}#sk-container-id-1 div.sk-estimator {font-family: monospace;background-color: #f0f8ff;border: 1px dotted black;border-radius: 0.25em;box-sizing: border-box;margin-bottom: 0.5em;}#sk-container-id-1 div.sk-estimator:hover {background-color: #d4ebff;}#sk-container-id-1 div.sk-parallel-item::after {content: \"\";width: 100%;border-bottom: 1px solid gray;flex-grow: 1;}#sk-container-id-1 div.sk-label:hover label.sk-toggleable__label {background-color: #d4ebff;}#sk-container-id-1 div.sk-serial::before {content: \"\";position: absolute;border-left: 1px solid gray;box-sizing: border-box;top: 0;bottom: 0;left: 50%;z-index: 0;}#sk-container-id-1 div.sk-serial {display: flex;flex-direction: column;align-items: center;background-color: white;padding-right: 0.2em;padding-left: 0.2em;position: relative;}#sk-container-id-1 div.sk-item {position: relative;z-index: 1;}#sk-container-id-1 div.sk-parallel {display: flex;align-items: stretch;justify-content: center;background-color: white;position: relative;}#sk-container-id-1 div.sk-item::before, #sk-container-id-1 div.sk-parallel-item::before {content: \"\";position: absolute;border-left: 1px solid gray;box-sizing: border-box;top: 0;bottom: 0;left: 50%;z-index: -1;}#sk-container-id-1 div.sk-parallel-item {display: flex;flex-direction: column;z-index: 1;position: relative;background-color: white;}#sk-container-id-1 div.sk-parallel-item:first-child::after {align-self: flex-end;width: 50%;}#sk-container-id-1 div.sk-parallel-item:last-child::after {align-self: flex-start;width: 50%;}#sk-container-id-1 div.sk-parallel-item:only-child::after {width: 0;}#sk-container-id-1 div.sk-dashed-wrapped {border: 1px dashed gray;margin: 0 0.4em 0.5em 0.4em;box-sizing: border-box;padding-bottom: 0.4em;background-color: white;}#sk-container-id-1 div.sk-label label {font-family: monospace;font-weight: bold;display: inline-block;line-height: 1.2em;}#sk-container-id-1 div.sk-label-container {text-align: center;}#sk-container-id-1 div.sk-container {/* jupyter's `normalize.less` sets `[hidden] { display: none; }` but bootstrap.min.css set `[hidden] { display: none !important; }` so we also need the `!important` here to be able to override the default hidden behavior on the sphinx rendered scikit-learn.org. See: https://github.com/scikit-learn/scikit-learn/issues/21755 */display: inline-block !important;position: relative;}#sk-container-id-1 div.sk-text-repr-fallback {display: none;}</style><div id=\"sk-container-id-1\" class=\"sk-top-container\"><div class=\"sk-text-repr-fallback\"><pre>GridSearchCV(cv=5, estimator=SGDRegressor(random_state=42),\n",
       "             param_grid={&#x27;alpha&#x27;: [0.0001, 0.0003, 0.001],\n",
       "                         &#x27;eta0&#x27;: [0.01, 0.03, 0.1]},\n",
       "             scoring=&#x27;r2&#x27;)</pre><b>In a Jupyter environment, please rerun this cell to show the HTML representation or trust the notebook. <br />On GitHub, the HTML representation is unable to render, please try loading this page with nbviewer.org.</b></div><div class=\"sk-container\" hidden><div class=\"sk-item sk-dashed-wrapped\"><div class=\"sk-label-container\"><div class=\"sk-label sk-toggleable\"><input class=\"sk-toggleable__control sk-hidden--visually\" id=\"sk-estimator-id-1\" type=\"checkbox\" ><label for=\"sk-estimator-id-1\" class=\"sk-toggleable__label sk-toggleable__label-arrow\">GridSearchCV</label><div class=\"sk-toggleable__content\"><pre>GridSearchCV(cv=5, estimator=SGDRegressor(random_state=42),\n",
       "             param_grid={&#x27;alpha&#x27;: [0.0001, 0.0003, 0.001],\n",
       "                         &#x27;eta0&#x27;: [0.01, 0.03, 0.1]},\n",
       "             scoring=&#x27;r2&#x27;)</pre></div></div></div><div class=\"sk-parallel\"><div class=\"sk-parallel-item\"><div class=\"sk-item\"><div class=\"sk-label-container\"><div class=\"sk-label sk-toggleable\"><input class=\"sk-toggleable__control sk-hidden--visually\" id=\"sk-estimator-id-2\" type=\"checkbox\" ><label for=\"sk-estimator-id-2\" class=\"sk-toggleable__label sk-toggleable__label-arrow\">estimator: SGDRegressor</label><div class=\"sk-toggleable__content\"><pre>SGDRegressor(random_state=42)</pre></div></div></div><div class=\"sk-serial\"><div class=\"sk-item\"><div class=\"sk-estimator sk-toggleable\"><input class=\"sk-toggleable__control sk-hidden--visually\" id=\"sk-estimator-id-3\" type=\"checkbox\" ><label for=\"sk-estimator-id-3\" class=\"sk-toggleable__label sk-toggleable__label-arrow\">SGDRegressor</label><div class=\"sk-toggleable__content\"><pre>SGDRegressor(random_state=42)</pre></div></div></div></div></div></div></div></div></div></div>"
      ],
      "text/plain": [
       "GridSearchCV(cv=5, estimator=SGDRegressor(random_state=42),\n",
       "             param_grid={'alpha': [0.0001, 0.0003, 0.001],\n",
       "                         'eta0': [0.01, 0.03, 0.1]},\n",
       "             scoring='r2')"
      ]
     },
     "execution_count": 81,
     "metadata": {},
     "output_type": "execute_result"
    }
   ],
   "source": [
    "lr = SGDRegressor(penalty='l2',\n",
    "                  max_iter=1000,\n",
    "                  random_state=42)\n",
    "grid_search = GridSearchCV(lr, param_grid, cv=5, scoring='r2')\n",
    "grid_search.fit(X_train_scaled, y_train)"
   ]
  },
  {
   "cell_type": "code",
   "execution_count": 82,
   "id": "141caeec-7b4b-4ad0-b465-1ab01201a488",
   "metadata": {},
   "outputs": [
    {
     "data": {
      "text/plain": [
       "{'alpha': 0.0001, 'eta0': 0.01}"
      ]
     },
     "execution_count": 82,
     "metadata": {},
     "output_type": "execute_result"
    }
   ],
   "source": [
    "grid_search.best_params_"
   ]
  },
  {
   "cell_type": "code",
   "execution_count": 83,
   "id": "36af9e18-9a42-46ff-aefe-507676cdd3a4",
   "metadata": {},
   "outputs": [],
   "source": [
    "lr_best = grid_search.best_estimator_\n",
    "pred_lr = lr_best.predict(X_test_scaled)"
   ]
  },
  {
   "cell_type": "code",
   "execution_count": 99,
   "id": "91897225-02e4-40c6-9974-81c7661ff9ee",
   "metadata": {},
   "outputs": [
    {
     "name": "stdout",
     "output_type": "stream",
     "text": [
      "Linear Regression MSE: 43200.359\n",
      "Linear Regression MAE: 156.997\n",
      "Linear Regression R^2: 0.962\n"
     ]
    }
   ],
   "source": [
    "print(f'Linear Regression MSE: {mean_squared_error(y_test, pred_lr):.3f}')\n",
    "print(f'Linear Regression MAE: {mean_absolute_error(y_test, pred_lr):.3f}')\n",
    "print(f'Linear Regression R^2: {r2_score(y_test, pred_lr):.3f}')"
   ]
  },
  {
   "cell_type": "markdown",
   "id": "6839f1ff-bf5d-423c-80f3-1bc7a0ffc976",
   "metadata": {},
   "source": [
    "# Random forest"
   ]
  },
  {
   "cell_type": "code",
   "execution_count": 85,
   "id": "580e760c-5625-4650-a861-76caaff927e6",
   "metadata": {},
   "outputs": [],
   "source": [
    "from sklearn.ensemble import RandomForestRegressor"
   ]
  },
  {
   "cell_type": "code",
   "execution_count": 86,
   "id": "69851f69-0974-4c94-a7ba-fd4530be4c49",
   "metadata": {},
   "outputs": [],
   "source": [
    "param_grid = {\n",
    "    'max_depth': [30, 50],\n",
    "    'min_samples_split': [2, 5, 10],\n",
    "    'min_samples_leaf': [3, 5]\n",
    "}"
   ]
  },
  {
   "cell_type": "code",
   "execution_count": 87,
   "id": "51a122ce-cbe2-4d9a-bade-4bf47ea8c13a",
   "metadata": {},
   "outputs": [
    {
     "data": {
      "text/html": [
       "<style>#sk-container-id-2 {color: black;background-color: white;}#sk-container-id-2 pre{padding: 0;}#sk-container-id-2 div.sk-toggleable {background-color: white;}#sk-container-id-2 label.sk-toggleable__label {cursor: pointer;display: block;width: 100%;margin-bottom: 0;padding: 0.3em;box-sizing: border-box;text-align: center;}#sk-container-id-2 label.sk-toggleable__label-arrow:before {content: \"▸\";float: left;margin-right: 0.25em;color: #696969;}#sk-container-id-2 label.sk-toggleable__label-arrow:hover:before {color: black;}#sk-container-id-2 div.sk-estimator:hover label.sk-toggleable__label-arrow:before {color: black;}#sk-container-id-2 div.sk-toggleable__content {max-height: 0;max-width: 0;overflow: hidden;text-align: left;background-color: #f0f8ff;}#sk-container-id-2 div.sk-toggleable__content pre {margin: 0.2em;color: black;border-radius: 0.25em;background-color: #f0f8ff;}#sk-container-id-2 input.sk-toggleable__control:checked~div.sk-toggleable__content {max-height: 200px;max-width: 100%;overflow: auto;}#sk-container-id-2 input.sk-toggleable__control:checked~label.sk-toggleable__label-arrow:before {content: \"▾\";}#sk-container-id-2 div.sk-estimator input.sk-toggleable__control:checked~label.sk-toggleable__label {background-color: #d4ebff;}#sk-container-id-2 div.sk-label input.sk-toggleable__control:checked~label.sk-toggleable__label {background-color: #d4ebff;}#sk-container-id-2 input.sk-hidden--visually {border: 0;clip: rect(1px 1px 1px 1px);clip: rect(1px, 1px, 1px, 1px);height: 1px;margin: -1px;overflow: hidden;padding: 0;position: absolute;width: 1px;}#sk-container-id-2 div.sk-estimator {font-family: monospace;background-color: #f0f8ff;border: 1px dotted black;border-radius: 0.25em;box-sizing: border-box;margin-bottom: 0.5em;}#sk-container-id-2 div.sk-estimator:hover {background-color: #d4ebff;}#sk-container-id-2 div.sk-parallel-item::after {content: \"\";width: 100%;border-bottom: 1px solid gray;flex-grow: 1;}#sk-container-id-2 div.sk-label:hover label.sk-toggleable__label {background-color: #d4ebff;}#sk-container-id-2 div.sk-serial::before {content: \"\";position: absolute;border-left: 1px solid gray;box-sizing: border-box;top: 0;bottom: 0;left: 50%;z-index: 0;}#sk-container-id-2 div.sk-serial {display: flex;flex-direction: column;align-items: center;background-color: white;padding-right: 0.2em;padding-left: 0.2em;position: relative;}#sk-container-id-2 div.sk-item {position: relative;z-index: 1;}#sk-container-id-2 div.sk-parallel {display: flex;align-items: stretch;justify-content: center;background-color: white;position: relative;}#sk-container-id-2 div.sk-item::before, #sk-container-id-2 div.sk-parallel-item::before {content: \"\";position: absolute;border-left: 1px solid gray;box-sizing: border-box;top: 0;bottom: 0;left: 50%;z-index: -1;}#sk-container-id-2 div.sk-parallel-item {display: flex;flex-direction: column;z-index: 1;position: relative;background-color: white;}#sk-container-id-2 div.sk-parallel-item:first-child::after {align-self: flex-end;width: 50%;}#sk-container-id-2 div.sk-parallel-item:last-child::after {align-self: flex-start;width: 50%;}#sk-container-id-2 div.sk-parallel-item:only-child::after {width: 0;}#sk-container-id-2 div.sk-dashed-wrapped {border: 1px dashed gray;margin: 0 0.4em 0.5em 0.4em;box-sizing: border-box;padding-bottom: 0.4em;background-color: white;}#sk-container-id-2 div.sk-label label {font-family: monospace;font-weight: bold;display: inline-block;line-height: 1.2em;}#sk-container-id-2 div.sk-label-container {text-align: center;}#sk-container-id-2 div.sk-container {/* jupyter's `normalize.less` sets `[hidden] { display: none; }` but bootstrap.min.css set `[hidden] { display: none !important; }` so we also need the `!important` here to be able to override the default hidden behavior on the sphinx rendered scikit-learn.org. See: https://github.com/scikit-learn/scikit-learn/issues/21755 */display: inline-block !important;position: relative;}#sk-container-id-2 div.sk-text-repr-fallback {display: none;}</style><div id=\"sk-container-id-2\" class=\"sk-top-container\"><div class=\"sk-text-repr-fallback\"><pre>GridSearchCV(cv=5, estimator=RandomForestRegressor(n_jobs=-1, random_state=42),\n",
       "             n_jobs=-1,\n",
       "             param_grid={&#x27;max_depth&#x27;: [30, 50], &#x27;min_samples_leaf&#x27;: [3, 5],\n",
       "                         &#x27;min_samples_split&#x27;: [2, 5, 10]},\n",
       "             scoring=&#x27;r2&#x27;)</pre><b>In a Jupyter environment, please rerun this cell to show the HTML representation or trust the notebook. <br />On GitHub, the HTML representation is unable to render, please try loading this page with nbviewer.org.</b></div><div class=\"sk-container\" hidden><div class=\"sk-item sk-dashed-wrapped\"><div class=\"sk-label-container\"><div class=\"sk-label sk-toggleable\"><input class=\"sk-toggleable__control sk-hidden--visually\" id=\"sk-estimator-id-4\" type=\"checkbox\" ><label for=\"sk-estimator-id-4\" class=\"sk-toggleable__label sk-toggleable__label-arrow\">GridSearchCV</label><div class=\"sk-toggleable__content\"><pre>GridSearchCV(cv=5, estimator=RandomForestRegressor(n_jobs=-1, random_state=42),\n",
       "             n_jobs=-1,\n",
       "             param_grid={&#x27;max_depth&#x27;: [30, 50], &#x27;min_samples_leaf&#x27;: [3, 5],\n",
       "                         &#x27;min_samples_split&#x27;: [2, 5, 10]},\n",
       "             scoring=&#x27;r2&#x27;)</pre></div></div></div><div class=\"sk-parallel\"><div class=\"sk-parallel-item\"><div class=\"sk-item\"><div class=\"sk-label-container\"><div class=\"sk-label sk-toggleable\"><input class=\"sk-toggleable__control sk-hidden--visually\" id=\"sk-estimator-id-5\" type=\"checkbox\" ><label for=\"sk-estimator-id-5\" class=\"sk-toggleable__label sk-toggleable__label-arrow\">estimator: RandomForestRegressor</label><div class=\"sk-toggleable__content\"><pre>RandomForestRegressor(n_jobs=-1, random_state=42)</pre></div></div></div><div class=\"sk-serial\"><div class=\"sk-item\"><div class=\"sk-estimator sk-toggleable\"><input class=\"sk-toggleable__control sk-hidden--visually\" id=\"sk-estimator-id-6\" type=\"checkbox\" ><label for=\"sk-estimator-id-6\" class=\"sk-toggleable__label sk-toggleable__label-arrow\">RandomForestRegressor</label><div class=\"sk-toggleable__content\"><pre>RandomForestRegressor(n_jobs=-1, random_state=42)</pre></div></div></div></div></div></div></div></div></div></div>"
      ],
      "text/plain": [
       "GridSearchCV(cv=5, estimator=RandomForestRegressor(n_jobs=-1, random_state=42),\n",
       "             n_jobs=-1,\n",
       "             param_grid={'max_depth': [30, 50], 'min_samples_leaf': [3, 5],\n",
       "                         'min_samples_split': [2, 5, 10]},\n",
       "             scoring='r2')"
      ]
     },
     "execution_count": 87,
     "metadata": {},
     "output_type": "execute_result"
    }
   ],
   "source": [
    "rf = RandomForestRegressor(n_estimators=100,\n",
    "                           n_jobs=-1,\n",
    "                           max_features=1.0,\n",
    "                           random_state=42)\n",
    "grid_search = GridSearchCV(rf, param_grid, cv=5, scoring='r2', n_jobs=-1)\n",
    "grid_search.fit(X_train, y_train)"
   ]
  },
  {
   "cell_type": "code",
   "execution_count": 88,
   "id": "3ecd544a-c47f-4eb2-b4b7-18b1dca93fdf",
   "metadata": {},
   "outputs": [
    {
     "data": {
      "text/plain": [
       "{'max_depth': 30, 'min_samples_leaf': 3, 'min_samples_split': 10}"
      ]
     },
     "execution_count": 88,
     "metadata": {},
     "output_type": "execute_result"
    }
   ],
   "source": [
    "grid_search.best_params_"
   ]
  },
  {
   "cell_type": "code",
   "execution_count": 89,
   "id": "3261fc9c-ab76-43f2-86cd-8ac8bbe4a3a4",
   "metadata": {},
   "outputs": [],
   "source": [
    "rf_best = grid_search.best_estimator_\n",
    "pred_rf = rf_best.predict(X_test)"
   ]
  },
  {
   "cell_type": "code",
   "execution_count": 101,
   "id": "b087c410-b80c-4e97-a173-ac5fe3c41a43",
   "metadata": {},
   "outputs": [
    {
     "name": "stdout",
     "output_type": "stream",
     "text": [
      "Random forest MSE: 415269.945\n",
      "Random forest MAE: 417.476\n",
      "Random forest R^2: 0.638\n"
     ]
    }
   ],
   "source": [
    "print(f'Random forest MSE: {mean_squared_error(y_test, pred_rf):.3f}')\n",
    "print(f'Random forest MAE: {mean_absolute_error(y_test, pred_rf):.3f}')\n",
    "print(f'Random forest R^2: {r2_score(y_test, pred_rf):.3f}')"
   ]
  },
  {
   "cell_type": "markdown",
   "id": "fa3e6e92-5465-46e7-9619-cbef47409a1e",
   "metadata": {},
   "source": [
    "# Support vector regression\n",
    "\n",
    "Similar to SGD based algorithms, SVR doesn't work well on data with feature scale disparity, so we will use the scaled data."
   ]
  },
  {
   "cell_type": "code",
   "execution_count": 91,
   "id": "efed86d4-02ff-4836-86ba-bac6fea0fe83",
   "metadata": {},
   "outputs": [],
   "source": [
    "from sklearn.svm import SVR"
   ]
  },
  {
   "cell_type": "code",
   "execution_count": 92,
   "id": "1efcb459-1a63-447c-bfe0-177e99d78e92",
   "metadata": {},
   "outputs": [],
   "source": [
    "param_grid = [\n",
    "    {'kernel': ['linear'], 'C': [100, 300, 500],\n",
    "     'epsilon': [0.00003, 0.0001]},\n",
    "    {'kernel': ['rbf'], 'gamma': [1e-3, 1e-4],\n",
    "     'C': [10, 100, 1000], 'epsilon': [0.00003, 0.0001]}\n",
    "]"
   ]
  },
  {
   "cell_type": "code",
   "execution_count": 93,
   "id": "f577667a-91e8-4023-ba38-cf0ebaca9870",
   "metadata": {},
   "outputs": [
    {
     "data": {
      "text/html": [
       "<style>#sk-container-id-3 {color: black;background-color: white;}#sk-container-id-3 pre{padding: 0;}#sk-container-id-3 div.sk-toggleable {background-color: white;}#sk-container-id-3 label.sk-toggleable__label {cursor: pointer;display: block;width: 100%;margin-bottom: 0;padding: 0.3em;box-sizing: border-box;text-align: center;}#sk-container-id-3 label.sk-toggleable__label-arrow:before {content: \"▸\";float: left;margin-right: 0.25em;color: #696969;}#sk-container-id-3 label.sk-toggleable__label-arrow:hover:before {color: black;}#sk-container-id-3 div.sk-estimator:hover label.sk-toggleable__label-arrow:before {color: black;}#sk-container-id-3 div.sk-toggleable__content {max-height: 0;max-width: 0;overflow: hidden;text-align: left;background-color: #f0f8ff;}#sk-container-id-3 div.sk-toggleable__content pre {margin: 0.2em;color: black;border-radius: 0.25em;background-color: #f0f8ff;}#sk-container-id-3 input.sk-toggleable__control:checked~div.sk-toggleable__content {max-height: 200px;max-width: 100%;overflow: auto;}#sk-container-id-3 input.sk-toggleable__control:checked~label.sk-toggleable__label-arrow:before {content: \"▾\";}#sk-container-id-3 div.sk-estimator input.sk-toggleable__control:checked~label.sk-toggleable__label {background-color: #d4ebff;}#sk-container-id-3 div.sk-label input.sk-toggleable__control:checked~label.sk-toggleable__label {background-color: #d4ebff;}#sk-container-id-3 input.sk-hidden--visually {border: 0;clip: rect(1px 1px 1px 1px);clip: rect(1px, 1px, 1px, 1px);height: 1px;margin: -1px;overflow: hidden;padding: 0;position: absolute;width: 1px;}#sk-container-id-3 div.sk-estimator {font-family: monospace;background-color: #f0f8ff;border: 1px dotted black;border-radius: 0.25em;box-sizing: border-box;margin-bottom: 0.5em;}#sk-container-id-3 div.sk-estimator:hover {background-color: #d4ebff;}#sk-container-id-3 div.sk-parallel-item::after {content: \"\";width: 100%;border-bottom: 1px solid gray;flex-grow: 1;}#sk-container-id-3 div.sk-label:hover label.sk-toggleable__label {background-color: #d4ebff;}#sk-container-id-3 div.sk-serial::before {content: \"\";position: absolute;border-left: 1px solid gray;box-sizing: border-box;top: 0;bottom: 0;left: 50%;z-index: 0;}#sk-container-id-3 div.sk-serial {display: flex;flex-direction: column;align-items: center;background-color: white;padding-right: 0.2em;padding-left: 0.2em;position: relative;}#sk-container-id-3 div.sk-item {position: relative;z-index: 1;}#sk-container-id-3 div.sk-parallel {display: flex;align-items: stretch;justify-content: center;background-color: white;position: relative;}#sk-container-id-3 div.sk-item::before, #sk-container-id-3 div.sk-parallel-item::before {content: \"\";position: absolute;border-left: 1px solid gray;box-sizing: border-box;top: 0;bottom: 0;left: 50%;z-index: -1;}#sk-container-id-3 div.sk-parallel-item {display: flex;flex-direction: column;z-index: 1;position: relative;background-color: white;}#sk-container-id-3 div.sk-parallel-item:first-child::after {align-self: flex-end;width: 50%;}#sk-container-id-3 div.sk-parallel-item:last-child::after {align-self: flex-start;width: 50%;}#sk-container-id-3 div.sk-parallel-item:only-child::after {width: 0;}#sk-container-id-3 div.sk-dashed-wrapped {border: 1px dashed gray;margin: 0 0.4em 0.5em 0.4em;box-sizing: border-box;padding-bottom: 0.4em;background-color: white;}#sk-container-id-3 div.sk-label label {font-family: monospace;font-weight: bold;display: inline-block;line-height: 1.2em;}#sk-container-id-3 div.sk-label-container {text-align: center;}#sk-container-id-3 div.sk-container {/* jupyter's `normalize.less` sets `[hidden] { display: none; }` but bootstrap.min.css set `[hidden] { display: none !important; }` so we also need the `!important` here to be able to override the default hidden behavior on the sphinx rendered scikit-learn.org. See: https://github.com/scikit-learn/scikit-learn/issues/21755 */display: inline-block !important;position: relative;}#sk-container-id-3 div.sk-text-repr-fallback {display: none;}</style><div id=\"sk-container-id-3\" class=\"sk-top-container\"><div class=\"sk-text-repr-fallback\"><pre>GridSearchCV(cv=5, estimator=SVR(),\n",
       "             param_grid=[{&#x27;C&#x27;: [100, 300, 500], &#x27;epsilon&#x27;: [3e-05, 0.0001],\n",
       "                          &#x27;kernel&#x27;: [&#x27;linear&#x27;]},\n",
       "                         {&#x27;C&#x27;: [10, 100, 1000], &#x27;epsilon&#x27;: [3e-05, 0.0001],\n",
       "                          &#x27;gamma&#x27;: [0.001, 0.0001], &#x27;kernel&#x27;: [&#x27;rbf&#x27;]}],\n",
       "             scoring=&#x27;r2&#x27;)</pre><b>In a Jupyter environment, please rerun this cell to show the HTML representation or trust the notebook. <br />On GitHub, the HTML representation is unable to render, please try loading this page with nbviewer.org.</b></div><div class=\"sk-container\" hidden><div class=\"sk-item sk-dashed-wrapped\"><div class=\"sk-label-container\"><div class=\"sk-label sk-toggleable\"><input class=\"sk-toggleable__control sk-hidden--visually\" id=\"sk-estimator-id-7\" type=\"checkbox\" ><label for=\"sk-estimator-id-7\" class=\"sk-toggleable__label sk-toggleable__label-arrow\">GridSearchCV</label><div class=\"sk-toggleable__content\"><pre>GridSearchCV(cv=5, estimator=SVR(),\n",
       "             param_grid=[{&#x27;C&#x27;: [100, 300, 500], &#x27;epsilon&#x27;: [3e-05, 0.0001],\n",
       "                          &#x27;kernel&#x27;: [&#x27;linear&#x27;]},\n",
       "                         {&#x27;C&#x27;: [10, 100, 1000], &#x27;epsilon&#x27;: [3e-05, 0.0001],\n",
       "                          &#x27;gamma&#x27;: [0.001, 0.0001], &#x27;kernel&#x27;: [&#x27;rbf&#x27;]}],\n",
       "             scoring=&#x27;r2&#x27;)</pre></div></div></div><div class=\"sk-parallel\"><div class=\"sk-parallel-item\"><div class=\"sk-item\"><div class=\"sk-label-container\"><div class=\"sk-label sk-toggleable\"><input class=\"sk-toggleable__control sk-hidden--visually\" id=\"sk-estimator-id-8\" type=\"checkbox\" ><label for=\"sk-estimator-id-8\" class=\"sk-toggleable__label sk-toggleable__label-arrow\">estimator: SVR</label><div class=\"sk-toggleable__content\"><pre>SVR()</pre></div></div></div><div class=\"sk-serial\"><div class=\"sk-item\"><div class=\"sk-estimator sk-toggleable\"><input class=\"sk-toggleable__control sk-hidden--visually\" id=\"sk-estimator-id-9\" type=\"checkbox\" ><label for=\"sk-estimator-id-9\" class=\"sk-toggleable__label sk-toggleable__label-arrow\">SVR</label><div class=\"sk-toggleable__content\"><pre>SVR()</pre></div></div></div></div></div></div></div></div></div></div>"
      ],
      "text/plain": [
       "GridSearchCV(cv=5, estimator=SVR(),\n",
       "             param_grid=[{'C': [100, 300, 500], 'epsilon': [3e-05, 0.0001],\n",
       "                          'kernel': ['linear']},\n",
       "                         {'C': [10, 100, 1000], 'epsilon': [3e-05, 0.0001],\n",
       "                          'gamma': [0.001, 0.0001], 'kernel': ['rbf']}],\n",
       "             scoring='r2')"
      ]
     },
     "execution_count": 93,
     "metadata": {},
     "output_type": "execute_result"
    }
   ],
   "source": [
    "svr = SVR()\n",
    "grid_search = GridSearchCV(svr, param_grid, cv=5, scoring='r2')\n",
    "grid_search.fit(X_train_scaled, y_train)"
   ]
  },
  {
   "cell_type": "code",
   "execution_count": 94,
   "id": "e5a9ad74-4ef3-4897-8407-3a4317a69d69",
   "metadata": {},
   "outputs": [
    {
     "data": {
      "text/plain": [
       "{'C': 500, 'epsilon': 3e-05, 'kernel': 'linear'}"
      ]
     },
     "execution_count": 94,
     "metadata": {},
     "output_type": "execute_result"
    }
   ],
   "source": [
    "grid_search.best_params_"
   ]
  },
  {
   "cell_type": "code",
   "execution_count": 95,
   "id": "58618eb3-a529-4537-800e-4b3602b1ed74",
   "metadata": {},
   "outputs": [],
   "source": [
    "svr_best = grid_search.best_estimator_\n",
    "pred_svr = svr_best.predict(X_test_scaled)"
   ]
  },
  {
   "cell_type": "code",
   "execution_count": 103,
   "id": "12eda951-fc6b-40ff-a4dc-3dc4b9bcbe10",
   "metadata": {},
   "outputs": [
    {
     "name": "stdout",
     "output_type": "stream",
     "text": [
      "Support vector regression MSE: 29486.743\n",
      "Support vector regression MAE: 122.581\n",
      "Support vector regression R^2: 0.974\n"
     ]
    }
   ],
   "source": [
    "print(f'Support vector regression MSE: {mean_squared_error(y_test, pred_svr):.3f}')\n",
    "print(f'Support vector regression MAE: {mean_absolute_error(y_test, pred_svr):.3f}')\n",
    "print(f'Support vector regression R^2: {r2_score(y_test, pred_svr):.3f}')"
   ]
  },
  {
   "cell_type": "markdown",
   "id": "998fc93c-015d-4966-b7d9-a42d8643df29",
   "metadata": {},
   "source": [
    "# Neural network"
   ]
  },
  {
   "cell_type": "code",
   "execution_count": 128,
   "id": "4d5c941b-aa8d-4dd9-bb78-f8c9f3d4b5fd",
   "metadata": {},
   "outputs": [],
   "source": [
    "import tensorflow as tf\n",
    "from tensorflow.keras import Sequential\n",
    "from tensorflow.keras.layers import Dense\n",
    "from tensorboard.plugins.hparams import api as hp\n",
    "from tensorboard import notebook"
   ]
  },
  {
   "cell_type": "markdown",
   "id": "a6288046-1056-4d5a-b30b-b9e51b950427",
   "metadata": {},
   "source": [
    "## Initialize hyperparameters to optimize"
   ]
  },
  {
   "cell_type": "code",
   "execution_count": 111,
   "id": "1ade5d65-0ae1-40aa-8f53-2258c7e16267",
   "metadata": {},
   "outputs": [],
   "source": [
    "HP_HIDDEN = hp.HParam('hidden_size', hp.Discrete([64, 32, 16]))\n",
    "HP_EPOCHS = hp.HParam('epochs', hp.Discrete([300, 1000]))\n",
    "HP_LEARNING_RATE = hp.HParam('learning_rate', hp.RealInterval(0.01, 0.4))"
   ]
  },
  {
   "cell_type": "markdown",
   "id": "e41bf41f-c9c7-459e-a760-88564c5e52f2",
   "metadata": {},
   "source": [
    "## Train and validate the model \n"
   ]
  },
  {
   "cell_type": "code",
   "execution_count": 112,
   "id": "e8382002-06db-4922-b1da-93afcdda068e",
   "metadata": {},
   "outputs": [],
   "source": [
    "def train_test_model(hparams, logdir):\n",
    "    \n",
    "    model = Sequential([\n",
    "        Dense(units=hparams[HP_HIDDEN], activation='relu'),\n",
    "        Dense(units=1)\n",
    "    ])\n",
    "    \n",
    "    model.compile(loss='mean_squared_error',\n",
    "                  optimizer=tf.keras.optimizers.Adam(hparams[HP_LEARNING_RATE]),\n",
    "                  metrics=['mean_squared_error'])\n",
    "    \n",
    "    model.fit(X_train_scaled,\n",
    "              y_train,\n",
    "              validation_data=(X_test_scaled, y_test),\n",
    "              epochs=hparams[HP_EPOCHS], \n",
    "              verbose=False,\n",
    "              callbacks=[\n",
    "                  tf.keras.callbacks.TensorBoard(logdir),\n",
    "                  hp.KerasCallback(logdir, hparams),\n",
    "                  tf.keras.callbacks.EarlyStopping(\n",
    "                      monitor='val_loss', \n",
    "                      min_delta=0,\n",
    "                      patience=200,\n",
    "                      verbose=0,\n",
    "                      mode='auto',\n",
    "                  )\n",
    "              ])\n",
    "    \n",
    "    _, mse = model.evaluate(X_test_scaled, y_test)\n",
    "    pred = model.predict(X_test_scaled)\n",
    "    r2 = r2_score(y_test, pred)\n",
    "    return mse, r2  "
   ]
  },
  {
   "cell_type": "markdown",
   "id": "799ea91e-e036-483a-80e6-5410600783db",
   "metadata": {},
   "source": [
    "The TensorBoard callback function provides visualization for the model graph and metrics during training and validation.\n",
    "\n",
    "The hyperparameters logging callback logs the hyperparameters and metrics.\n",
    "\n",
    "The early stopping callback monitors the performance on the validation set, which is the testing set in our case. If the MSE doesn't decrease after 200 epochs, it stops the training process."
   ]
  },
  {
   "cell_type": "code",
   "execution_count": 113,
   "id": "8035ab6d-4afb-4526-b3d3-fb9631fa5e9b",
   "metadata": {},
   "outputs": [],
   "source": [
    "def run(hparams, logdir):\n",
    "    with tf.summary.create_file_writer(logdir).as_default(): \n",
    "        hp.hparams_config(\n",
    "            hparams=[HP_HIDDEN, HP_EPOCHS, HP_LEARNING_RATE],\n",
    "        metrics=[hp.Metric('mean_squared_error', display_name='mse'),\n",
    "                 hp.Metric('r2', display_name='r2')],\n",
    "    )\n",
    "    mse, r2 = train_test_model(hparams, logdir)\n",
    "    tf.summary.scalar('mean_squared_error', mse, step=1)\n",
    "    tf.summary.scalar('r2', r2, step=1)"
   ]
  },
  {
   "cell_type": "code",
   "execution_count": 114,
   "id": "04bf3435-6e74-460a-b00a-6417291ecab1",
   "metadata": {},
   "outputs": [
    {
     "name": "stdout",
     "output_type": "stream",
     "text": [
      "--- Starting trial: run-1\n",
      "{'hidden_size': 16, 'epochs': 300, 'learning_rate': 0.01}\n",
      "8/8 [==============================] - 0s 462us/step - loss: 42635.6562 - mean_squared_error: 42635.6562\n",
      "8/8 [==============================] - 0s 509us/step\n",
      "--- Starting trial: run-2\n",
      "{'hidden_size': 16, 'epochs': 300, 'learning_rate': 0.11}\n",
      "8/8 [==============================] - 0s 438us/step - loss: 34291.6953 - mean_squared_error: 34291.6953\n",
      "8/8 [==============================] - 0s 439us/step\n",
      "--- Starting trial: run-3\n",
      "{'hidden_size': 16, 'epochs': 300, 'learning_rate': 0.21}\n",
      "8/8 [==============================] - 0s 462us/step - loss: 144202.5312 - mean_squared_error: 144202.5312\n",
      "8/8 [==============================] - 0s 468us/step\n",
      "--- Starting trial: run-4\n",
      "{'hidden_size': 16, 'epochs': 300, 'learning_rate': 0.3}\n",
      "8/8 [==============================] - 0s 456us/step - loss: 46720.1172 - mean_squared_error: 46720.1172\n",
      "8/8 [==============================] - 0s 467us/step\n",
      "--- Starting trial: run-5\n",
      "{'hidden_size': 16, 'epochs': 300, 'learning_rate': 0.4}\n",
      "8/8 [==============================] - 0s 452us/step - loss: 96227.7109 - mean_squared_error: 96227.7109\n",
      "8/8 [==============================] - 0s 431us/step\n",
      "--- Starting trial: run-6\n",
      "{'hidden_size': 16, 'epochs': 1000, 'learning_rate': 0.01}\n",
      "8/8 [==============================] - 0s 497us/step - loss: 44471.7852 - mean_squared_error: 44471.7852\n",
      "8/8 [==============================] - 0s 501us/step\n",
      "--- Starting trial: run-7\n",
      "{'hidden_size': 16, 'epochs': 1000, 'learning_rate': 0.11}\n",
      "8/8 [==============================] - 0s 494us/step - loss: 77585.2422 - mean_squared_error: 77585.2422\n",
      "8/8 [==============================] - 0s 482us/step\n",
      "--- Starting trial: run-8\n",
      "{'hidden_size': 16, 'epochs': 1000, 'learning_rate': 0.21}\n",
      "8/8 [==============================] - 0s 460us/step - loss: 40448.2578 - mean_squared_error: 40448.2578\n",
      "8/8 [==============================] - 0s 396us/step\n",
      "--- Starting trial: run-9\n",
      "{'hidden_size': 16, 'epochs': 1000, 'learning_rate': 0.3}\n",
      "8/8 [==============================] - 0s 500us/step - loss: 187153.9062 - mean_squared_error: 187153.9062\n",
      "8/8 [==============================] - 0s 390us/step\n",
      "--- Starting trial: run-10\n",
      "{'hidden_size': 16, 'epochs': 1000, 'learning_rate': 0.4}\n",
      "8/8 [==============================] - 0s 461us/step - loss: 34544.8125 - mean_squared_error: 34544.8125\n",
      "8/8 [==============================] - 0s 403us/step\n",
      "--- Starting trial: run-11\n",
      "{'hidden_size': 32, 'epochs': 300, 'learning_rate': 0.01}\n",
      "8/8 [==============================] - 0s 444us/step - loss: 58236.8594 - mean_squared_error: 58236.8594\n",
      "8/8 [==============================] - 0s 555us/step\n",
      "--- Starting trial: run-12\n",
      "{'hidden_size': 32, 'epochs': 300, 'learning_rate': 0.11}\n",
      "8/8 [==============================] - 0s 456us/step - loss: 96517.9844 - mean_squared_error: 96517.9844\n",
      "8/8 [==============================] - 0s 539us/step\n",
      "--- Starting trial: run-13\n",
      "{'hidden_size': 32, 'epochs': 300, 'learning_rate': 0.21}\n",
      "8/8 [==============================] - 0s 461us/step - loss: 148652.9688 - mean_squared_error: 148652.9688\n",
      "8/8 [==============================] - 0s 454us/step\n",
      "--- Starting trial: run-14\n",
      "{'hidden_size': 32, 'epochs': 300, 'learning_rate': 0.3}\n",
      "8/8 [==============================] - 0s 456us/step - loss: 32282.2188 - mean_squared_error: 32282.2188\n",
      "8/8 [==============================] - 0s 479us/step\n",
      "--- Starting trial: run-15\n",
      "{'hidden_size': 32, 'epochs': 300, 'learning_rate': 0.4}\n",
      "8/8 [==============================] - 0s 511us/step - loss: 46096.8516 - mean_squared_error: 46096.8516\n",
      "8/8 [==============================] - 0s 411us/step\n",
      "--- Starting trial: run-16\n",
      "{'hidden_size': 32, 'epochs': 1000, 'learning_rate': 0.01}\n",
      "8/8 [==============================] - 0s 458us/step - loss: 37085.5430 - mean_squared_error: 37085.5430\n",
      "8/8 [==============================] - 0s 397us/step\n",
      "--- Starting trial: run-17\n",
      "{'hidden_size': 32, 'epochs': 1000, 'learning_rate': 0.11}\n",
      "8/8 [==============================] - 0s 455us/step - loss: 113958.8594 - mean_squared_error: 113958.8594\n",
      "8/8 [==============================] - 0s 389us/step\n",
      "--- Starting trial: run-18\n",
      "{'hidden_size': 32, 'epochs': 1000, 'learning_rate': 0.21}\n",
      "8/8 [==============================] - 0s 578us/step - loss: 29239.1250 - mean_squared_error: 29239.1250\n",
      "8/8 [==============================] - 0s 516us/step\n",
      "--- Starting trial: run-19\n",
      "{'hidden_size': 32, 'epochs': 1000, 'learning_rate': 0.3}\n",
      "8/8 [==============================] - 0s 459us/step - loss: 66276.0938 - mean_squared_error: 66276.0938\n",
      "8/8 [==============================] - 0s 400us/step\n",
      "--- Starting trial: run-20\n",
      "{'hidden_size': 32, 'epochs': 1000, 'learning_rate': 0.4}\n",
      "8/8 [==============================] - 0s 526us/step - loss: 40877.2188 - mean_squared_error: 40877.2188\n",
      "8/8 [==============================] - 0s 399us/step\n",
      "--- Starting trial: run-21\n",
      "{'hidden_size': 64, 'epochs': 300, 'learning_rate': 0.01}\n",
      "8/8 [==============================] - 0s 468us/step - loss: 39000.1172 - mean_squared_error: 39000.1172\n",
      "8/8 [==============================] - 0s 400us/step\n",
      "--- Starting trial: run-22\n",
      "{'hidden_size': 64, 'epochs': 300, 'learning_rate': 0.11}\n",
      "8/8 [==============================] - 0s 460us/step - loss: 77504.1172 - mean_squared_error: 77504.1172\n",
      "8/8 [==============================] - 0s 388us/step\n",
      "--- Starting trial: run-23\n",
      "{'hidden_size': 64, 'epochs': 300, 'learning_rate': 0.21}\n",
      "8/8 [==============================] - 0s 453us/step - loss: 46236.9609 - mean_squared_error: 46236.9609\n",
      "8/8 [==============================] - 0s 409us/step\n",
      "--- Starting trial: run-24\n",
      "{'hidden_size': 64, 'epochs': 300, 'learning_rate': 0.3}\n",
      "8/8 [==============================] - 0s 583us/step - loss: 78498.7891 - mean_squared_error: 78498.7891\n",
      "8/8 [==============================] - 0s 394us/step\n",
      "--- Starting trial: run-25\n",
      "{'hidden_size': 64, 'epochs': 300, 'learning_rate': 0.4}\n",
      "8/8 [==============================] - 0s 452us/step - loss: 108768.8672 - mean_squared_error: 108768.8672\n",
      "8/8 [==============================] - 0s 402us/step\n",
      "--- Starting trial: run-26\n",
      "{'hidden_size': 64, 'epochs': 1000, 'learning_rate': 0.01}\n",
      "8/8 [==============================] - 0s 679us/step - loss: 41214.9102 - mean_squared_error: 41214.9102\n",
      "8/8 [==============================] - 0s 440us/step\n",
      "--- Starting trial: run-27\n",
      "{'hidden_size': 64, 'epochs': 1000, 'learning_rate': 0.11}\n",
      "8/8 [==============================] - 0s 447us/step - loss: 50746.0273 - mean_squared_error: 50746.0273\n",
      "8/8 [==============================] - 0s 397us/step\n",
      "--- Starting trial: run-28\n",
      "{'hidden_size': 64, 'epochs': 1000, 'learning_rate': 0.21}\n",
      "8/8 [==============================] - 0s 664us/step - loss: 32043.5742 - mean_squared_error: 32043.5742\n",
      "8/8 [==============================] - 0s 477us/step\n",
      "--- Starting trial: run-29\n",
      "{'hidden_size': 64, 'epochs': 1000, 'learning_rate': 0.3}\n",
      "8/8 [==============================] - 0s 492us/step - loss: 28926.3691 - mean_squared_error: 28926.3691\n",
      "8/8 [==============================] - 0s 449us/step\n",
      "--- Starting trial: run-30\n",
      "{'hidden_size': 64, 'epochs': 1000, 'learning_rate': 0.4}\n",
      "8/8 [==============================] - 0s 682us/step - loss: 29982.1328 - mean_squared_error: 29982.1328\n",
      "8/8 [==============================] - 0s 453us/step\n"
     ]
    }
   ],
   "source": [
    "session_num = 1\n",
    "for hidden in HP_HIDDEN.domain.values:\n",
    "    for epochs in HP_EPOCHS.domain.values: \n",
    "        for learning_rate in tf.linspace(HP_LEARNING_RATE.domain.min_value,\n",
    "                                         HP_LEARNING_RATE.domain.max_value,\n",
    "                                         5):\n",
    "            hparams = {\n",
    "                HP_HIDDEN: hidden,\n",
    "                HP_EPOCHS: epochs,\n",
    "                HP_LEARNING_RATE: float(\"%.2f\"%float(learning_rate)),\n",
    "            }\n",
    "            run_name = \"run-%d\" % session_num\n",
    "            print('--- Starting trial: %s' % run_name)\n",
    "            print({h.name: hparams[h] for h in hparams})\n",
    "            run(hparams, 'logs/hparam_tuning/' + run_name)\n",
    "            session_num += 1"
   ]
  },
  {
   "cell_type": "markdown",
   "id": "ee31500c-a9ff-448a-9de3-5a1051766dcc",
   "metadata": {},
   "source": [
    "The combination of **{'hidden_size': 64, 'epochs': 1000, 'learning_rate': 0.3}** is\n",
    "the best performing one."
   ]
  },
  {
   "cell_type": "code",
   "execution_count": 125,
   "id": "6638f406-05f7-4c55-adac-162e154fc21e",
   "metadata": {},
   "outputs": [
    {
     "data": {
      "text/plain": [
       "<keras.callbacks.History at 0x7faf8a8da040>"
      ]
     },
     "execution_count": 125,
     "metadata": {},
     "output_type": "execute_result"
    }
   ],
   "source": [
    "model = Sequential([\n",
    "    Dense(units=64, activation='relu'),\n",
    "    Dense(units=1)\n",
    "])\n",
    "model.compile(loss='mean_squared_error',\n",
    "              optimizer=tf.keras.optimizers.Adam(0.3))\n",
    "    \n",
    "model.fit(X_train_scaled, y_train, epochs=1000, verbose=False)"
   ]
  },
  {
   "cell_type": "code",
   "execution_count": 129,
   "id": "039f4de6-f356-48c9-9b8d-cc48aeae79d5",
   "metadata": {},
   "outputs": [
    {
     "name": "stdout",
     "output_type": "stream",
     "text": [
      "8/8 [==============================] - 0s 622us/step\n"
     ]
    }
   ],
   "source": [
    "pred_nn = model.predict(X_test_scaled)[:, 0]"
   ]
  },
  {
   "cell_type": "code",
   "execution_count": 130,
   "id": "3b3e4252-06b0-48f6-b7b1-ec8defcba288",
   "metadata": {},
   "outputs": [
    {
     "name": "stdout",
     "output_type": "stream",
     "text": [
      "Neural network MSE: 28919.019\n",
      "Neural network MAE: 124.219\n",
      "Neural network R^2: 0.975\n"
     ]
    }
   ],
   "source": [
    "print(f'Neural network MSE: {mean_squared_error(y_test, pred_nn):.3f}')\n",
    "print(f'Neural network MAE: {mean_absolute_error(y_test, pred_nn):.3f}')\n",
    "print(f'Neural network R^2: {r2_score(y_test, pred_nn):.3f}')"
   ]
  },
  {
   "cell_type": "markdown",
   "id": "9f6d1471-2699-4bf7-ab5e-b3ac06e534d3",
   "metadata": {},
   "source": [
    "The combination of (hidden_size=16, epochs=1000, learning_rate=0.21) is\n",
    "the best performing one."
   ]
  },
  {
   "cell_type": "markdown",
   "id": "27112eee-d98a-4cfb-9046-fc8c4728019e",
   "metadata": {},
   "source": [
    "# Model comparison and conclusion"
   ]
  },
  {
   "cell_type": "code",
   "execution_count": 132,
   "id": "8bfdd995-08bd-4bf0-a7f2-7540b098a520",
   "metadata": {},
   "outputs": [
    {
     "data": {
      "image/png": "[encoded data removed]",
      "text/plain": [
       "<Figure size 1400x800 with 1 Axes>"
      ]
     },
     "metadata": {},
     "output_type": "display_data"
    }
   ],
   "source": [
    "import matplotlib.pyplot as plt\n",
    "import matplotlib.dates as mdates\n",
    "\n",
    "plt.figure(figsize=(14, 8))\n",
    "\n",
    "plt.plot(df_test.index, y_test, c='k', linestyle='-', linewidth=1)\n",
    "plt.plot(df_test.index, pred_lr, c='b', linestyle='--', linewidth=1)\n",
    "plt.plot(df_test.index, pred_rf, c='r', linestyle=':', linewidth=1)\n",
    "plt.plot(df_test.index, pred_svr, c='g', linestyle='-.', linewidth=1)\n",
    "plt.plot(df_test.index, pred_nn, c='m', linestyle='-.', linewidth=1)\n",
    "\n",
    "plt.xticks(rotation=60)\n",
    "plt.xlabel('Date')\n",
    "plt.ylabel('Close price')\n",
    "plt.legend(['Truth', 'Linear regression', 'Random Forest', 'SVR', 'Neural network'])\n",
    "plt.grid(True)\n",
    "plt.title('Stock Price Prediction')\n",
    "plt.gca().xaxis.set_major_formatter(mdates.DateFormatter('%Y-%m-%d'))\n",
    "\n",
    "plt.show()"
   ]
  },
  {
   "cell_type": "markdown",
   "id": "276d409d-9828-4383-9ec6-c5e411cabc3e",
   "metadata": {},
   "source": [
    "We've built a stock predictor using four regression algorithms: Linear Regression, Random Forest, Support Vector Regression, and Neural Network. These models were assessed using three key metrics: Mean Squared Error (MSE), Mean Absolute Error (MAE), and $R^2$ coefficient.\n",
    "\n",
    "Here is a summary table:\n",
    "\n",
    "| METRIC         | Linear Regression | Random Forest  | Support Vector Regression| Neural Network |\n",
    "| :----------------|  :----------------|----------------| -------------------------| ---------------| \n",
    "| MSE              | 43200.359         |  415269.945    |  29486.743               | 28919.019      |   \n",
    "| MAE              | 156.997           |  417.476       |  122.581                 | 124.219      |\n",
    "| $R^2$            | 0.962             |   0.638        |  0.974                   | 0.975        |\n",
    "\n",
    "\n",
    "Considering the overall performance across these metrics, it can be concluded that the Neural Network and Support Vector Regression models outperformed the Linear Regression and Random Forest models. These two models consistently achieved lower MSE and MAE values, indicating their superior predictive accuracy. Moreover, both models exhibited high $R^2$ values, indicating their strong ability to explain the variance in the data.\n",
    "\n",
    "In conclusion, based on the evaluation of these metrics, the Support Vector Regression and Neural Network models are recommended for further consideration and potential deployment in this machine learning project."
   ]
  }
 ],
 "metadata": {
  "kernelspec": {
   "display_name": "Python 3 (ipykernel)",
   "language": "python",
   "name": "python3"
  },
  "language_info": {
   "codemirror_mode": {
    "name": "ipython",
    "version": 3
   },
   "file_extension": ".py",
   "mimetype": "text/x-python",
   "name": "python",
   "nbconvert_exporter": "python",
   "pygments_lexer": "ipython3",
   "version": "3.9.13"
  }
 },
 "nbformat": 4,
 "nbformat_minor": 5
}
