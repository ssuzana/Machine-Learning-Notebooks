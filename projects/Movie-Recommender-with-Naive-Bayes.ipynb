{
 "cells": [
  {
   "cell_type": "markdown",
   "metadata": {
    "id": "EIfsNkf7TY39"
   },
   "source": [
    "# Intro \n",
    "\n",
    "Movie recommendation can be framed as a machine learning classification problem. If it is predicted that you like a movie, for example, then it will be on your recommended list, otherwise, it won't. Predicting whether a person likes a movie is also a binary classification problem."
   ]
  },
  {
   "cell_type": "markdown",
   "metadata": {
    "id": "nXhOvULxZ0Cc"
   },
   "source": [
    "# Bayes' theorem \n",
    "\n",
    "Let $A$ and $B$ denote two events. In Bayes' theorem, $P(A |B)$ is the probability that $A$ occurs given that $B$ is true. It can be computed as follows:\n",
    "$$P(A |B) = \\frac{P(B |A)\\ P(A)}{P(B)}$$\n",
    "where:\n",
    " * $P(A |B)$ is called the *likelihood*\n",
    " * $P(B |A)$ is called the *posterior* (probability)\n",
    " * $P(A)$ is called the *prior* (probability)\n",
    " * $P(B)$ is called the *evidence*.\n"
   ]
  },
  {
   "cell_type": "markdown",
   "metadata": {
    "id": "qD0x3j51YdnQ"
   },
   "source": [
    "# Naïve Bayes classifier\n",
    "\n",
    "* What Naïve Bayes does:\n",
    "\n",
    "  * It maps the **probability of observed input features given a possible class** to the **probability of the class given observed pieces of evidence** based on Bayes' theorem.\n",
    "\n",
    "  * It simplifies probability computation by assuming that predictive features are mutually independent.\n",
    "\n",
    "* Given a feature vector $\\mathbf{x} = (x_1, x_2, \\ldots, x_n)$, the goal of Naïve Bayes is to determine the probabilities that $\\mathbf{x}$ belongs to each of $K$ possible classes $y_1,y_2,\\ldots, y_K$. That is, \n",
    "$$P(y_k|\\ \\mathbf{x}), \\text{ where } k=1,2,\n",
    "\\ldots K$$\n",
    "\n",
    "* By Bayes's theorem, \n",
    "$$P(y_k | \\mathbf{x})=\\frac{P(\\mathbf{x}|\\ y_k)P(y_k)}{P(\\mathbf{x})}$$\n",
    "where:\n",
    "  * $P(\\mathbf{x}|\\ y_k)=P(x_1, x_2, \\ldots, x_n|\\ y_k)$ is the joint distribution of the $n$ features $ x_1, x_2, \\ldots, x_n$, given that the sample belongs to class $y_k$. This is how likely the features with such values co-occur.\n",
    "\n",
    "  * $P(y_k|\\ \\mathbf{x})$, in contrast to $P(y_k)$, has extra knowledge of data sample $\\mathbf{x}$.\n",
    "\n",
    "  * $P(y_k)$ portrays how classes are distributed. It can be either predetermined (usually in a uniform manner where each class has an equal chance of occurence) or learned from a set of training examples.\n",
    "\n",
    "  * $P(\\mathbf{x})$ only depends on the overall distribution of features, which is not specific to certain classes and can be treated as a normalization constant, and thus\n",
    "$$P(y_k | \\mathbf{x}) \\propto P(\\mathbf{x}|\\ y_K)P(y_k),$$\n",
    "where $\\propto$ denotes \"proportional\".\n",
    "\n",
    "\n",
    "* Under the feature independence assumption, the joint conditional distribution of the $n$ features $x_1, x_2, \\ldots, x_n$ can be expressed as the product of individual feature conditional distributions:\n",
    "$$P(x_1, x_2, \\ldots, x_n|\\ y_k) = P(x_1|\\ y_k)\\cdot P(x_2|\\ y_k)\\cdot \\ldots \\cdot P(x_n|\\ y_k)$$\n",
    "\n",
    "* Then:\n",
    "$$P(y_k | \\mathbf{x}) \\propto P(x_1|\\ y_k)\\cdot P(x_2|\\ y_k)\\cdot \\ldots \\cdot P(x_n|\\ y_k)\\cdot P(y_k).$$\n",
    "\n",
    "\n",
    "\n"
   ]
  },
  {
   "cell_type": "markdown",
   "metadata": {
    "id": "l70kLzUjDWxA"
   },
   "source": [
    "# Simplified example of movie recommendation\n",
    "\n",
    "* Given four users, whether they like each of three movies, $m_1, m_2, m_3$ (indicated as `1` or `0`), and whether they like a target movie (denoted as event `Y`) or not (denoted as event `N`), as shown in the following table, we are asked to predict how likely it is that another user will like that movie:\n",
    "\n",
    "\n",
    "\n",
    "\n",
    " |    ID       |$m_1$| $m_2$| $m_3$| The user likes the target movie|\n",
    " | ----------- |----|----|----|:----:|\n",
    " |   1         | 0  |1|1|Y|\n",
    " |   2         | 0  |0|1|N|\n",
    " |   3         | 0  |0|0|Y|\n",
    " |   4         | 1  |1|0|Y|\n",
    " |   5         | 1  |1|0| ?|\n",
    "\n",
    "\n",
    " * Whether users like three movies, $m_1, m_2, m_3$, are features (signals) that we can utilize to predict the target class. \n",
    "\n",
    "* The training data we have are the four samples with both ratings and target information.\n",
    "\n",
    "* We want to calculate the probability that the user with ID=5 likes the target movie. That is, we want to calculate the posterior probability $P(Y|\\ \\mathbf{x})$ where $\\mathbf{x}=(1,1,0)$.\n",
    "\n",
    "* The prior probabilities are:\n",
    "$$ P(Y)= \\frac{3}{4} \\text{ and } P(N) = \\frac{1}{4}$$\n",
    "\n",
    "*  We will denote the event that a user likes the three movies or not as $f_1$, $f_2$, $f_3$, respectively. We need to compute the likelihoods, \n",
    "$$P(f_1=1|\\ Y), P(f_2=1|\\ Y), P(f_3=0|\\ Y) \\text{ and }$$  $$P(f_1=1|\\ N), P(f_2=1 |\\ N), P(f_3=0|\\ N).$$\n",
    "\n",
    "* Since $f_1=1$ was not seen in the $N$ class, we have $P(f_1 = 1|\\ N)=0$\n",
    "Consequently, we will get $$P(N|\\ \\mathbf{x})\\propto P(f_1=1|\\ N)\\cdot P(f_2=1 |\\ N) \\cdot P(f_3=0 |\\ N) =0,$$ which means we will recklessly predict class = `Y`. \n",
    "\n",
    "To eliminate the zero-multiplication factor, the unknown likelihood, we usually assign an initial value of 1 to each feature, that is, we start counting each possible value of a feature from one. This technique is also known as **Laplace smoothing**. For more details, see https://courses.cs.washington.edu/courses/cse446/20wi/Section7/naive-bayes.pdf. We now have the following:\n",
    "\n",
    "$$P(f_1 = 1|\\ N)=\\frac{0+1}{1+2}=\\frac{1}{3},$$\n",
    "$$P(f_2 = 1|\\ N)=\\frac{0+1}{1+2}=\\frac{1}{3},$$\n",
    "$$P(f_3 = 0|\\ N)=\\frac{0+1}{1+2}=\\frac{1}{3},$$\n",
    "\n",
    "$$P(f_1 = 1|\\ Y)= \\frac{1+1}{3+2}=\\frac{2}{5},$$\n",
    "$$P(f_2 = 1|\\ Y)= \\frac{2+1}{3+2}=\\frac{3}{5},$$\n",
    "$$P(f_3 = 0|\\ Y)= \\frac{2+1}{3+2}=\\frac{3}{5}.$$\n",
    "\n",
    "The reason we add 2 to the denominator when we smooth is because we have two possible values  (0 or 1).\n",
    "\n",
    "Then \n",
    "$$\\frac{P(N|\\ \\mathbf{x})}{P(Y|\\ \\mathbf{x})} \\propto \\frac{P(N)\\cdot P(f_1=1|\\ N)\\cdot P(f_2=1 |\\ N) \\cdot P(f_3=0 |\\ N)}{P(Y)\\cdot P(f_1=1|\\ Y)\\cdot P(f_2=1 |\\ Y) \\cdot P(f_3=0 |\\ Y)}= \\frac{\\frac{1}{4} \\cdot \\frac{1}{3} \\cdot \\frac{1}{3}\\cdot \\frac{1}{3}}{\\frac{3}{4} \\cdot \\frac{2}{5} \\cdot \\frac{3}{5} \\cdot \\frac{3}{5}} = \\frac{125}{1458}.$$\n"
   ]
  },
  {
   "cell_type": "code",
   "execution_count": 8,
   "metadata": {
    "id": "_DPpVxY_SGZG"
   },
   "outputs": [
    {
     "data": {
      "text/plain": [
       "0.08573388203017833"
      ]
     },
     "execution_count": 8,
     "metadata": {},
     "output_type": "execute_result"
    }
   ],
   "source": [
    "125/1458"
   ]
  },
  {
   "cell_type": "markdown",
   "metadata": {},
   "source": [
    "Since $P(N|\\ \\mathbf{x}) + P(Y|\\ \\mathbf{x}) = 1$ we get \n",
    "$\\left(\\frac{125}{1458}+1\\right) P(Y|\\ \\mathbf{x}) = 1$ and thus\n",
    "\n",
    "$$P(Y|\\ \\mathbf{x}) = 0.9210.$$\n",
    "\n",
    "This means there is a 92.1% chance that the new user will like the target movie."
   ]
  },
  {
   "cell_type": "code",
   "execution_count": 9,
   "metadata": {
    "id": "Dm3LwhqGulzD"
   },
   "outputs": [
    {
     "data": {
      "text/plain": [
       "0.9210360075805433"
      ]
     },
     "execution_count": 9,
     "metadata": {},
     "output_type": "execute_result"
    }
   ],
   "source": [
    "1/(1+125/1458)"
   ]
  },
  {
   "cell_type": "markdown",
   "metadata": {},
   "source": [
    "# Naïve Bayes with scikit-learn\n",
    "\n",
    "To implement Naïve Bayes with scikit-learn we can use the [BernoulliNB module](https://scikit-learn.org/stable/modules/generated/sklearn.naive_bayes.BernoulliNB.html).\n",
    "\n",
    "We initialize a model with a smoothing factor (specified as `alpha`) of 1.0, and prior learned from the training set (specified as `fit_prior=True` ).\n"
   ]
  },
  {
   "cell_type": "code",
   "execution_count": 75,
   "metadata": {},
   "outputs": [],
   "source": [
    "import numpy as np\n",
    "X_train = np.array([[0, 1, 1],\n",
    "                    [0, 0, 1],\n",
    "                    [0, 0, 0],\n",
    "                    [1, 1, 0]])\n",
    "Y_train = ['Y', 'N', 'Y', 'Y']\n",
    "X_test = np.array([[1, 1, 0]])"
   ]
  },
  {
   "cell_type": "code",
   "execution_count": 13,
   "metadata": {},
   "outputs": [
    {
     "data": {
      "text/html": [
       "<style>#sk-container-id-1 {color: black;background-color: white;}#sk-container-id-1 pre{padding: 0;}#sk-container-id-1 div.sk-toggleable {background-color: white;}#sk-container-id-1 label.sk-toggleable__label {cursor: pointer;display: block;width: 100%;margin-bottom: 0;padding: 0.3em;box-sizing: border-box;text-align: center;}#sk-container-id-1 label.sk-toggleable__label-arrow:before {content: \"▸\";float: left;margin-right: 0.25em;color: #696969;}#sk-container-id-1 label.sk-toggleable__label-arrow:hover:before {color: black;}#sk-container-id-1 div.sk-estimator:hover label.sk-toggleable__label-arrow:before {color: black;}#sk-container-id-1 div.sk-toggleable__content {max-height: 0;max-width: 0;overflow: hidden;text-align: left;background-color: #f0f8ff;}#sk-container-id-1 div.sk-toggleable__content pre {margin: 0.2em;color: black;border-radius: 0.25em;background-color: #f0f8ff;}#sk-container-id-1 input.sk-toggleable__control:checked~div.sk-toggleable__content {max-height: 200px;max-width: 100%;overflow: auto;}#sk-container-id-1 input.sk-toggleable__control:checked~label.sk-toggleable__label-arrow:before {content: \"▾\";}#sk-container-id-1 div.sk-estimator input.sk-toggleable__control:checked~label.sk-toggleable__label {background-color: #d4ebff;}#sk-container-id-1 div.sk-label input.sk-toggleable__control:checked~label.sk-toggleable__label {background-color: #d4ebff;}#sk-container-id-1 input.sk-hidden--visually {border: 0;clip: rect(1px 1px 1px 1px);clip: rect(1px, 1px, 1px, 1px);height: 1px;margin: -1px;overflow: hidden;padding: 0;position: absolute;width: 1px;}#sk-container-id-1 div.sk-estimator {font-family: monospace;background-color: #f0f8ff;border: 1px dotted black;border-radius: 0.25em;box-sizing: border-box;margin-bottom: 0.5em;}#sk-container-id-1 div.sk-estimator:hover {background-color: #d4ebff;}#sk-container-id-1 div.sk-parallel-item::after {content: \"\";width: 100%;border-bottom: 1px solid gray;flex-grow: 1;}#sk-container-id-1 div.sk-label:hover label.sk-toggleable__label {background-color: #d4ebff;}#sk-container-id-1 div.sk-serial::before {content: \"\";position: absolute;border-left: 1px solid gray;box-sizing: border-box;top: 0;bottom: 0;left: 50%;z-index: 0;}#sk-container-id-1 div.sk-serial {display: flex;flex-direction: column;align-items: center;background-color: white;padding-right: 0.2em;padding-left: 0.2em;position: relative;}#sk-container-id-1 div.sk-item {position: relative;z-index: 1;}#sk-container-id-1 div.sk-parallel {display: flex;align-items: stretch;justify-content: center;background-color: white;position: relative;}#sk-container-id-1 div.sk-item::before, #sk-container-id-1 div.sk-parallel-item::before {content: \"\";position: absolute;border-left: 1px solid gray;box-sizing: border-box;top: 0;bottom: 0;left: 50%;z-index: -1;}#sk-container-id-1 div.sk-parallel-item {display: flex;flex-direction: column;z-index: 1;position: relative;background-color: white;}#sk-container-id-1 div.sk-parallel-item:first-child::after {align-self: flex-end;width: 50%;}#sk-container-id-1 div.sk-parallel-item:last-child::after {align-self: flex-start;width: 50%;}#sk-container-id-1 div.sk-parallel-item:only-child::after {width: 0;}#sk-container-id-1 div.sk-dashed-wrapped {border: 1px dashed gray;margin: 0 0.4em 0.5em 0.4em;box-sizing: border-box;padding-bottom: 0.4em;background-color: white;}#sk-container-id-1 div.sk-label label {font-family: monospace;font-weight: bold;display: inline-block;line-height: 1.2em;}#sk-container-id-1 div.sk-label-container {text-align: center;}#sk-container-id-1 div.sk-container {/* jupyter's `normalize.less` sets `[hidden] { display: none; }` but bootstrap.min.css set `[hidden] { display: none !important; }` so we also need the `!important` here to be able to override the default hidden behavior on the sphinx rendered scikit-learn.org. See: https://github.com/scikit-learn/scikit-learn/issues/21755 */display: inline-block !important;position: relative;}#sk-container-id-1 div.sk-text-repr-fallback {display: none;}</style><div id=\"sk-container-id-1\" class=\"sk-top-container\"><div class=\"sk-text-repr-fallback\"><pre>BernoulliNB()</pre><b>In a Jupyter environment, please rerun this cell to show the HTML representation or trust the notebook. <br />On GitHub, the HTML representation is unable to render, please try loading this page with nbviewer.org.</b></div><div class=\"sk-container\" hidden><div class=\"sk-item\"><div class=\"sk-estimator sk-toggleable\"><input class=\"sk-toggleable__control sk-hidden--visually\" id=\"sk-estimator-id-1\" type=\"checkbox\" checked><label for=\"sk-estimator-id-1\" class=\"sk-toggleable__label sk-toggleable__label-arrow\">BernoulliNB</label><div class=\"sk-toggleable__content\"><pre>BernoulliNB()</pre></div></div></div></div></div>"
      ],
      "text/plain": [
       "BernoulliNB()"
      ]
     },
     "execution_count": 13,
     "metadata": {},
     "output_type": "execute_result"
    }
   ],
   "source": [
    "from sklearn.naive_bayes import BernoulliNB\n",
    "\n",
    "clf = BernoulliNB(alpha=1.0, fit_prior=True)\n",
    "clf.fit(X_train, Y_train)"
   ]
  },
  {
   "cell_type": "code",
   "execution_count": 15,
   "metadata": {},
   "outputs": [
    {
     "name": "stdout",
     "output_type": "stream",
     "text": [
      "Predicted probabilities:\n",
      " [[0.07896399 0.92103601]]\n",
      "Prediction: ['Y']\n"
     ]
    }
   ],
   "source": [
    "pred_prob = clf.predict_proba(X_test)\n",
    "print('Predicted probabilities:\\n', pred_prob)\n",
    "pred = clf.predict(X_test)\n",
    "print('Prediction:', pred)"
   ]
  },
  {
   "cell_type": "markdown",
   "metadata": {},
   "source": [
    "The prediction results for our toy dataset are consistent with what we got using our own solution. Now we will build a movie recommender (or, more specifically, movie preference classifier) using a real dataset."
   ]
  },
  {
   "cell_type": "markdown",
   "metadata": {
    "tags": []
   },
   "source": [
    "# Movie preference classifier using MovieLens data\n",
    "\n",
    "We will now use a real movie rating dataset (https://grouplens.org/datasets/movielens/). Data was collected by the GroupLens Research group from the MovieLens website (http://movielens.org).\n",
    "\n",
    "We will use the small dataset, ml-latest-small (downloaded from the following link: http://files.grouplens.org/datasets/movielens/ml-latest-small.zip) as an example. \n",
    "It contains 100836 ratings and 3683 tag applications across 9742 movies. These data were created by 610 users between March 29, 1996 and September 24, 2018. This dataset was generated on September 26, 2018."
   ]
  },
  {
   "cell_type": "code",
   "execution_count": 170,
   "metadata": {},
   "outputs": [],
   "source": [
    "import pandas as pd\n",
    "import numpy as np"
   ]
  },
  {
   "cell_type": "code",
   "execution_count": 171,
   "metadata": {},
   "outputs": [],
   "source": [
    "ratings_path = '../datasets/ml-latest-small/ratings.csv'"
   ]
  },
  {
   "cell_type": "code",
   "execution_count": 172,
   "metadata": {},
   "outputs": [],
   "source": [
    "df = pd.read_csv(ratings_path)"
   ]
  },
  {
   "cell_type": "code",
   "execution_count": 173,
   "metadata": {},
   "outputs": [
    {
     "data": {
      "text/html": [
       "<div>\n",
       "<style scoped>\n",
       "    .dataframe tbody tr th:only-of-type {\n",
       "        vertical-align: middle;\n",
       "    }\n",
       "\n",
       "    .dataframe tbody tr th {\n",
       "        vertical-align: top;\n",
       "    }\n",
       "\n",
       "    .dataframe thead th {\n",
       "        text-align: right;\n",
       "    }\n",
       "</style>\n",
       "<table border=\"1\" class=\"dataframe\">\n",
       "  <thead>\n",
       "    <tr style=\"text-align: right;\">\n",
       "      <th></th>\n",
       "      <th>userId</th>\n",
       "      <th>movieId</th>\n",
       "      <th>rating</th>\n",
       "      <th>timestamp</th>\n",
       "    </tr>\n",
       "  </thead>\n",
       "  <tbody>\n",
       "    <tr>\n",
       "      <th>0</th>\n",
       "      <td>1</td>\n",
       "      <td>1</td>\n",
       "      <td>4.0</td>\n",
       "      <td>964982703</td>\n",
       "    </tr>\n",
       "    <tr>\n",
       "      <th>1</th>\n",
       "      <td>1</td>\n",
       "      <td>3</td>\n",
       "      <td>4.0</td>\n",
       "      <td>964981247</td>\n",
       "    </tr>\n",
       "    <tr>\n",
       "      <th>2</th>\n",
       "      <td>1</td>\n",
       "      <td>6</td>\n",
       "      <td>4.0</td>\n",
       "      <td>964982224</td>\n",
       "    </tr>\n",
       "    <tr>\n",
       "      <th>3</th>\n",
       "      <td>1</td>\n",
       "      <td>47</td>\n",
       "      <td>5.0</td>\n",
       "      <td>964983815</td>\n",
       "    </tr>\n",
       "    <tr>\n",
       "      <th>4</th>\n",
       "      <td>1</td>\n",
       "      <td>50</td>\n",
       "      <td>5.0</td>\n",
       "      <td>964982931</td>\n",
       "    </tr>\n",
       "  </tbody>\n",
       "</table>\n",
       "</div>"
      ],
      "text/plain": [
       "   userId  movieId  rating  timestamp\n",
       "0       1        1     4.0  964982703\n",
       "1       1        3     4.0  964981247\n",
       "2       1        6     4.0  964982224\n",
       "3       1       47     5.0  964983815\n",
       "4       1       50     5.0  964982931"
      ]
     },
     "execution_count": 173,
     "metadata": {},
     "output_type": "execute_result"
    }
   ],
   "source": [
    "df.head()"
   ]
  },
  {
   "cell_type": "code",
   "execution_count": 174,
   "metadata": {},
   "outputs": [
    {
     "name": "stdout",
     "output_type": "stream",
     "text": [
      "<class 'pandas.core.frame.DataFrame'>\n",
      "RangeIndex: 100836 entries, 0 to 100835\n",
      "Data columns (total 4 columns):\n",
      " #   Column     Non-Null Count   Dtype  \n",
      "---  ------     --------------   -----  \n",
      " 0   userId     100836 non-null  int64  \n",
      " 1   movieId    100836 non-null  int64  \n",
      " 2   rating     100836 non-null  float64\n",
      " 3   timestamp  100836 non-null  int64  \n",
      "dtypes: float64(1), int64(3)\n",
      "memory usage: 3.1 MB\n"
     ]
    }
   ],
   "source": [
    "df.info()"
   ]
  },
  {
   "cell_type": "code",
   "execution_count": 175,
   "metadata": {},
   "outputs": [],
   "source": [
    "df = df.drop(['timestamp'], axis=1)"
   ]
  },
  {
   "cell_type": "code",
   "execution_count": 176,
   "metadata": {},
   "outputs": [
    {
     "name": "stdout",
     "output_type": "stream",
     "text": [
      "Number of users: 610\n",
      "Number of movies: 9724\n"
     ]
    }
   ],
   "source": [
    "n_users = len(df.userId.unique())\n",
    "print(f'Number of users: {n_users}')\n",
    "n_movies = len(df.movieId.unique())\n",
    "print(f'Number of movies: {n_movies}')"
   ]
  },
  {
   "cell_type": "code",
   "execution_count": 177,
   "metadata": {},
   "outputs": [
    {
     "name": "stdout",
     "output_type": "stream",
     "text": [
      "Number or rating 0.5: 1370\n",
      "Number or rating 1.0: 2811\n",
      "Number or rating 1.5: 1791\n",
      "Number or rating 2.0: 7551\n",
      "Number or rating 2.5: 5550\n",
      "Number or rating 3.0: 20047\n",
      "Number or rating 3.5: 13136\n",
      "Number or rating 4.0: 26818\n",
      "Number or rating 4.5: 8551\n",
      "Number or rating 5.0: 13211\n"
     ]
    }
   ],
   "source": [
    "values, counts = np.unique(df.rating, return_counts=True)\n",
    "for value, count in zip(values, counts):\n",
    "    print(f'Number or rating {value}: {count}')"
   ]
  },
  {
   "cell_type": "code",
   "execution_count": 178,
   "metadata": {},
   "outputs": [
    {
     "data": {
      "text/plain": [
       "356       329\n",
       "318       317\n",
       "296       307\n",
       "593       279\n",
       "2571      278\n",
       "         ... \n",
       "86279       1\n",
       "86922       1\n",
       "5962        1\n",
       "87660       1\n",
       "163981      1\n",
       "Name: movieId, Length: 9724, dtype: int64"
      ]
     },
     "execution_count": 178,
     "metadata": {},
     "output_type": "execute_result"
    }
   ],
   "source": [
    "df.movieId.value_counts()"
   ]
  },
  {
   "cell_type": "code",
   "execution_count": 179,
   "metadata": {},
   "outputs": [
    {
     "name": "stdout",
     "output_type": "stream",
     "text": [
      "Movie ID 356 has 329 ratings.\n"
     ]
    }
   ],
   "source": [
    "movie_id_most = 356\n",
    "n_rating_most = 329\n",
    "print(f'Movie ID {movie_id_most} has {n_rating_most} ratings.')"
   ]
  },
  {
   "cell_type": "markdown",
   "metadata": {
    "tags": []
   },
   "source": [
    "We can consider movies with ratings greater than 3 as being liked (being recommended):"
   ]
  },
  {
   "cell_type": "code",
   "execution_count": 181,
   "metadata": {},
   "outputs": [
    {
     "data": {
      "text/html": [
       "<div>\n",
       "<style scoped>\n",
       "    .dataframe tbody tr th:only-of-type {\n",
       "        vertical-align: middle;\n",
       "    }\n",
       "\n",
       "    .dataframe tbody tr th {\n",
       "        vertical-align: top;\n",
       "    }\n",
       "\n",
       "    .dataframe thead th {\n",
       "        text-align: right;\n",
       "    }\n",
       "</style>\n",
       "<table border=\"1\" class=\"dataframe\">\n",
       "  <thead>\n",
       "    <tr style=\"text-align: right;\">\n",
       "      <th></th>\n",
       "      <th>userId</th>\n",
       "      <th>movieId</th>\n",
       "      <th>rating</th>\n",
       "      <th>recommended</th>\n",
       "    </tr>\n",
       "  </thead>\n",
       "  <tbody>\n",
       "    <tr>\n",
       "      <th>0</th>\n",
       "      <td>1</td>\n",
       "      <td>1</td>\n",
       "      <td>4.0</td>\n",
       "      <td>1</td>\n",
       "    </tr>\n",
       "    <tr>\n",
       "      <th>1</th>\n",
       "      <td>1</td>\n",
       "      <td>3</td>\n",
       "      <td>4.0</td>\n",
       "      <td>1</td>\n",
       "    </tr>\n",
       "    <tr>\n",
       "      <th>2</th>\n",
       "      <td>1</td>\n",
       "      <td>6</td>\n",
       "      <td>4.0</td>\n",
       "      <td>1</td>\n",
       "    </tr>\n",
       "    <tr>\n",
       "      <th>3</th>\n",
       "      <td>1</td>\n",
       "      <td>47</td>\n",
       "      <td>5.0</td>\n",
       "      <td>1</td>\n",
       "    </tr>\n",
       "    <tr>\n",
       "      <th>4</th>\n",
       "      <td>1</td>\n",
       "      <td>50</td>\n",
       "      <td>5.0</td>\n",
       "      <td>1</td>\n",
       "    </tr>\n",
       "    <tr>\n",
       "      <th>...</th>\n",
       "      <td>...</td>\n",
       "      <td>...</td>\n",
       "      <td>...</td>\n",
       "      <td>...</td>\n",
       "    </tr>\n",
       "    <tr>\n",
       "      <th>100831</th>\n",
       "      <td>610</td>\n",
       "      <td>166534</td>\n",
       "      <td>4.0</td>\n",
       "      <td>1</td>\n",
       "    </tr>\n",
       "    <tr>\n",
       "      <th>100832</th>\n",
       "      <td>610</td>\n",
       "      <td>168248</td>\n",
       "      <td>5.0</td>\n",
       "      <td>1</td>\n",
       "    </tr>\n",
       "    <tr>\n",
       "      <th>100833</th>\n",
       "      <td>610</td>\n",
       "      <td>168250</td>\n",
       "      <td>5.0</td>\n",
       "      <td>1</td>\n",
       "    </tr>\n",
       "    <tr>\n",
       "      <th>100834</th>\n",
       "      <td>610</td>\n",
       "      <td>168252</td>\n",
       "      <td>5.0</td>\n",
       "      <td>1</td>\n",
       "    </tr>\n",
       "    <tr>\n",
       "      <th>100835</th>\n",
       "      <td>610</td>\n",
       "      <td>170875</td>\n",
       "      <td>3.0</td>\n",
       "      <td>0</td>\n",
       "    </tr>\n",
       "  </tbody>\n",
       "</table>\n",
       "<p>100836 rows × 4 columns</p>\n",
       "</div>"
      ],
      "text/plain": [
       "        userId  movieId  rating  recommended\n",
       "0            1        1     4.0            1\n",
       "1            1        3     4.0            1\n",
       "2            1        6     4.0            1\n",
       "3            1       47     5.0            1\n",
       "4            1       50     5.0            1\n",
       "...        ...      ...     ...          ...\n",
       "100831     610   166534     4.0            1\n",
       "100832     610   168248     5.0            1\n",
       "100833     610   168250     5.0            1\n",
       "100834     610   168252     5.0            1\n",
       "100835     610   170875     3.0            0\n",
       "\n",
       "[100836 rows x 4 columns]"
      ]
     },
     "execution_count": 181,
     "metadata": {},
     "output_type": "execute_result"
    }
   ],
   "source": [
    "#Relabel ratings \n",
    "df['recommended'] = (df['rating'] > 3).astype(int)\n",
    "df"
   ]
  },
  {
   "cell_type": "code",
   "execution_count": 182,
   "metadata": {},
   "outputs": [],
   "source": [
    "X = df[['userId', 'movieId']]  # Features\n",
    "y = df['recommended']  # Labels\n",
    "X_train, X_test, y_train, y_test = train_test_split(X, y, test_size=0.2, random_state=42)"
   ]
  },
  {
   "cell_type": "code",
   "execution_count": 183,
   "metadata": {},
   "outputs": [
    {
     "data": {
      "text/html": [
       "<style>#sk-container-id-5 {color: black;background-color: white;}#sk-container-id-5 pre{padding: 0;}#sk-container-id-5 div.sk-toggleable {background-color: white;}#sk-container-id-5 label.sk-toggleable__label {cursor: pointer;display: block;width: 100%;margin-bottom: 0;padding: 0.3em;box-sizing: border-box;text-align: center;}#sk-container-id-5 label.sk-toggleable__label-arrow:before {content: \"▸\";float: left;margin-right: 0.25em;color: #696969;}#sk-container-id-5 label.sk-toggleable__label-arrow:hover:before {color: black;}#sk-container-id-5 div.sk-estimator:hover label.sk-toggleable__label-arrow:before {color: black;}#sk-container-id-5 div.sk-toggleable__content {max-height: 0;max-width: 0;overflow: hidden;text-align: left;background-color: #f0f8ff;}#sk-container-id-5 div.sk-toggleable__content pre {margin: 0.2em;color: black;border-radius: 0.25em;background-color: #f0f8ff;}#sk-container-id-5 input.sk-toggleable__control:checked~div.sk-toggleable__content {max-height: 200px;max-width: 100%;overflow: auto;}#sk-container-id-5 input.sk-toggleable__control:checked~label.sk-toggleable__label-arrow:before {content: \"▾\";}#sk-container-id-5 div.sk-estimator input.sk-toggleable__control:checked~label.sk-toggleable__label {background-color: #d4ebff;}#sk-container-id-5 div.sk-label input.sk-toggleable__control:checked~label.sk-toggleable__label {background-color: #d4ebff;}#sk-container-id-5 input.sk-hidden--visually {border: 0;clip: rect(1px 1px 1px 1px);clip: rect(1px, 1px, 1px, 1px);height: 1px;margin: -1px;overflow: hidden;padding: 0;position: absolute;width: 1px;}#sk-container-id-5 div.sk-estimator {font-family: monospace;background-color: #f0f8ff;border: 1px dotted black;border-radius: 0.25em;box-sizing: border-box;margin-bottom: 0.5em;}#sk-container-id-5 div.sk-estimator:hover {background-color: #d4ebff;}#sk-container-id-5 div.sk-parallel-item::after {content: \"\";width: 100%;border-bottom: 1px solid gray;flex-grow: 1;}#sk-container-id-5 div.sk-label:hover label.sk-toggleable__label {background-color: #d4ebff;}#sk-container-id-5 div.sk-serial::before {content: \"\";position: absolute;border-left: 1px solid gray;box-sizing: border-box;top: 0;bottom: 0;left: 50%;z-index: 0;}#sk-container-id-5 div.sk-serial {display: flex;flex-direction: column;align-items: center;background-color: white;padding-right: 0.2em;padding-left: 0.2em;position: relative;}#sk-container-id-5 div.sk-item {position: relative;z-index: 1;}#sk-container-id-5 div.sk-parallel {display: flex;align-items: stretch;justify-content: center;background-color: white;position: relative;}#sk-container-id-5 div.sk-item::before, #sk-container-id-5 div.sk-parallel-item::before {content: \"\";position: absolute;border-left: 1px solid gray;box-sizing: border-box;top: 0;bottom: 0;left: 50%;z-index: -1;}#sk-container-id-5 div.sk-parallel-item {display: flex;flex-direction: column;z-index: 1;position: relative;background-color: white;}#sk-container-id-5 div.sk-parallel-item:first-child::after {align-self: flex-end;width: 50%;}#sk-container-id-5 div.sk-parallel-item:last-child::after {align-self: flex-start;width: 50%;}#sk-container-id-5 div.sk-parallel-item:only-child::after {width: 0;}#sk-container-id-5 div.sk-dashed-wrapped {border: 1px dashed gray;margin: 0 0.4em 0.5em 0.4em;box-sizing: border-box;padding-bottom: 0.4em;background-color: white;}#sk-container-id-5 div.sk-label label {font-family: monospace;font-weight: bold;display: inline-block;line-height: 1.2em;}#sk-container-id-5 div.sk-label-container {text-align: center;}#sk-container-id-5 div.sk-container {/* jupyter's `normalize.less` sets `[hidden] { display: none; }` but bootstrap.min.css set `[hidden] { display: none !important; }` so we also need the `!important` here to be able to override the default hidden behavior on the sphinx rendered scikit-learn.org. See: https://github.com/scikit-learn/scikit-learn/issues/21755 */display: inline-block !important;position: relative;}#sk-container-id-5 div.sk-text-repr-fallback {display: none;}</style><div id=\"sk-container-id-5\" class=\"sk-top-container\"><div class=\"sk-text-repr-fallback\"><pre>GaussianNB()</pre><b>In a Jupyter environment, please rerun this cell to show the HTML representation or trust the notebook. <br />On GitHub, the HTML representation is unable to render, please try loading this page with nbviewer.org.</b></div><div class=\"sk-container\" hidden><div class=\"sk-item\"><div class=\"sk-estimator sk-toggleable\"><input class=\"sk-toggleable__control sk-hidden--visually\" id=\"sk-estimator-id-5\" type=\"checkbox\" checked><label for=\"sk-estimator-id-5\" class=\"sk-toggleable__label sk-toggleable__label-arrow\">GaussianNB</label><div class=\"sk-toggleable__content\"><pre>GaussianNB()</pre></div></div></div></div></div>"
      ],
      "text/plain": [
       "GaussianNB()"
      ]
     },
     "execution_count": 183,
     "metadata": {},
     "output_type": "execute_result"
    }
   ],
   "source": [
    "from sklearn.naive_bayes import GaussianNB\n",
    "clf = GaussianNB()\n",
    "clf.fit(X_train, y_train)"
   ]
  },
  {
   "cell_type": "code",
   "execution_count": 193,
   "metadata": {},
   "outputs": [
    {
     "name": "stdout",
     "output_type": "stream",
     "text": [
      "The accuracy is: 61.2%\n"
     ]
    }
   ],
   "source": [
    "from sklearn.metrics import accuracy_score\n",
    "\n",
    "accuracy = clf.score(X_test, y_test)\n",
    "print(f'The accuracy is: {accuracy*100:.1f}%')"
   ]
  },
  {
   "cell_type": "markdown",
   "metadata": {
    "id": "b_CgwJLFuUFk"
   },
   "source": [
    "# References \n",
    "\n",
    "* [Python Machine Learning By Example - Third Edition,\n",
    "by Yuxi (Hayden) Liu](https://www.packtpub.com/product/python-machine-learning-by-example-third-edition/9781800209718)"
   ]
  },
  {
   "cell_type": "code",
   "execution_count": null,
   "metadata": {},
   "outputs": [],
   "source": []
  }
 ],
 "metadata": {
  "colab": {
   "authorship_tag": "ABX9TyMTrSqiowiOk3qLnY36xm5j",
   "provenance": []
  },
  "kernelspec": {
   "display_name": "Python 3 (ipykernel)",
   "language": "python",
   "name": "python3"
  },
  "language_info": {
   "codemirror_mode": {
    "name": "ipython",
    "version": 3
   },
   "file_extension": ".py",
   "mimetype": "text/x-python",
   "name": "python",
   "nbconvert_exporter": "python",
   "pygments_lexer": "ipython3",
   "version": "3.9.13"
  }
 },
 "nbformat": 4,
 "nbformat_minor": 4
}
