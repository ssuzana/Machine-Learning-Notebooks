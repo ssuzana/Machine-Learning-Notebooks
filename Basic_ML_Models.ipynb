{
  "nbformat": 4,
  "nbformat_minor": 0,
  "metadata": {
    "colab": {
      "provenance": [],
      "authorship_tag": "ABX9TyPG5TWQNBlQYdZ34b8vCHXx",
      "include_colab_link": true
    },
    "kernelspec": {
      "name": "python3",
      "display_name": "Python 3"
    },
    "language_info": {
      "name": "python"
    }
  },
  "cells": [
    {
      "cell_type": "markdown",
      "metadata": {
        "id": "view-in-github",
        "colab_type": "text"
      },
      "source": [
        "<a href=\"https://colab.research.google.com/github/ssuzana/Machine-Learning-Notebooks/blob/main/Basic_ML_Models.ipynb\" target=\"_parent\"><img src=\"https://colab.research.google.com/assets/colab-badge.svg\" alt=\"Open In Colab\"/></a>"
      ]
    },
    {
      "cell_type": "markdown",
      "source": [
        "\n",
        "* Linear Regression\n",
        "  * Normal Equation\n",
        "* Gradient Descent\n",
        "  * Batch Gradient Descent\n",
        "  * Stochastic Gradient Descent\n",
        "  * Mini-batch Gradient Descent\n",
        "* Regularized Linear Models  \n",
        "  * Polynomial Regression\n",
        "  * Ridge Regression\n",
        "  * Lasso Regression\n",
        "  * Elastic Net\n",
        "* Logistic Regression\n",
        " * Softmax Regression"
      ],
      "metadata": {
        "id": "eMxNRtigicMO"
      }
    },
    {
      "cell_type": "code",
      "source": [
        "%matplotlib inline"
      ],
      "metadata": {
        "id": "-u8_7A8i_lx1"
      },
      "execution_count": 7,
      "outputs": []
    },
    {
      "cell_type": "code",
      "source": [
        "# creates the images/training_linear_models folder (if it doesn't already exist), \n",
        "# and define the save_fig() function which is used through this notebook to save the figures in high-res\n",
        "from pathlib import Path\n",
        "\n",
        "IMAGES_PATH = Path() / \"images\" / \"training_linear_models\"\n",
        "IMAGES_PATH.mkdir(parents=True, exist_ok=True)\n",
        "\n",
        "def save_fig(fig_id, tight_layout=True, fig_extension=\"png\", resolution=300):\n",
        "    path = IMAGES_PATH / f\"{fig_id}.{fig_extension}\"\n",
        "    if tight_layout:\n",
        "        plt.tight_layout()\n",
        "    plt.savefig(path, format=fig_extension, dpi=resolution)"
      ],
      "metadata": {
        "id": "g1BMN3Vm8EvH"
      },
      "execution_count": 8,
      "outputs": []
    },
    {
      "cell_type": "code",
      "source": [
        "# define the default font sizes to make the figures prettier\n",
        "import matplotlib.pyplot as plt\n",
        "\n",
        "plt.rc('font', size=14)\n",
        "plt.rc('axes', labelsize=14, titlesize=14)\n",
        "plt.rc('legend', fontsize=14)\n",
        "plt.rc('xtick', labelsize=10)\n",
        "plt.rc('ytick', labelsize=10)"
      ],
      "metadata": {
        "id": "_uSRweCR8NVc"
      },
      "execution_count": 9,
      "outputs": []
    },
    {
      "cell_type": "markdown",
      "source": [
        "# Common Machine Learning Notations\n",
        "\n",
        "* $m$ is number of `instances` (`training examples`) in the dataset\n",
        "\n",
        "* $n$ is number of `features` in the dataset\n",
        "\n",
        "* $\\textbf{x}^{(i)}$ is a vector of all the feature values (excluding the label) of the $i$-th instance in the dataset, and $y^{(i)}$ is its label (the desired output value for that instance):\n",
        "\n",
        "\n",
        "$$\\textbf{x}^{(i)}=\\begin{bmatrix}\n",
        "x_1^{(i)}\\\\\n",
        "x_2^{(i)}\\\\\n",
        "\\vdots\\\\\n",
        "x_n^{(i)}\n",
        "\\end{bmatrix} $$\n",
        "\n",
        "* $\\textbf{X}$ is a matrix containing all the feature values (excluding labels) of all instances in the dataset. There is one row for instance, and the $i$-th row is equal to the transpose of $\\textbf{x}^{(i)}$, denoted $(\\textbf{x}^{(i)})^\\top$:\n",
        "\n",
        "$$\\textbf{X}=\\begin{bmatrix}\n",
        "\\textbf{x}^{(1)})^\\top\\\\\n",
        "\\textbf{x}^{(2)})^\\top\\\\\n",
        "\\vdots\\\\\n",
        "\\textbf{x}^{(m)})^\\top\n",
        "\\end{bmatrix} = \\begin{bmatrix}\n",
        "x_1^{(1)} & x_2^{(1)} & \\ldots & x_n^{(1)}\\\\\n",
        "x_1^{(2)} & x_2^{(2)} &  \\ldots & x_n^{(2)}\\\\\n",
        " \\vdots   & \\vdots    &  \\ldots &  \\vdots  \\\\\n",
        "x_1^{(m)} & x_2^{(m)} &  \\ldots &  x_n^{(m)}\n",
        "\\end{bmatrix}$$\n",
        "\n",
        "* $h_{\\theta}$ is the hypothesis function (your system's prediction function). When your system is given an instance's feature vector $\\textbf{x}^{(i)}$, it outputs a predicted value \n",
        "$$ \\widehat{y}^{(i)}= h(\\textbf{x}^{(i)})$$\n",
        "\n",
        "\n",
        "\n",
        "\n"
      ],
      "metadata": {
        "id": "OmXw1Mm8ipmy"
      }
    },
    {
      "cell_type": "markdown",
      "source": [
        "# Multiple Linear Regression model\n",
        "\n",
        "\n",
        "$$\\widehat{y}  = \\theta_0 + \\theta_1 x_1 + \\theta_2 x_2 + \\ldots + \\theta_n x_n$$\n",
        "\n",
        "* $x_i$ = the $i$-th feature value\n",
        "\n",
        "* $\\widehat{y}$ is the predicted value\n",
        "\n",
        "* $\\theta_j$ = the $j$-th parameter \n",
        " * $\\theta_0$ = the bias term\n",
        " * $\\theta_1, \\ldots, \\theta_n$ = the feature weights\n",
        "\n",
        "\n",
        "  $\\star$ As dot product: \n",
        "\n",
        " $$\\widehat{y}  = h_{\\mathbf{\\theta}}(\\mathbf{x})=\\mathbf{\\theta} \\cdot \\mathbf{x}$$ \n",
        "\n",
        "  $\\star$ As matrix multiplication: $$\\widehat{y} = \\mathbf{\\theta}^\\top \\mathbf{x}$$ \n",
        "\n",
        "*  $\\mathbf{\\theta}= \\begin{bmatrix}\n",
        "\\theta_0 \\\\\n",
        "\\theta_1 \\\\\n",
        "\\vdots\\\\\n",
        "\\theta_n\n",
        "\\end{bmatrix}$ is the parameter vector\n",
        "\n",
        "*  $\\mathbf{x} = \\begin{bmatrix}\n",
        "1\\\\\n",
        "x_1\\\\\n",
        "\\vdots\\\\\n",
        "x_n\n",
        "\\end{bmatrix}$ is the instance's feature vector"
      ],
      "metadata": {
        "id": "bQGOI1aREJb_"
      }
    },
    {
      "cell_type": "markdown",
      "source": [
        "## Root Mean Square Error (RMSE)\n",
        "\n",
        "Note that here $\\textbf{X}$ denotes the matrix containing all the feature values (excluding labels) of all instances in the dataset. The most common performance measure of a regression model is the `Root Mean Square Error (RMSE)`:\n",
        "\n",
        "$$RMSE(X, h_{\\mathbf{\\theta}})=\\sqrt{\\small\\frac{1}{m} \\sum_{i=1}^m \\left(h_{\\mathbf{\\theta}}(\\mathbf{x}^{(i)})-y^{(i)}\\right)^2} = \\sqrt{\\small\\frac{1}{m} \\sum_{i=1}^m \\left(\\mathbf{\\theta}^\\top \\mathbf{x}^{(i)}-y^{(i)}\\right)^2} = \n",
        "\\sqrt{MSE}$$\n",
        "\n",
        "To train a Linear Regression model, we need to find the value of $\\Theta$ that minimizes the `RMSE`. In practice, since the value that minimizes a function also minimizes its square root, it is simpler to minimize the `Mean Square Error (MSE)`.\n",
        "\n",
        "Even though the `RMSE` (or `MSE`) is generally the preferred performance emasure for regression tasks, in some contexts another function might be preferred. For example, if there are many outliers, you may consider using the `mean absolute error (MAE)`:\n",
        "\n",
        "$$MAE(X, h)= \\frac{1}{m} \\sum_{i=1}^m \\lvert h(x^{(i)})-y^{(i)}\\rvert$$\n",
        "\n"
      ],
      "metadata": {
        "id": "I0eICT7lyOnB"
      }
    },
    {
      "cell_type": "markdown",
      "source": [
        "## Norms\n",
        "\n",
        "Both the `RMSE` and the `MAE` are ways to measure the distance between two vectors: the vector of predictions and the vector of target values.\n",
        "\n",
        "Various distance measures, or **norms**, are possible:\n",
        "\n",
        "* Computing the root of a sum of squares (`RMSE`) corresponds to the **Euclidean norm**; it is also called the $l_2$ norm, denoted $\\lVert \\cdot \\rVert_2$ (or just $\\lVert \\cdot \\rVert$).\n",
        "\n",
        "* Computing the sum of absolute values (`MAE`) corresponds to the $l_1$ norm, denoted $\\lVert \\cdot \\rVert_1$. This is sometimes called the **Manhattan** norm beceause it measures the distance between two points in a city if you can travel along orthogonal city blocks.\n",
        "\n",
        "* In general, the $l_k$ norm of a vector $\\vec{v}=\\begin{bmatrix}\n",
        "v_1\\\\\n",
        "v_2\\\\\n",
        "\\vdots\\\\\n",
        "v_n\n",
        "\\end{bmatrix}$ is given by:\n",
        "\n",
        "$$ \\lVert \\vec{v} \\rVert_k = \\left( | v_0 |^k + | v_1 |^k + \\ldots + | v_n |^k \\right)^{\\frac{1}{k}}$$\n",
        "\n",
        "Note that $l_0$ gives the number of nonzero elements and $l_{\\infty}$ gives the maximum absolute value in the vector.\n",
        "\n",
        "**The higher the norm index, the more it focuses on large values and neglects small ones.** That means, `RMSE` is more sensitive to outliers than the `MAE`. When outliers are exponentially rare (like in a bell-shaped curve), the `RMSE` performs very well and is generally prefered.\n",
        "\n"
      ],
      "metadata": {
        "id": "wrvFvK0OIxsq"
      }
    },
    {
      "cell_type": "markdown",
      "source": [
        "## The Normal Equation\n",
        "\n",
        "The normal equation gives a closed-form solution to find the value of $\\mathbf{\\theta}$ that minimizes the cost function:\n",
        "\n",
        "$$ \\widehat{\\mathbf{\\theta}} = \\left(\\mathbf{X}^\\top \\mathbf{X}\\right)^{-1} \\mathbf{X}^\\top \\mathbf{y}$$\n",
        "\n",
        "* $\\widehat{\\mathbf{\\theta}}$ is the value of $\\mathbf{\\theta}$ that minimizes the cost function\n",
        "* $\\mathbf{y} = \\begin{bmatrix}\n",
        "y^{(1)}\\\\\n",
        "\\vdots\\\\\n",
        "y^{(m)}\n",
        "\\end{bmatrix}$ is the vector of target values\n",
        "\n",
        "**Warning.** The normal equation might not work if the matrix $\\mathbf{X}^\\top \\mathbf{X}$ is not invertible, such as if $m < n$ or if some features are redundant.\n",
        "\n",
        "\n",
        "Note that $$\\mathbf{X} \\mathbf{\\theta} = \\begin{bmatrix}\n",
        "1 & x_1^{(1)} & x_2^{(1)} & \\ldots & x_n^{(1)}\\\\\n",
        "1 & x_1^{(2)} & x_2^{(2)} &  \\ldots & x_n^{(2)}\\\\\n",
        "\\vdots & \\vdots   & \\vdots    &  \\ldots &  \\vdots  \\\\\n",
        "1 & x_1^{(m)} & x_2^{(m)} &  \\ldots &  x_n^{(m)}\n",
        "\\end{bmatrix} \\begin{bmatrix}\n",
        "\\theta_0 \\\\\n",
        "\\theta_1 \\\\\n",
        "\\vdots\\\\\n",
        "\\theta_n\n",
        "\\end{bmatrix} = \\begin{bmatrix}\n",
        "\\theta_0 + \\theta_1 x_1^{(1)} + \\theta_2 x_2^{(1)} + \\ldots + \\theta_n x_n^{(1)}\\\\\n",
        "\\theta_0 + \\theta_1 x_1^{(2)} + \\theta_2 x_2^{(2)} + \\ldots + \\theta_n x_n^{(2)}\\\\\n",
        "  \\vdots   \\\\\n",
        "\\theta_0 + \\theta_1 x_1^{(m)} + \\theta_2 x_2^{(m)} + \\ldots + \\theta_n x_n^{(m)}\\\\\n",
        "\\end{bmatrix} = \\begin{bmatrix}\n",
        "y^{(1)}\\\\\n",
        "y^{(2)}\\\\\n",
        "\\vdots\\\\\n",
        "y^{(m)}\n",
        "\\end{bmatrix} = \\mathbf{y}$$\n",
        "\n",
        "Then \n",
        "$$\\mathbf{X} \\mathbf{\\theta} = \\mathbf{y} $$\n",
        "$$\\Rightarrow \\mathbf{X}^\\top \\mathbf{X} \\mathbf{\\theta} = \\mathbf{X}^\\top \\mathbf{y}$$\n",
        "$$\\Rightarrow (\\mathbf{X}^\\top \\mathbf{X})^{-1} (\\mathbf{X}^\\top \\mathbf{X}) \\mathbf{\\theta} = (\\mathbf{X}^\\top \\mathbf{X})^{-1} \\mathbf{X}^\\top \\mathbf{y}$$\n",
        "$$\\Rightarrow  \\mathbf{\\theta} = (\\mathbf{X}^\\top \\mathbf{X})^{-1} \\mathbf{X}^\\top \\mathbf{y}.$$"
      ],
      "metadata": {
        "id": "cKCqVnWbNl3A"
      }
    },
    {
      "cell_type": "code",
      "source": [
        "import numpy as np\n",
        "\n",
        "np.random.seed(42)  # to make this code example reproducible\n",
        "m = 100  # number of instances\n",
        "X = 2 * np.random.rand(m, 1)  # column vector\n",
        "y = 4 + 3 * X + np.random.randn(m, 1)  # column vector"
      ],
      "metadata": {
        "id": "yH55Ee9wNlhn"
      },
      "execution_count": 10,
      "outputs": []
    },
    {
      "cell_type": "markdown",
      "source": [
        "Note that the function that we used to generate the data is $$y=4+3x_1 + \\text{ Gaussian noise}.$$"
      ],
      "metadata": {
        "id": "OEbADG0IcIb1"
      }
    },
    {
      "cell_type": "code",
      "source": [
        "y.shape"
      ],
      "metadata": {
        "colab": {
          "base_uri": "https://localhost:8080/"
        },
        "id": "1m_YKjmY7PiD",
        "outputId": "ab4b8bc1-2ebd-4166-f419-df351332a851"
      },
      "execution_count": 11,
      "outputs": [
        {
          "output_type": "execute_result",
          "data": {
            "text/plain": [
              "(100, 1)"
            ]
          },
          "metadata": {},
          "execution_count": 11
        }
      ]
    },
    {
      "cell_type": "code",
      "execution_count": 12,
      "metadata": {
        "id": "DRC4L4rwho1O",
        "colab": {
          "base_uri": "https://localhost:8080/",
          "height": 284
        },
        "outputId": "cd9c2da7-9200-4d70-f55f-14d217e4d1ca"
      },
      "outputs": [
        {
          "output_type": "display_data",
          "data": {
            "text/plain": [
              "<Figure size 432x288 with 1 Axes>"
            ],
            "image/png": "[encoded data removed]"
          },
          "metadata": {
            "needs_background": "light"
          }
        }
      ],
      "source": [
        "import matplotlib.pyplot as plt\n",
        "\n",
        "plt.figure(figsize=(6, 4))\n",
        "plt.plot(X, y, \"b.\")\n",
        "plt.xlabel(\"$x_1$\")\n",
        "plt.ylabel(\"$y$\", rotation=0)\n",
        "plt.axis([0, 2, 0, 15])\n",
        "plt.grid()\n",
        "plt.show()"
      ]
    },
    {
      "cell_type": "code",
      "source": [
        "from sklearn.preprocessing import add_dummy_feature\n",
        "\n",
        "X_b = add_dummy_feature(X)  # add x0 = 1 to each instance\n",
        "theta_best = np.linalg.inv(X_b.T @ X_b) @ X_b.T @ y\n",
        "theta_0, theta_1 = theta_best[0][0], theta_best[1][0]\n",
        "theta_0, theta_1"
      ],
      "metadata": {
        "colab": {
          "base_uri": "https://localhost:8080/"
        },
        "id": "FZl7yHmlXwzh",
        "outputId": "698241dc-e382-417f-a3c2-a61bae6f36e2"
      },
      "execution_count": 13,
      "outputs": [
        {
          "output_type": "execute_result",
          "data": {
            "text/plain": [
              "(4.21509615754675, 2.7701133864384806)"
            ]
          },
          "metadata": {},
          "execution_count": 13
        }
      ]
    },
    {
      "cell_type": "code",
      "source": [
        "X_new = np.array([[0], [2]])\n",
        "X_new_b = add_dummy_feature(X_new)  # add x0 = 1 to each instance\n",
        "y_predict = X_new_b @ theta_best\n",
        "y_predict"
      ],
      "metadata": {
        "colab": {
          "base_uri": "https://localhost:8080/"
        },
        "id": "N-zwA1-OaO3d",
        "outputId": "f1959519-b16c-4305-a9bc-30595865ccd9"
      },
      "execution_count": 14,
      "outputs": [
        {
          "output_type": "execute_result",
          "data": {
            "text/plain": [
              "array([[4.21509616],\n",
              "       [9.75532293]])"
            ]
          },
          "metadata": {},
          "execution_count": 14
        }
      ]
    },
    {
      "cell_type": "code",
      "source": [
        "import matplotlib.pyplot as plt\n",
        "\n",
        "plt.figure(figsize=(6, 4))\n",
        "plt.plot(X_new, y_predict, \"r-\", label=\"Predictions\")\n",
        "plt.plot(X, y, \"b.\")\n",
        "\n",
        "plt.xlabel(\"$x_1$\")\n",
        "plt.ylabel(\"$y$\", rotation=0)\n",
        "plt.axis([0, 2, 0, 15])\n",
        "plt.grid()\n",
        "plt.legend(loc=\"upper right\")\n",
        "\n",
        "plt.show()"
      ],
      "metadata": {
        "colab": {
          "base_uri": "https://localhost:8080/",
          "height": 284
        },
        "id": "mprqhTWUaqDB",
        "outputId": "4dc9004b-1c2f-42f3-e80e-b35bf3ad0d36"
      },
      "execution_count": 15,
      "outputs": [
        {
          "output_type": "display_data",
          "data": {
            "text/plain": [
              "<Figure size 432x288 with 1 Axes>"
            ],
            "image/png": "[encoded data removed]"
          },
          "metadata": {
            "needs_background": "light"
          }
        }
      ]
    },
    {
      "cell_type": "markdown",
      "source": [
        "## Performing Linear Regression using `Scikit-Learn`\n"
      ],
      "metadata": {
        "id": "x0H3MKqvdlfm"
      }
    },
    {
      "cell_type": "code",
      "source": [
        "from sklearn.linear_model import LinearRegression\n",
        "lin_reg = LinearRegression()\n",
        "lin_reg.fit(X,y)"
      ],
      "metadata": {
        "colab": {
          "base_uri": "https://localhost:8080/",
          "height": 75
        },
        "id": "lc5zRsfjeAHQ",
        "outputId": "12e2b2a8-29aa-4cb7-cd8c-d57bf9fc87a2"
      },
      "execution_count": 16,
      "outputs": [
        {
          "output_type": "execute_result",
          "data": {
            "text/plain": [
              "LinearRegression()"
            ],
            "text/html": [
              "<style>#sk-container-id-1 {color: black;background-color: white;}#sk-container-id-1 pre{padding: 0;}#sk-container-id-1 div.sk-toggleable {background-color: white;}#sk-container-id-1 label.sk-toggleable__label {cursor: pointer;display: block;width: 100%;margin-bottom: 0;padding: 0.3em;box-sizing: border-box;text-align: center;}#sk-container-id-1 label.sk-toggleable__label-arrow:before {content: \"▸\";float: left;margin-right: 0.25em;color: #696969;}#sk-container-id-1 label.sk-toggleable__label-arrow:hover:before {color: black;}#sk-container-id-1 div.sk-estimator:hover label.sk-toggleable__label-arrow:before {color: black;}#sk-container-id-1 div.sk-toggleable__content {max-height: 0;max-width: 0;overflow: hidden;text-align: left;background-color: #f0f8ff;}#sk-container-id-1 div.sk-toggleable__content pre {margin: 0.2em;color: black;border-radius: 0.25em;background-color: #f0f8ff;}#sk-container-id-1 input.sk-toggleable__control:checked~div.sk-toggleable__content {max-height: 200px;max-width: 100%;overflow: auto;}#sk-container-id-1 input.sk-toggleable__control:checked~label.sk-toggleable__label-arrow:before {content: \"▾\";}#sk-container-id-1 div.sk-estimator input.sk-toggleable__control:checked~label.sk-toggleable__label {background-color: #d4ebff;}#sk-container-id-1 div.sk-label input.sk-toggleable__control:checked~label.sk-toggleable__label {background-color: #d4ebff;}#sk-container-id-1 input.sk-hidden--visually {border: 0;clip: rect(1px 1px 1px 1px);clip: rect(1px, 1px, 1px, 1px);height: 1px;margin: -1px;overflow: hidden;padding: 0;position: absolute;width: 1px;}#sk-container-id-1 div.sk-estimator {font-family: monospace;background-color: #f0f8ff;border: 1px dotted black;border-radius: 0.25em;box-sizing: border-box;margin-bottom: 0.5em;}#sk-container-id-1 div.sk-estimator:hover {background-color: #d4ebff;}#sk-container-id-1 div.sk-parallel-item::after {content: \"\";width: 100%;border-bottom: 1px solid gray;flex-grow: 1;}#sk-container-id-1 div.sk-label:hover label.sk-toggleable__label {background-color: #d4ebff;}#sk-container-id-1 div.sk-serial::before {content: \"\";position: absolute;border-left: 1px solid gray;box-sizing: border-box;top: 0;bottom: 0;left: 50%;z-index: 0;}#sk-container-id-1 div.sk-serial {display: flex;flex-direction: column;align-items: center;background-color: white;padding-right: 0.2em;padding-left: 0.2em;position: relative;}#sk-container-id-1 div.sk-item {position: relative;z-index: 1;}#sk-container-id-1 div.sk-parallel {display: flex;align-items: stretch;justify-content: center;background-color: white;position: relative;}#sk-container-id-1 div.sk-item::before, #sk-container-id-1 div.sk-parallel-item::before {content: \"\";position: absolute;border-left: 1px solid gray;box-sizing: border-box;top: 0;bottom: 0;left: 50%;z-index: -1;}#sk-container-id-1 div.sk-parallel-item {display: flex;flex-direction: column;z-index: 1;position: relative;background-color: white;}#sk-container-id-1 div.sk-parallel-item:first-child::after {align-self: flex-end;width: 50%;}#sk-container-id-1 div.sk-parallel-item:last-child::after {align-self: flex-start;width: 50%;}#sk-container-id-1 div.sk-parallel-item:only-child::after {width: 0;}#sk-container-id-1 div.sk-dashed-wrapped {border: 1px dashed gray;margin: 0 0.4em 0.5em 0.4em;box-sizing: border-box;padding-bottom: 0.4em;background-color: white;}#sk-container-id-1 div.sk-label label {font-family: monospace;font-weight: bold;display: inline-block;line-height: 1.2em;}#sk-container-id-1 div.sk-label-container {text-align: center;}#sk-container-id-1 div.sk-container {/* jupyter's `normalize.less` sets `[hidden] { display: none; }` but bootstrap.min.css set `[hidden] { display: none !important; }` so we also need the `!important` here to be able to override the default hidden behavior on the sphinx rendered scikit-learn.org. See: https://github.com/scikit-learn/scikit-learn/issues/21755 */display: inline-block !important;position: relative;}#sk-container-id-1 div.sk-text-repr-fallback {display: none;}</style><div id=\"sk-container-id-1\" class=\"sk-top-container\"><div class=\"sk-text-repr-fallback\"><pre>LinearRegression()</pre><b>In a Jupyter environment, please rerun this cell to show the HTML representation or trust the notebook. <br />On GitHub, the HTML representation is unable to render, please try loading this page with nbviewer.org.</b></div><div class=\"sk-container\" hidden><div class=\"sk-item\"><div class=\"sk-estimator sk-toggleable\"><input class=\"sk-toggleable__control sk-hidden--visually\" id=\"sk-estimator-id-1\" type=\"checkbox\" checked><label for=\"sk-estimator-id-1\" class=\"sk-toggleable__label sk-toggleable__label-arrow\">LinearRegression</label><div class=\"sk-toggleable__content\"><pre>LinearRegression()</pre></div></div></div></div></div>"
            ]
          },
          "metadata": {},
          "execution_count": 16
        }
      ]
    },
    {
      "cell_type": "code",
      "source": [
        "lin_reg.intercept_, lin_reg.coef_"
      ],
      "metadata": {
        "colab": {
          "base_uri": "https://localhost:8080/"
        },
        "id": "yHbfLN96gP_B",
        "outputId": "b3554baa-ca36-416c-e3cb-dc2b0ca81228"
      },
      "execution_count": 17,
      "outputs": [
        {
          "output_type": "execute_result",
          "data": {
            "text/plain": [
              "(array([4.21509616]), array([[2.77011339]]))"
            ]
          },
          "metadata": {},
          "execution_count": 17
        }
      ]
    },
    {
      "cell_type": "code",
      "source": [
        "lin_reg.predict(X_new)"
      ],
      "metadata": {
        "colab": {
          "base_uri": "https://localhost:8080/"
        },
        "id": "vvMmIEtFgZqs",
        "outputId": "3c2bb77e-b762-4328-9fbb-7a55bc19666d"
      },
      "execution_count": 18,
      "outputs": [
        {
          "output_type": "execute_result",
          "data": {
            "text/plain": [
              "array([[4.21509616],\n",
              "       [9.75532293]])"
            ]
          },
          "metadata": {},
          "execution_count": 18
        }
      ]
    },
    {
      "cell_type": "markdown",
      "source": [
        "## The Moore-Penrose inverse\n",
        "\n",
        "The `LinearRegression` class is based on the `scipy.linalg.lstsq()` function (the name stands for \"least squares\"). \n",
        "\n",
        "The function computes $\\widehat{\\mathbf{\\theta}}$ using $\\widehat{\\mathbf{\\theta}} = \\mathbf{X}^{\\dagger} \\mathbf{y}$, where ${\\mathbf{X}}^{\\dagger}$ is the pseudoinverse (the Moore-Penrose inverse) of $\\mathbf{X}$.\n",
        "\n",
        "The pseudoinverse is computed using a standard matrix factorization technique caled Singular Value Decomposition (`SVD`). The training set matrix $\\mathbf{X}$ is decomposed into the matrix multiplication of three matrices: $$\\mathbf{X} =\\mathbf{U} \\mathbf{\\Sigma} \\mathbf{V}^\\top.$$\n",
        "\n",
        "See `numpy.linalg.svd()`.\n",
        "\n",
        "The pseudoinverse is computed as $$\\mathbf{X}^\\dagger =\\mathbf{V} \\mathbf{\\Sigma}^\\dagger \\mathbf{U}^\\top.$$\n",
        "\n",
        "For a rectangular diagonal matrix such as \n",
        "$\\mathbf{\\Sigma}$, we get the pseudoinverse by taking the reciprocal of each non-zero element on the diagonal, leaving the zeros in place, and then transposing the matrix. In numerical computation, only elements larger than some small tolerance are taken to be nonzero, and the others are replaced by zeros.\n",
        "\n",
        "This approach is more efficient than computing the Normal Equation and the pseudoinverse is always defined.\n"
      ],
      "metadata": {
        "id": "FW_pCMthl4-H"
      }
    },
    {
      "cell_type": "markdown",
      "source": [
        "## Computational complexity \n",
        "\n",
        "The SVD approach used by Scikit's Learn's `LinearRegression` class has computational complexity of about $O(n^2)$. That means, if you double the number of features, you multiply the computation time by roughly 4. It is very slow when the number of features grows large (e.g., 100,000). On the positive side, it is linear with respect to the number of instances in the training set ($O(m)$), so it can handle large training sets efficiently, provided they can feet in memory."
      ],
      "metadata": {
        "id": "UQMnD2_yr5L8"
      }
    },
    {
      "cell_type": "markdown",
      "source": [
        "# Gradient Descent\n",
        "\n",
        "* An important parameter in Gradient Descent si the size of the steps, determined by the `learning rate` hyperparameter:\n",
        "   * too smal - long time to converge\n",
        "   * too high -  you might jump across the valley and end up on the other side, possibly even higher up than you were before. This might make the algorithm diverge, with larger and larger values, failing to find a good solution.\n",
        "\n",
        "* Not all cost functions look like nice, regular bowls. There may be holes, ridges, plateaus and all sorts of irregular terrains, making convergence to the minimum difficult. Fortunately, the `MSE` cost function for a Linear Regression model happens to be a convex (concave up) function. That means, there are no local minima, just one global minimum. It is also a continuous function with a slope that never changes abruptly (its derivative is Lipschitz continous). That means, Gradient Descent is guaranteed to approach arbitrarly close the global minimum (if you wait long enough and if the learning rate is not too high).\n",
        " \n",
        "* The cost function has the shape of a bowl, but it can be an elongated bowl if the features have very different scales. When using Gradient Descent, you should ensure that all features have a similar scale (e.g using Scikit's Learn's `SandardScaler` class), or elseit will take much longer to converge.\n"
      ],
      "metadata": {
        "id": "XENnlr8LsOQa"
      }
    },
    {
      "cell_type": "markdown",
      "source": [
        "\n",
        "## Batch Gradient Descent \n",
        "\n",
        "* Batch Gradient Descent uses the whole batch of training data at every step. It involves calculations over the full training set $X$. As a result, it is terribly slow on very large training sets.\n",
        "\n",
        "* Gradient Descent scales well with the number of features, training a Linear Regression model when there are hundreds of thousands of features is much faster than using the Normal Equation or Singular Value Decomposition.\n",
        "\n",
        "* To implement Gradient Descent, you need to compute the gradient of the cost function, $∇MSE(\\mathbf{\\theta})$. That is, the vector of partial derivatives with respect to each model parameter $\\theta_j$:\n",
        "\n",
        "$$ \\frac{\\partial}{\\partial \\theta_j} MSE(\\mathbf{\\theta}) = \\frac{2}{m} \\sum_{i=1}^m \\left(\\mathbf{\\theta}^\\top \\mathbf{x}^{(i)} - y^{(i)}\\right) x_j^{(i)}$$\n",
        "\n",
        "* The gradient vector of the cost function $MSE$ is given by:\n",
        "$$∇MSE(\\mathbf{\\theta}) = \\begin{bmatrix}\n",
        "\\frac{\\partial}{\\partial \\theta_0} MSE(\\mathbf{\\theta}) \\\\\n",
        "\\frac{\\partial}{\\partial \\theta_1} MSE(\\mathbf{\\theta}) \\\\\n",
        "\\vdots\\\\\n",
        "\\frac{\\partial}{\\partial \\theta_n} MSE(\\mathbf{\\theta})\n",
        "\\end{bmatrix} = \\frac{2}{m} \\mathbf{X}^\\top \\left(\\mathbf{X}\\mathbf{\\theta} - \\mathbf{y}\\right)$$\n",
        "\n",
        "* Gradient Descent step:\n",
        "\n",
        "$$ \\mathbf{\\theta}^{(\\text{next step})} = \\mathbf{\\theta} - \\eta \\nabla MSE(\\mathbf{\\theta})$$\n",
        "\n",
        "Once you have the gradient vector, which points \"uphill\" (the direction of fastest increase), just go in the opposite direction. This means subtracting $\\nabla MSE(\\mathbf{\\theta})$ from $\\mathbf{\\theta}$. We multiply the gradient vector by the learning rate $\\eta$, which gives the size of the \"downhill\" step.\n",
        "\n",
        "\n"
      ],
      "metadata": {
        "id": "CQQgnsJixWvt"
      }
    },
    {
      "cell_type": "code",
      "source": [
        "# Batch Gradient Descent\n",
        "eta = 0.1  # learning rate\n",
        "n_epochs = 1000\n",
        "m = len(X_b)  # number of instances\n",
        "\n",
        "np.random.seed(42)\n",
        "theta = np.random.randn(2, 1)  # randomly initialized model parameters\n",
        "\n",
        "for epoch in range(n_epochs):\n",
        "    gradients = 2 / m * X_b.T @ (X_b @ theta - y)\n",
        "    theta = theta - eta * gradients"
      ],
      "metadata": {
        "id": "Dp6Wu-_n4tdr"
      },
      "execution_count": 19,
      "outputs": []
    },
    {
      "cell_type": "code",
      "source": [
        "# trained model parameters\n",
        "theta"
      ],
      "metadata": {
        "colab": {
          "base_uri": "https://localhost:8080/"
        },
        "id": "l0djrPPx4_10",
        "outputId": "38eb425f-0eef-4baa-ca02-f6c553decef6"
      },
      "execution_count": 20,
      "outputs": [
        {
          "output_type": "execute_result",
          "data": {
            "text/plain": [
              "array([[4.21509616],\n",
              "       [2.77011339]])"
            ]
          },
          "metadata": {},
          "execution_count": 20
        }
      ]
    },
    {
      "cell_type": "markdown",
      "source": [
        "## Finding a good learning rate\n",
        "\n",
        "Note that is exactly what the Normal Equation found as well. But what if you had used a different learning rate `eta`?\n"
      ],
      "metadata": {
        "id": "474-Rc476XRK"
      }
    },
    {
      "cell_type": "code",
      "source": [
        "import matplotlib as mpl\n",
        "\n",
        "def plot_gradient_descent(theta, eta):\n",
        "    m = len(X_b)\n",
        "    plt.plot(X, y, \"b.\")\n",
        "    n_epochs = 1000\n",
        "    n_shown = 20\n",
        "    theta_path = []\n",
        "    for epoch in range(n_epochs):\n",
        "        if epoch < n_shown:\n",
        "            y_predict = X_new_b @ theta\n",
        "            color = mpl.colors.rgb2hex(plt.cm.OrRd(epoch / n_shown + 0.15))\n",
        "            plt.plot(X_new, y_predict, linestyle=\"solid\", color=color)\n",
        "        gradients = 2 / m * X_b.T @ (X_b @ theta - y)\n",
        "        theta = theta - eta * gradients\n",
        "        theta_path.append(theta)\n",
        "    plt.xlabel(\"$x_1$\")\n",
        "    plt.axis([0, 2, 0, 15])\n",
        "    plt.grid()\n",
        "    plt.title(fr\"$\\eta = {eta}$\")\n",
        "    return theta_path\n",
        "\n",
        "np.random.seed(42)\n",
        "theta = np.random.randn(2, 1)  # random initialization\n",
        "\n",
        "plt.figure(figsize=(10, 4))\n",
        "plt.subplot(131)\n",
        "plot_gradient_descent(theta, eta=0.02)\n",
        "plt.ylabel(\"$y$\", rotation=0)\n",
        "plt.subplot(132)\n",
        "theta_path_bgd = plot_gradient_descent(theta, eta=0.1)\n",
        "plt.gca().axes.yaxis.set_ticklabels([])\n",
        "plt.subplot(133)\n",
        "plt.gca().axes.yaxis.set_ticklabels([])\n",
        "plot_gradient_descent(theta, eta=0.5)\n",
        "save_fig(\"gradient_descent_plot\")\n",
        "plt.show()"
      ],
      "metadata": {
        "colab": {
          "base_uri": "https://localhost:8080/",
          "height": 286
        },
        "id": "M1GjUCuB638e",
        "outputId": "3175c4c1-8d9a-4ec7-ef32-c65e7dc9b5ba"
      },
      "execution_count": 21,
      "outputs": [
        {
          "output_type": "display_data",
          "data": {
            "text/plain": [
              "<Figure size 720x288 with 3 Axes>"
            ],
            "image/png": "[encoded data removed]"
          },
          "metadata": {
            "needs_background": "light"
          }
        }
      ]
    },
    {
      "cell_type": "markdown",
      "source": [
        "The above figure shows the first 10 steps of Gradient Descent using three different learning rates:\n",
        "\n",
        "* On the left, the learning rate is **too low**: the algorithm will eventually reach the solution, but it will take a long time. \n",
        "\n",
        "* In the middle, the learning rate looks **pretty good**: in just a few iterations, it has already converged to the solution.\n",
        "\n",
        "*  On the right, the learning rate is **too high**: the algorithm diverges, jumping all over the place and actually getting further and further away from the solution at every step."
      ],
      "metadata": {
        "id": "l3YU-Amq7oMO"
      }
    },
    {
      "cell_type": "markdown",
      "source": [
        "## Setting the number of iterations\n",
        "\n",
        "\n",
        "* Too low: you will still be far away from the optimal solution when the algorithm stops.\n",
        "\n",
        "* Too high: you will waste time while the model parameters do not change anymore.\n",
        "\n",
        "Simple solution: set a very large number of iterations but interrupt the algorithm when the norm of the gradient becomes smaller than a very small number $\\epsilon$ (called **tolerance**), because this happens when Gradient Descent has (almost) reached the minimum. \n"
      ],
      "metadata": {
        "id": "Vhq2jqNpdOJm"
      }
    },
    {
      "cell_type": "markdown",
      "source": [
        "## Stochastic Gradient Descent\n",
        "\n",
        "* To make the algorithm much faster, Stochastic Gradient Descent picks a random instance in the training set at every step and computes the gradients based only on that instance.\n",
        "\n",
        "* Bad: Due to its stochastic (i.e random) nature, it is much less regular than Batch Gradient Descent. Instead of gently decreasing until it reaches the minimum, the cost function will bounce up and down, decreasing only on average. It might end up very close to the minimum, but continue to bounce around. Once the algorithm stops, the final paramter values are good, but not optimal. \n",
        "\n",
        "    * One solution: gradually reduce the learning rate. \n",
        "    * The function that determines the learning rate at each iteration is called the **learning schedule**.\n",
        "\n",
        "* Good: Randomness is good to escape local minima. When the cost function is very irregular, this can actually help the algorithm jump out of local minima. Stochastic GD has a better chance at finding the global minimum than Batch GD does.\n",
        "\n",
        "\n",
        "\n",
        "\n",
        "\n"
      ],
      "metadata": {
        "id": "D_0SJPSKkb5f"
      }
    },
    {
      "cell_type": "code",
      "source": [
        "# Stochastic GD using a simple learning schedule\n",
        "\n",
        "n_epochs = 50\n",
        "t0, t1 = 5, 50 # learning schedule hyperparameters\n",
        "\n",
        "def learning_schedule(t):\n",
        "  return t0/ (t + t1)\n",
        "\n",
        "theta = np.random.randn(2,1) # random initialization\n",
        "\n",
        "for epoch in range(n_epochs):\n",
        "    for iteration in range(m):\n",
        "      \n",
        "        random_index = np.random.randint(m)\n",
        "        xi = X_b[random_index : random_index + 1]\n",
        "        yi = y[random_index : random_index + 1]\n",
        "        gradients = 2 * xi.T @ (xi @ theta - yi)  # for SGD, do not divide by m\n",
        "        eta = learning_schedule(epoch * m + iteration)\n",
        "        theta = theta - eta * gradients"
      ],
      "metadata": {
        "id": "smciZnN2WxRb"
      },
      "execution_count": 22,
      "outputs": []
    },
    {
      "cell_type": "code",
      "source": [
        "theta"
      ],
      "metadata": {
        "colab": {
          "base_uri": "https://localhost:8080/"
        },
        "id": "HnrUL56Teoex",
        "outputId": "f4f07807-21e7-4ea8-ea4d-98e553250925"
      },
      "execution_count": 23,
      "outputs": [
        {
          "output_type": "execute_result",
          "data": {
            "text/plain": [
              "array([[4.20742938],\n",
              "       [2.74264448]])"
            ]
          },
          "metadata": {},
          "execution_count": 23
        }
      ]
    },
    {
      "cell_type": "code",
      "source": [
        "# Linear Regression using Stochastic GD with Scikit-Learn\n",
        "\n",
        "from sklearn.linear_model import SGDRegressor\n",
        "sgd_reg = SGDRegressor(max_iter=1000, tol=1e-5, penalty=None, eta0=0.1, random_state=42)\n",
        "sgd_reg.fit(X, y.ravel()) # y.ravel() because fit() expects 1D targets"
      ],
      "metadata": {
        "colab": {
          "base_uri": "https://localhost:8080/",
          "height": 75
        },
        "id": "yP-vzgskqPOG",
        "outputId": "55bf1e25-b093-4a6d-dce0-784225b59ebb"
      },
      "execution_count": 24,
      "outputs": [
        {
          "output_type": "execute_result",
          "data": {
            "text/plain": [
              "SGDRegressor(eta0=0.1, penalty=None, random_state=42, tol=1e-05)"
            ],
            "text/html": [
              "<style>#sk-container-id-2 {color: black;background-color: white;}#sk-container-id-2 pre{padding: 0;}#sk-container-id-2 div.sk-toggleable {background-color: white;}#sk-container-id-2 label.sk-toggleable__label {cursor: pointer;display: block;width: 100%;margin-bottom: 0;padding: 0.3em;box-sizing: border-box;text-align: center;}#sk-container-id-2 label.sk-toggleable__label-arrow:before {content: \"▸\";float: left;margin-right: 0.25em;color: #696969;}#sk-container-id-2 label.sk-toggleable__label-arrow:hover:before {color: black;}#sk-container-id-2 div.sk-estimator:hover label.sk-toggleable__label-arrow:before {color: black;}#sk-container-id-2 div.sk-toggleable__content {max-height: 0;max-width: 0;overflow: hidden;text-align: left;background-color: #f0f8ff;}#sk-container-id-2 div.sk-toggleable__content pre {margin: 0.2em;color: black;border-radius: 0.25em;background-color: #f0f8ff;}#sk-container-id-2 input.sk-toggleable__control:checked~div.sk-toggleable__content {max-height: 200px;max-width: 100%;overflow: auto;}#sk-container-id-2 input.sk-toggleable__control:checked~label.sk-toggleable__label-arrow:before {content: \"▾\";}#sk-container-id-2 div.sk-estimator input.sk-toggleable__control:checked~label.sk-toggleable__label {background-color: #d4ebff;}#sk-container-id-2 div.sk-label input.sk-toggleable__control:checked~label.sk-toggleable__label {background-color: #d4ebff;}#sk-container-id-2 input.sk-hidden--visually {border: 0;clip: rect(1px 1px 1px 1px);clip: rect(1px, 1px, 1px, 1px);height: 1px;margin: -1px;overflow: hidden;padding: 0;position: absolute;width: 1px;}#sk-container-id-2 div.sk-estimator {font-family: monospace;background-color: #f0f8ff;border: 1px dotted black;border-radius: 0.25em;box-sizing: border-box;margin-bottom: 0.5em;}#sk-container-id-2 div.sk-estimator:hover {background-color: #d4ebff;}#sk-container-id-2 div.sk-parallel-item::after {content: \"\";width: 100%;border-bottom: 1px solid gray;flex-grow: 1;}#sk-container-id-2 div.sk-label:hover label.sk-toggleable__label {background-color: #d4ebff;}#sk-container-id-2 div.sk-serial::before {content: \"\";position: absolute;border-left: 1px solid gray;box-sizing: border-box;top: 0;bottom: 0;left: 50%;z-index: 0;}#sk-container-id-2 div.sk-serial {display: flex;flex-direction: column;align-items: center;background-color: white;padding-right: 0.2em;padding-left: 0.2em;position: relative;}#sk-container-id-2 div.sk-item {position: relative;z-index: 1;}#sk-container-id-2 div.sk-parallel {display: flex;align-items: stretch;justify-content: center;background-color: white;position: relative;}#sk-container-id-2 div.sk-item::before, #sk-container-id-2 div.sk-parallel-item::before {content: \"\";position: absolute;border-left: 1px solid gray;box-sizing: border-box;top: 0;bottom: 0;left: 50%;z-index: -1;}#sk-container-id-2 div.sk-parallel-item {display: flex;flex-direction: column;z-index: 1;position: relative;background-color: white;}#sk-container-id-2 div.sk-parallel-item:first-child::after {align-self: flex-end;width: 50%;}#sk-container-id-2 div.sk-parallel-item:last-child::after {align-self: flex-start;width: 50%;}#sk-container-id-2 div.sk-parallel-item:only-child::after {width: 0;}#sk-container-id-2 div.sk-dashed-wrapped {border: 1px dashed gray;margin: 0 0.4em 0.5em 0.4em;box-sizing: border-box;padding-bottom: 0.4em;background-color: white;}#sk-container-id-2 div.sk-label label {font-family: monospace;font-weight: bold;display: inline-block;line-height: 1.2em;}#sk-container-id-2 div.sk-label-container {text-align: center;}#sk-container-id-2 div.sk-container {/* jupyter's `normalize.less` sets `[hidden] { display: none; }` but bootstrap.min.css set `[hidden] { display: none !important; }` so we also need the `!important` here to be able to override the default hidden behavior on the sphinx rendered scikit-learn.org. See: https://github.com/scikit-learn/scikit-learn/issues/21755 */display: inline-block !important;position: relative;}#sk-container-id-2 div.sk-text-repr-fallback {display: none;}</style><div id=\"sk-container-id-2\" class=\"sk-top-container\"><div class=\"sk-text-repr-fallback\"><pre>SGDRegressor(eta0=0.1, penalty=None, random_state=42, tol=1e-05)</pre><b>In a Jupyter environment, please rerun this cell to show the HTML representation or trust the notebook. <br />On GitHub, the HTML representation is unable to render, please try loading this page with nbviewer.org.</b></div><div class=\"sk-container\" hidden><div class=\"sk-item\"><div class=\"sk-estimator sk-toggleable\"><input class=\"sk-toggleable__control sk-hidden--visually\" id=\"sk-estimator-id-2\" type=\"checkbox\" checked><label for=\"sk-estimator-id-2\" class=\"sk-toggleable__label sk-toggleable__label-arrow\">SGDRegressor</label><div class=\"sk-toggleable__content\"><pre>SGDRegressor(eta0=0.1, penalty=None, random_state=42, tol=1e-05)</pre></div></div></div></div></div>"
            ]
          },
          "metadata": {},
          "execution_count": 24
        }
      ]
    },
    {
      "cell_type": "code",
      "source": [
        "sgd_reg.intercept_, sgd_reg.coef_"
      ],
      "metadata": {
        "colab": {
          "base_uri": "https://localhost:8080/"
        },
        "id": "iAukxvxbrYTx",
        "outputId": "fdd6164f-db97-45ba-d13e-ac44c9de9549"
      },
      "execution_count": 25,
      "outputs": [
        {
          "output_type": "execute_result",
          "data": {
            "text/plain": [
              "(array([4.24365286]), array([2.8250878]))"
            ]
          },
          "metadata": {},
          "execution_count": 25
        }
      ]
    },
    {
      "cell_type": "markdown",
      "source": [
        "* We use the `SGDRegressor` class, which defaults to optimizing the squared error cost function. \n",
        "\n",
        "* The above code runs for maximum 1,000 epochs or until the loss drops by less than 0.00001 during one epoch (`max_iter=1000, tol=1e-5`).  \n",
        "\n",
        "* It starts with a learning rate of 0.1 (`eta0=0.1`), using the default learning schedule (different from the preceding one). Lastly, it does not use any regularization (`penalty=None`)."
      ],
      "metadata": {
        "id": "3rwMLl6_ribc"
      }
    },
    {
      "cell_type": "markdown",
      "source": [
        "## Mini-Batch Gradient Descent\n",
        "\n",
        "*  At each step, instead of computing the gradients based on the full training set (as in Batch GD) or based on just one instance (as in Stochastic GD), Mini-batch GD computes the gradients on small random sets of instances called mini-batches."
      ],
      "metadata": {
        "id": "IRraMFRLt9Ui"
      }
    },
    {
      "cell_type": "markdown",
      "source": [
        "# Comparison of algorithms for Linear Regression\n",
        "\n",
        "| Algorithm |  Large $m$ | Large $n$|Hyperparams | Scaling required | Scikit-Learn |\n",
        "| --- | ----------- |-----------|-------|-------|-------|\n",
        "| Normal Equation | Fast | Slow | 0 | No | N/A |\n",
        "| SVD | Fast | Slow | 0 | No | LinearRegression |\n",
        "| Batch GD| Slow | Fast | 2 | Yes | SGDRegressor |\n",
        "| Stochastic GD| Fast | Fast | $\\geq 2$ | Yes | SGDRegressor |\n",
        "| Mini-Batch GD| Fast | Fast | $\\geq 2$ | Yes | SGDRegressor |"
      ],
      "metadata": {
        "id": "F-7BnFlzw1bj"
      }
    },
    {
      "cell_type": "markdown",
      "source": [
        "NOTE.  There is almost no difference after training: all these algorithms end up with very similar models and make predictions in exactly the same way."
      ],
      "metadata": {
        "id": "_C1pC9lmwhsR"
      }
    },
    {
      "cell_type": "markdown",
      "source": [
        "# Polynomial Regression\n",
        "\n",
        "* Add powers of each feature as new features, then train a linear model on this extended set of features. \n",
        "\n",
        "* In the following example, we use Scikit-Learn's `PolynomialFeatures` class with `degree=2` to transform our training data, adding the square of each feature in the training set as a new feature (in this case there is just one feature).\n",
        "\n",
        "* Note that if there were two features $a$ and $b$, `PolynomialFeatures` with `degree=3` would not only add the features $a^2, a^3, b^2$, and $b^3$, but also the combinations $ab, a^2b,$ and $ab^2$.\n",
        "\n",
        "* `PolynomialFeatures` with `degree=d` transforms an array containing $n$ features into an array containing $\\frac{(n+d)!}{d!n!}$ features."
      ],
      "metadata": {
        "id": "IELDz8LQzBcP"
      }
    },
    {
      "cell_type": "code",
      "source": [
        "# generate some nonlinear data\n",
        "np.random.seed(42)\n",
        "m = 100\n",
        "X = 6 *  np.random.rand(m,1) - 3\n",
        "y = 0.5*X**2 + X + 2 + np.random.randn(m,1)"
      ],
      "metadata": {
        "id": "_cO-asjkr7k-"
      },
      "execution_count": 26,
      "outputs": []
    },
    {
      "cell_type": "code",
      "source": [
        "plt.figure(figsize=(6, 4))\n",
        "plt.plot(X, y, \"b.\")\n",
        "plt.xlabel(\"$x_1$\")\n",
        "plt.ylabel(\"$y$\", rotation=0)\n",
        "plt.axis([-3, 3, 0, 10])\n",
        "plt.grid()\n",
        "save_fig(\"quadratic_data_plot\")\n",
        "plt.show()"
      ],
      "metadata": {
        "colab": {
          "base_uri": "https://localhost:8080/",
          "height": 289
        },
        "id": "PrFzt7fuuyEI",
        "outputId": "91888557-aa37-4783-e3d3-7a6a78654a86"
      },
      "execution_count": 27,
      "outputs": [
        {
          "output_type": "display_data",
          "data": {
            "text/plain": [
              "<Figure size 432x288 with 1 Axes>"
            ],
            "image/png": "[encoded data removed]"
          },
          "metadata": {
            "needs_background": "light"
          }
        }
      ]
    },
    {
      "cell_type": "code",
      "source": [
        "from sklearn.preprocessing import PolynomialFeatures\n",
        "poly_features = PolynomialFeatures(degree=2, include_bias=False)\n",
        "# X_poly contains the original feature of X and the square of this feature\n",
        "X_poly = poly_features.fit_transform(X)"
      ],
      "metadata": {
        "id": "FdKQlN5vsyEK"
      },
      "execution_count": 28,
      "outputs": []
    },
    {
      "cell_type": "code",
      "source": [
        "# fit a LinearRegression model to this extended training data\n",
        "lin_reg = LinearRegression()\n",
        "lin_reg.fit(X_poly, y)\n",
        "lin_reg.intercept_, lin_reg.coef_"
      ],
      "metadata": {
        "colab": {
          "base_uri": "https://localhost:8080/"
        },
        "id": "jHO4YXBztVdf",
        "outputId": "591aa206-74f9-4598-bf86-d7195eef3378"
      },
      "execution_count": 29,
      "outputs": [
        {
          "output_type": "execute_result",
          "data": {
            "text/plain": [
              "(array([1.78134581]), array([[0.93366893, 0.56456263]]))"
            ]
          },
          "metadata": {},
          "execution_count": 29
        }
      ]
    },
    {
      "cell_type": "markdown",
      "source": [
        "The model estimates $$\\widehat{y} = 0.56x_1^2 + 0.93 x_1 + 1.78$$\n",
        "when the original function used to generate the data was \n",
        "$$y = 0.5 x_1^2 + 1.0 x_1 + 2 + \\text{ Gaussian noise}.$$"
      ],
      "metadata": {
        "id": "AETwHYKavqOu"
      }
    },
    {
      "cell_type": "code",
      "source": [
        "X_new = np.linspace(-3, 3, 100).reshape(100, 1)\n",
        "X_new_poly = poly_features.transform(X_new)\n",
        "y_new = lin_reg.predict(X_new_poly)\n",
        "\n",
        "plt.figure(figsize=(6, 4))\n",
        "plt.plot(X, y, \"b.\")\n",
        "plt.plot(X_new, y_new, \"g-\", linewidth=2, label=\"Predictions\")\n",
        "plt.xlabel(\"$x_1$\")\n",
        "plt.ylabel(\"$y$\", rotation=0)\n",
        "plt.legend(loc=\"upper left\")\n",
        "plt.axis([-3, 3, 0, 10])\n",
        "plt.grid()\n",
        "save_fig(\"quadratic_predictions_plot\")\n",
        "plt.show()"
      ],
      "metadata": {
        "colab": {
          "base_uri": "https://localhost:8080/",
          "height": 289
        },
        "id": "IB1O3Td76V-h",
        "outputId": "99eb8942-c902-4ff1-9d4b-a2fcf633184d"
      },
      "execution_count": 30,
      "outputs": [
        {
          "output_type": "display_data",
          "data": {
            "text/plain": [
              "<Figure size 432x288 with 1 Axes>"
            ],
            "image/png": "[encoded data removed]"
          },
          "metadata": {
            "needs_background": "light"
          }
        }
      ]
    },
    {
      "cell_type": "markdown",
      "source": [
        "# Learning Curves\n",
        "\n",
        "* These are plots of the model's performance on the training set and the validation set as a function of the training set size (or the training set iteration). To generate the plots, train the model several times on different sized subsets of the training set.\n",
        "\n"
      ],
      "metadata": {
        "id": "lRpRkBN2AlHP"
      }
    },
    {
      "cell_type": "markdown",
      "source": [
        "##  Underfitting Example"
      ],
      "metadata": {
        "id": "0BkChrCuNqWz"
      }
    },
    {
      "cell_type": "code",
      "source": [
        "from sklearn.model_selection import learning_curve\n",
        "\n",
        "train_sizes, train_scores, valid_scores = learning_curve(\n",
        "    LinearRegression(), X, y, train_sizes=np.linspace(0.01, 1.0, 40), cv=5,\n",
        "    scoring=\"neg_root_mean_squared_error\")\n",
        "train_errors = -train_scores.mean(axis=1)\n",
        "valid_errors = -valid_scores.mean(axis=1)"
      ],
      "metadata": {
        "id": "NNuct4N5FpQX"
      },
      "execution_count": 31,
      "outputs": []
    },
    {
      "cell_type": "code",
      "source": [
        "plt.figure(figsize=(6, 4))  # extra code – not needed, just formatting\n",
        "plt.plot(train_sizes, train_errors, \"r-+\", linewidth=2, label=\"train\")\n",
        "plt.plot(train_sizes, valid_errors, \"b-\", linewidth=3, label=\"valid\")\n",
        "\n",
        "\n",
        "plt.xlabel(\"Training set size\")\n",
        "plt.ylabel(\"RMSE\")\n",
        "plt.grid()\n",
        "plt.legend(loc=\"upper right\")\n",
        "plt.axis([0, 80, 0, 2.5])\n",
        "save_fig(\"underfitting_learning_curves_plot\")\n",
        "\n",
        "plt.show()"
      ],
      "metadata": {
        "colab": {
          "base_uri": "https://localhost:8080/",
          "height": 289
        },
        "id": "Fleu_mzhNT6C",
        "outputId": "7863ab60-1031-45f7-8d33-93bda4f554e7"
      },
      "execution_count": 32,
      "outputs": [
        {
          "output_type": "display_data",
          "data": {
            "text/plain": [
              "<Figure size 432x288 with 1 Axes>"
            ],
            "image/png": "[encoded data removed]"
          },
          "metadata": {
            "needs_background": "light"
          }
        }
      ]
    },
    {
      "cell_type": "markdown",
      "source": [
        "Interpretation of the above plot: the model is underfitting. Both curves have reached a plateau; they are close and fairly high."
      ],
      "metadata": {
        "id": "wrj7eZssIySH"
      }
    },
    {
      "cell_type": "markdown",
      "source": [
        "## Overfitting Example\n",
        "\n",
        "Let's look at the learning curves of a 10th-degree polynomial model on the same data as in the previous example."
      ],
      "metadata": {
        "id": "Cqums4knNvvg"
      }
    },
    {
      "cell_type": "code",
      "source": [
        "from sklearn.pipeline import make_pipeline\n",
        "\n",
        "polynomial_regression = make_pipeline(\n",
        "    PolynomialFeatures(degree=10, include_bias=False),\n",
        "    LinearRegression())\n",
        "\n",
        "train_sizes, train_scores, valid_scores = learning_curve(\n",
        "    polynomial_regression, X, y, train_sizes=np.linspace(0.01, 1.0, 40), cv=5,\n",
        "    scoring=\"neg_root_mean_squared_error\")"
      ],
      "metadata": {
        "id": "50Q6vSx3NYas"
      },
      "execution_count": 33,
      "outputs": []
    },
    {
      "cell_type": "code",
      "source": [
        "train_errors = -train_scores.mean(axis=1)\n",
        "valid_errors = -valid_scores.mean(axis=1)\n",
        "\n",
        "plt.figure(figsize=(6, 4))\n",
        "plt.plot(train_sizes, train_errors, \"r-+\", linewidth=2, label=\"train\")\n",
        "plt.plot(train_sizes, valid_errors, \"b-\", linewidth=3, label=\"valid\")\n",
        "plt.legend(loc=\"upper right\")\n",
        "plt.xlabel(\"Training set size\")\n",
        "plt.ylabel(\"RMSE\")\n",
        "plt.grid()\n",
        "plt.axis([0, 80, 0, 2.5])\n",
        "save_fig(\"learning_curves_plot\")\n",
        "plt.show()"
      ],
      "metadata": {
        "colab": {
          "base_uri": "https://localhost:8080/",
          "height": 289
        },
        "id": "cZbFrp6LNz9V",
        "outputId": "6ab801d7-30d5-4c2c-d907-77e5b530d6db"
      },
      "execution_count": 34,
      "outputs": [
        {
          "output_type": "display_data",
          "data": {
            "text/plain": [
              "<Figure size 432x288 with 1 Axes>"
            ],
            "image/png": "[encoded data removed]"
          },
          "metadata": {
            "needs_background": "light"
          }
        }
      ]
    },
    {
      "cell_type": "markdown",
      "source": [
        "Interpretation of the above plot: \n",
        "* The error on the training data is much lower than with the Linear Regression model.\n",
        "* There is a gap between the curves. That means that the model performs significally better on the training data than on the validation data, which indicates the model is overfitting. \n",
        "\n",
        "One way to improve an overfitting model is to feed it more training data until the validation error reaches the training error.\n",
        "\n",
        "\n"
      ],
      "metadata": {
        "id": "Ng0Tnso0ONtL"
      }
    },
    {
      "cell_type": "markdown",
      "source": [
        "# The Bias/Variance Trade-off\n",
        "\n",
        "Increasing a model complexity (such as using a high-degree polynomial model) will typically increase its variance and reduce its bias. Conversely, reducing a model's complexity increases its bias and reduces its variance.\n",
        "\n"
      ],
      "metadata": {
        "id": "GX98trfTP8zb"
      }
    },
    {
      "cell_type": "markdown",
      "source": [
        "# Regularized Linear Models\n",
        "\n",
        "A good way to reduce overfitting is to regularize the model: the fewer degrees of freedom it has, the harder it is to overfit the data.\n",
        "\n",
        "For a linear model, regularization is typically achieved by constraining the weights of the model. "
      ],
      "metadata": {
        "id": "0E-zugIDQrgL"
      }
    },
    {
      "cell_type": "markdown",
      "source": [
        "## Ridge Regression \n",
        "\n",
        "* Ridge Regression (also called Tikhonov regularization) is a regularized version of Linear Regression: a regularization term equal to $\\alpha \\sum_{i=1}^n \\theta_i^2$ is added to the cost function **during training**.\n",
        "\n",
        "* Note that the bias term $\\theta_0$ si not regularized (the sum starts at $i=1$, not 0).\n",
        "\n",
        "* Ridge regression cost function:\n",
        "$$J(\\mathbb{\\theta}) = MSE(\\mathbb{\\theta}) + \\alpha \\frac{1}{2} \\sum_{i=1}^n \\theta_i^2$$\n",
        "\n",
        "* This forces the learning algorithm to not only fit the data but also keep the model weights as small as possible.\n",
        "\n",
        "* If $\\alpha$ is very large, then all weights end up very close to zero and the result is a flat line going through data's mean.\n",
        "\n",
        "* If we define the $\\mathbf{w}$ as the vector of feature weights ($\\theta_1$ to $\\theta_n$), then the regularization term is equal to $\\frac{1}{2}(\\lVert \\mathbf{w}\\rVert _2)^2$, where $\\lVert \\mathbf{w}\\rVert _2$ represents the $l_2$ norm of the weight vector. Then the gradient of the cost function is given by:\n",
        "$$\\nabla J(\\mathbf{\\theta}) = \\nabla MSE(\\mathbb{\\theta}) + \\alpha \\lVert \\mathbf{w}\\rVert _2$$"
      ],
      "metadata": {
        "id": "R4h6NJ2iRV2o"
      }
    },
    {
      "cell_type": "code",
      "source": [
        "# generate a very small and noisy linear dataset\n",
        "np.random.seed(42)\n",
        "m = 20\n",
        "X = 3 * np.random.rand(m, 1)\n",
        "y = 1 + 0.5 * X + np.random.randn(m, 1) / 1.5\n",
        "X_new = np.linspace(0, 3, 100).reshape(100, 1)"
      ],
      "metadata": {
        "id": "7I6GrYH_fy8b"
      },
      "execution_count": 35,
      "outputs": []
    },
    {
      "cell_type": "code",
      "source": [
        "# a quick peek at the dataset we just generated\n",
        "plt.figure(figsize=(6, 4))\n",
        "plt.plot(X, y, \".\")\n",
        "plt.xlabel(\"$x_1$\")\n",
        "plt.ylabel(\"$y$  \", rotation=0)\n",
        "plt.axis([0, 3, 0, 3.5])\n",
        "plt.grid()\n",
        "plt.show()"
      ],
      "metadata": {
        "colab": {
          "base_uri": "https://localhost:8080/",
          "height": 288
        },
        "id": "O9jApjFpf5za",
        "outputId": "85ac475a-1bea-4dae-a717-a9d39106e2a1"
      },
      "execution_count": 36,
      "outputs": [
        {
          "output_type": "display_data",
          "data": {
            "text/plain": [
              "<Figure size 432x288 with 1 Axes>"
            ],
            "image/png": "[encoded data removed]"
          },
          "metadata": {
            "needs_background": "light"
          }
        }
      ]
    },
    {
      "cell_type": "code",
      "source": [
        "# Ridge Regression with Scikit-Learn using a closed-form solution\n",
        "# uses a matrix factorization technique by André-Louis Cholesky\n",
        "\n",
        "from sklearn.linear_model import Ridge\n",
        "ridge_reg = Ridge(alpha=1, solver=\"cholesky\")\n",
        "ridge_reg.fit(X,y)\n",
        "ridge_reg.predict([[1.5]])"
      ],
      "metadata": {
        "colab": {
          "base_uri": "https://localhost:8080/"
        },
        "id": "Tgw0-l5rOHDp",
        "outputId": "4e4abab1-0b13-4273-c7df-a127eea6cc49"
      },
      "execution_count": 37,
      "outputs": [
        {
          "output_type": "execute_result",
          "data": {
            "text/plain": [
              "array([[1.55071465]])"
            ]
          },
          "metadata": {},
          "execution_count": 37
        }
      ]
    },
    {
      "cell_type": "code",
      "source": [
        "# Ridge Regression using Stochastic Gradient Descent\n",
        "\n",
        "sgd_reg = SGDRegressor(penalty=\"l2\", alpha=0.1 / m, tol=None,\n",
        "                       max_iter=1000, eta0=0.01, random_state=42)\n",
        "sgd_reg.fit(X, y.ravel())  # y.ravel() because fit() expects 1D targets\n",
        "sgd_reg.predict([[1.5]])"
      ],
      "metadata": {
        "colab": {
          "base_uri": "https://localhost:8080/"
        },
        "id": "MW12Z-GagIGW",
        "outputId": "c7d29e4b-4bce-46ef-9209-7be63141733a"
      },
      "execution_count": 38,
      "outputs": [
        {
          "output_type": "execute_result",
          "data": {
            "text/plain": [
              "array([1.55302613])"
            ]
          },
          "metadata": {},
          "execution_count": 38
        }
      ]
    },
    {
      "cell_type": "code",
      "source": [
        "# Ridge Regression using Stochastic Average GD (solver=\"sag\")\n",
        "ridge_reg = Ridge(alpha=0.1, solver=\"sag\", random_state=42)\n",
        "ridge_reg.fit(X, y)\n",
        "ridge_reg.predict([[1.5]])"
      ],
      "metadata": {
        "colab": {
          "base_uri": "https://localhost:8080/"
        },
        "id": "nesb3jiQNr1Q",
        "outputId": "e193fb18-f36d-470b-96de-731ec3d57503"
      },
      "execution_count": 39,
      "outputs": [
        {
          "output_type": "execute_result",
          "data": {
            "text/plain": [
              "array([[1.55326019]])"
            ]
          },
          "metadata": {},
          "execution_count": 39
        }
      ]
    },
    {
      "cell_type": "code",
      "source": [
        "from sklearn.preprocessing import StandardScaler\n",
        "from sklearn.pipeline import make_pipeline\n",
        "\n",
        "def plot_model(model_class, polynomial, alphas, **model_kwargs):\n",
        "    plt.plot(X, y, \"b.\", linewidth=3)\n",
        "    for alpha, style in zip(alphas, (\"b:\", \"g--\", \"r-\")):\n",
        "        if alpha > 0:\n",
        "            model = model_class(alpha, **model_kwargs)\n",
        "        else:\n",
        "            model = LinearRegression()\n",
        "        if polynomial:\n",
        "            model = make_pipeline(\n",
        "                PolynomialFeatures(degree=10, include_bias=False),\n",
        "                StandardScaler(),\n",
        "                model)\n",
        "        model.fit(X, y)\n",
        "        y_new_regul = model.predict(X_new)\n",
        "        plt.plot(X_new, y_new_regul, style, linewidth=2,\n",
        "                 label=fr\"$\\alpha = {alpha}$\")\n",
        "    plt.legend(loc=\"upper left\")\n",
        "    plt.xlabel(\"$x_1$\")\n",
        "    plt.axis([0, 3, 0, 3.5])\n",
        "    plt.grid()\n",
        "\n",
        "plt.figure(figsize=(9, 3.5))\n",
        "plt.subplot(121)\n",
        "plot_model(Ridge, polynomial=False, alphas=(0, 10, 100), random_state=42)\n",
        "plt.ylabel(\"$y$  \", rotation=0)\n",
        "plt.subplot(122)\n",
        "plot_model(Ridge, polynomial=True, alphas=(0, 10**-5, 1), random_state=42)\n",
        "plt.gca().axes.yaxis.set_ticklabels([])\n",
        "save_fig(\"ridge_regression_plot\")\n",
        "plt.title(\"A linear model (left) and a polynomial model (right), both with various levels of Ridge regularization\", fontsize=11, loc=\"right\")\n",
        "plt.show()"
      ],
      "metadata": {
        "colab": {
          "base_uri": "https://localhost:8080/",
          "height": 263
        },
        "id": "JU0IZdCFPF2o",
        "outputId": "281ee8b9-2c16-4e00-f545-d8022a61b2fc"
      },
      "execution_count": 40,
      "outputs": [
        {
          "output_type": "display_data",
          "data": {
            "text/plain": [
              "<Figure size 648x252 with 2 Axes>"
            ],
            "image/png": "[encoded data removed]"
          },
          "metadata": {
            "needs_background": "light"
          }
        }
      ]
    },
    {
      "cell_type": "markdown",
      "source": [
        "## Lasso Regression\n",
        "\n",
        "* Least Absolute Shrinkage and Selection Operator Regression is another regularized version of Linear Regression: just like Ridge Regression, it adds a regularization term to the cost function, but it uses the $l_1$ norm of the weight vector instead of half the square of the $l_2$ norm:\n",
        "\n",
        "$$J(\\mathbb{\\theta}) = MSE(\\mathbb{\\theta}) + \\alpha \\sum_{i=1}^n \\vert\\theta_i \\rvert$$\n",
        "\n",
        "* Important characteristic: it tends to eliminate the weights of the least important features (i.e., set them to zero). In other words, Lasso Regression automatically performs feature selection and outputs a sparse model (i.e., with few nonzero feature weights).\n",
        "\n",
        "* The Lasso cost function is not differentiable at $\\theta_i = 0$ (for $i=1,2,\\ldots, n$), but Gradient still works fine if you use a subgradient vector $\\mathbf{g}$  instead when $\\theta_i =0$. Think of a subgradient vector at a nondifferentiable point as an intermediate vector between the gradient vectors around that point.\n",
        "\n",
        "* Subgradient vector equation you can use for Gradient Descent with the Lasso cost function:\n",
        "\n",
        "$$g(\\mathbf{\\theta}, J) = \\nabla_{\\mathbf{\\theta}} MSE(\\mathbf{\\theta}) + \\alpha \\begin{bmatrix}\n",
        "sign(\\theta_1) \\\\\n",
        "sign(\\theta_2) \\\\\n",
        "\\vdots\\\\\n",
        "sign(\\theta_n)\n",
        "\\end{bmatrix} $$\n",
        "\n",
        "where $$sign(\\theta_i) = \\begin{cases} - 1 & \\text{if } \\theta_i < 0\\\\\n",
        "0 & \\text{if } \\theta_i = 0\\\\\n",
        "+ 1 & \\text{if } \\theta_i > 0\\\\\n",
        " \\end{cases}$$\n"
      ],
      "metadata": {
        "id": "6CuCJCdNVdrz"
      }
    },
    {
      "cell_type": "code",
      "source": [
        "#  Scikit-Learn example using Lasso the class\n",
        "from sklearn.linear_model import Lasso\n",
        "lasso_reg = Lasso(alpha=0.1)\n",
        "lasso_reg.fit(X,y)\n",
        "lasso_reg.predict([[1.5]])\n"
      ],
      "metadata": {
        "colab": {
          "base_uri": "https://localhost:8080/"
        },
        "id": "sAZt2LKYfGjA",
        "outputId": "70ed8900-5da0-4d3f-b170-2ffa7c063017"
      },
      "execution_count": 41,
      "outputs": [
        {
          "output_type": "execute_result",
          "data": {
            "text/plain": [
              "array([1.53788174])"
            ]
          },
          "metadata": {},
          "execution_count": 41
        }
      ]
    },
    {
      "cell_type": "markdown",
      "source": [
        "## Elastic Net\n",
        "\n",
        "* Elastic Net is a middle ground between Ridge Regression and Lasso Regression. The regularization term is a simple mix of both Ridge and Lasso’s regularization terms, and you can control the mix ratio $r$:\n",
        "\n",
        "  * when $r = 0$, Elastic Net is equivalent to Ridge Regression,\n",
        "  * when r = 1, it is equivalent to Lasso Regression.\n",
        "\n",
        "* Elastic Net cost function:\n",
        "\n",
        "$$J(\\mathbb{\\theta}) = MSE(\\mathbb{\\theta}) + \\alpha r \\sum_{i=1}^n \\vert\\theta_i \\rvert + \\alpha \\frac{1-r}{2} \\sum_{i=1}^n \\theta_i^2$$\n",
        "\n",
        "\n"
      ],
      "metadata": {
        "id": "wGwkmekUfqU3"
      }
    },
    {
      "cell_type": "code",
      "source": [
        "from sklearn.linear_model import ElasticNet\n",
        "\n",
        "elastic_net = ElasticNet(alpha=0.1, l1_ratio=0.5)\n",
        "elastic_net.fit(X, y)\n",
        "elastic_net.predict([[1.5]])"
      ],
      "metadata": {
        "colab": {
          "base_uri": "https://localhost:8080/"
        },
        "id": "LEMlk3XChO7u",
        "outputId": "be027339-4c31-4953-8422-1728545a5c4f"
      },
      "execution_count": 42,
      "outputs": [
        {
          "output_type": "execute_result",
          "data": {
            "text/plain": [
              "array([1.54333232])"
            ]
          },
          "metadata": {},
          "execution_count": 42
        }
      ]
    },
    {
      "cell_type": "markdown",
      "source": [
        "## When should you use plain Linear Regression (i.e., without any regularization), Ridge, Lasso, or Elastic Net? \n",
        "\n",
        "* It is almost always preferable to have at least a little bit of regularization, so generally you should avoid plain Linear Regression. \n",
        "\n",
        "* Ridge is a good default, but if you suspect that only a few features are useful, you should prefer Lasso or Elastic Net because they tend to reduce the useless features’ weights down to zero, as we have discussed.\n",
        "\n",
        "* In general, Elastic Net is preferred over Lasso because Lasso may behave erratically when the number of features is greater than the number of training instances or when several features are strongly correlated."
      ],
      "metadata": {
        "id": "md_ufXYjg1oF"
      }
    },
    {
      "cell_type": "markdown",
      "source": [
        "# Early Stopping\n",
        "\n",
        "* A very different way to regularize iterative learning algorithms such as Gradient Descent is to stop training as soon as the validation error reaches a minimum. This is called early stopping.\n",
        "\n",
        "* See a basic implementation of early stopping at https://github.com/ageron/handson-ml3/blob/main/04_training_linear_models.ipynb."
      ],
      "metadata": {
        "id": "7STdjICnha4G"
      }
    },
    {
      "cell_type": "markdown",
      "source": [
        "# Logistic Regression\n",
        "\n",
        "* Logistic Regression (also called Logit Regression) is commonly used to estimate the probability that an instance belongs to a particular class:\n",
        "   * If the estimated probability is greater than 50%, then the model predicts that the instance belongs to that class (called the positive class, labelled `1`), \n",
        "   * and otherwise it predicts that it does not (i.e., it belongs to the negative class, labeled `0`). \n",
        "   \n",
        "   This makes it a **binary classifier**.\n",
        "\n",
        "* A Logistic Regression model computes a weighted sum of the input features (plus a bias term), but instead of outputting the result directly like the Linear Regression model does, it outputs the logistic of this result. \n",
        "\n",
        "* The logistic, denoted $\\sigma$, is a sigmoid function that outputs a number between 0 and 1:\n",
        "\n",
        "$$ \\sigma(t)= \\frac{1}{1+exp(-t)}$$"
      ],
      "metadata": {
        "id": "NsxN1FyjC15P"
      }
    },
    {
      "cell_type": "code",
      "source": [
        "# generate plot of the logistic function\n",
        "\n",
        "lim = 6\n",
        "t = np.linspace(-lim, lim, 100)\n",
        "sig = 1 / (1 + np.exp(-t))\n",
        "\n",
        "plt.figure(figsize=(8, 3))\n",
        "plt.plot([-lim, lim], [0, 0], \"k-\")\n",
        "plt.plot([-lim, lim], [0.5, 0.5], \"k:\")\n",
        "plt.plot([-lim, lim], [1, 1], \"k:\")\n",
        "plt.plot([0, 0], [-1.1, 1.1], \"k-\")\n",
        "plt.plot(t, sig, \"b-\", linewidth=2, label=r\"$\\sigma(t) = \\dfrac{1}{1 + e^{-t}}$\")\n",
        "plt.xlabel(\"t\")\n",
        "plt.legend(loc=\"upper left\")\n",
        "plt.axis([-lim, lim, -0.1, 1.1])\n",
        "plt.gca().set_yticks([0, 0.25, 0.5, 0.75, 1])\n",
        "plt.grid()\n",
        "save_fig(\"logistic_function_plot\")\n",
        "plt.show()"
      ],
      "metadata": {
        "colab": {
          "base_uri": "https://localhost:8080/",
          "height": 217
        },
        "id": "fIopsyABKegt",
        "outputId": "32098787-8507-46d5-801a-4fcd84d8da12"
      },
      "execution_count": 43,
      "outputs": [
        {
          "output_type": "display_data",
          "data": {
            "text/plain": [
              "<Figure size 576x216 with 1 Axes>"
            ],
            "image/png": "[encoded data removed]"
          },
          "metadata": {
            "needs_background": "light"
          }
        }
      ]
    },
    {
      "cell_type": "markdown",
      "source": [
        "* Logistic Regression model estimated probability (vectorized form):\n",
        "\n",
        "$$ \\widehat{p} = h_{\\mathbf{\\theta}} (\\mathbf{x}) = \\sigma (\\mathbf{x}^\\top \\mathbf{\\theta})$$\n",
        "\n",
        "* Once the Logistic Regression model has estimated the probability $\\widehat{p} = h_{\\mathbf{\\theta}} (\\mathbf{x})$ that an instance $\\mathbf{x}$ belongs to the positive class, it can make its prediction $\\widehat{y}$ easily:\n",
        "\n",
        "$$\\widehat{y}= \\begin{cases} 0 & \\text{if } \\widehat{p} < 0.5\\\\\n",
        "1 & \\text{if } \\widehat{p} \\geq 0.5\n",
        "\\end{cases}$$\n",
        "\n",
        "* Note that $\\sigma(t) < 0.5$ when $t < 0$, and $\\sigma(t)\\geq 0.5$ when $t\\geq 0$, so a Logistic Regression model predicts:\n",
        "   *  `1` if $\\mathbf{x}^\\top \\mathbf{\\theta}$ is positive,\n",
        "   *  `0` if $\\mathbf{x}^\\top \\mathbf{\\theta}$ is negative.\n",
        "\n",
        "* Note that $$ \\sigma(t)= \\frac{1}{1+exp(-t)} = p \\Leftrightarrow 1+exp(-t) = \\frac{1}{p}$$ $$ \\Leftrightarrow exp(-t) = \\frac{1}{p} - 1 \\Leftrightarrow -t = \\log\\left(\\frac{1-p}{p}\\right)$$   \n",
        "$$ \\Leftrightarrow t = -\\log\\left(\\frac{1-p}{p}\\right)=\\log\\left(\\frac{1-p}{p}\\right)^{-1}=\\log\\left(\\frac{p}{1-p}\\right)$$\n",
        "\n",
        "* The logit function $$\\text{logit}(p) = \\log\\left(\\frac{p}{1-p}\\right)=t$$\n",
        "is the inverse of the logistic function.\n",
        "\n",
        "* The logit is also called the *log-odds*, since it is the log of the ratio between the estimated probability for the positive class and the estimated probability for the negative class."
      ],
      "metadata": {
        "id": "r6QDgjLmLqXi"
      }
    },
    {
      "cell_type": "markdown",
      "source": [
        "## Cost Function\n",
        "\n",
        "* Cost function of a single training instance:\n",
        "\n",
        "$$c(\\mathbf{\\theta}) = \\begin{cases} -\\log(\\widehat{p})& \\text{if } y = 1\\\\\n",
        " -\\log(1-\\widehat{p})& \\text{if } y = 0\\\\ \\end{cases}$$\n",
        "\n",
        " * Note that $-\\log(t)$ grows very large when $t$ approaches 0, so the cost will be large if the model estimates a probability close to 0 for a positive instance, and it will also be very large if the model estimates a probability close to 1 for a negative instance.\n",
        "\n",
        " * On the other hand, $-\\log(t)$ is close to 0 when $t$ is close to 1, so the cost will be close to 0 if the estimated probability is close to 0 for a negative instance (`0` class) or close to 1 for a positive instance (`1` class)."
      ],
      "metadata": {
        "id": "S_gzwcACdDT-"
      }
    },
    {
      "cell_type": "code",
      "source": [
        "# generate plot of the function f(t)=-log(t)\n",
        "\n",
        "t = np.arange(0.000001,10, 0.01)\n",
        "y = -np.log(t)\n",
        "\n",
        "plt.plot(t, y, \"b-\", linewidth=2, label=r\"$f(t)=-\\log(t)$\")\n",
        "plt.xlabel(\"t\")\n",
        "plt.legend(loc=\"upper right\")\n",
        "plt.axis([-3, 3, -2, 5])\n",
        "plt.grid()\n",
        "\n",
        "# Highlighting axis at x=0 and y=0\n",
        "plt.axhline(y=0, color='k')\n",
        "plt.axvline(x=0, color='k')\n",
        "save_fig(\"logistic_function_plot\")\n",
        "plt.show()"
      ],
      "metadata": {
        "colab": {
          "base_uri": "https://localhost:8080/",
          "height": 289
        },
        "id": "1k0MxssigXUZ",
        "outputId": "9cbf838f-09e9-4c52-91c7-c57d7d77e522"
      },
      "execution_count": 139,
      "outputs": [
        {
          "output_type": "display_data",
          "data": {
            "text/plain": [
              "<Figure size 432x288 with 1 Axes>"
            ],
            "image/png": "[encoded data removed]"
          },
          "metadata": {
            "needs_background": "light"
          }
        }
      ]
    },
    {
      "cell_type": "markdown",
      "source": [
        "* Logistic Regression cost function (log loss):\n",
        "\n",
        "   The cost function over the whole training set is the average cost over all training instances.\n",
        "\n",
        "$$J(\\mathbf{\\theta}) = -\\frac{1}{m} \\sum_{i=1}^m \\left[ y^{(i)}\\log\\left(\\widehat{p}^{(i)}\\right) +  \\left(1-y^{(i)}\\right)\\log\\left(1-\\widehat{p}^{(i)}\\right)\\right] $$\n",
        "\n",
        "   * This cost function is convex, so Gradient Descent (or any other optimization algorithm) is guaranteed to find the global minimum (if the learning rate is bor too large and you wait long enough).\n",
        "\n",
        "   * Logistic cost function partial derivatives:\n",
        "     \n",
        "     For each instance it computes the prediction error and multiplies it by the $j$-th feature value, and then it computes the average over all training instances.\n",
        "\n",
        "   $$\\frac{\\partial}{\\partial \\theta_j} J(\\mathbf{\\theta}) = \\frac{1}{m} \\sum_{i=1}^m \\left(\\sigma\\left(\\mathbf{\\theta}^\\top \\mathbf{x}^{(i)}\\right) - y^{(i)} \\right) x_j^{(i)}$$ \n",
        "\n",
        "\n",
        " \n"
      ],
      "metadata": {
        "id": "JcMWDeJztkav"
      }
    },
    {
      "cell_type": "markdown",
      "source": [
        "## Regularization\n",
        "\n",
        "* Just like the other linear models, Logistic Regression models can be regularized using $l_1$ or $l_2$ penalties. Scikit-Learn actually adds an $l_2$ penalty by default.\n",
        "\n",
        "* The hyperparameter controlling the regularization strength of a Scikit-Learn\n",
        "`LogisticRegression` model is not `alpha` (as in other linear models), but its inverse: $C$. The higher the value of $C$, the less the model is regularized."
      ],
      "metadata": {
        "id": "qA4c7MFEhAgU"
      }
    },
    {
      "cell_type": "markdown",
      "source": [
        "## Example using the iris dataset\n",
        "\n",
        "* The iris dataset is a famous dataset that contains the sepal and petal length and width of 150 iris flowers of three species: *Iris setosa*, *Iris versicolor*, and *Iris virginica*.\n",
        "\n",
        "* In this example we build a classifier to detect the *Iris virginica* type based only on the petal width feature."
      ],
      "metadata": {
        "id": "Ywczomg6xoi9"
      }
    },
    {
      "cell_type": "code",
      "source": [
        "# load the data\n",
        "from sklearn import datasets\n",
        "iris = datasets.load_iris(as_frame=True)\n",
        "list(iris.keys())"
      ],
      "metadata": {
        "colab": {
          "base_uri": "https://localhost:8080/"
        },
        "id": "q9peJYXXyrYw",
        "outputId": "0cc4a3c2-9f6e-433f-a793-c1b8cecbbef3"
      },
      "execution_count": 146,
      "outputs": [
        {
          "output_type": "execute_result",
          "data": {
            "text/plain": [
              "['data',\n",
              " 'target',\n",
              " 'frame',\n",
              " 'target_names',\n",
              " 'DESCR',\n",
              " 'feature_names',\n",
              " 'filename',\n",
              " 'data_module']"
            ]
          },
          "metadata": {},
          "execution_count": 146
        }
      ]
    },
    {
      "cell_type": "code",
      "source": [
        "print(iris.DESCR)"
      ],
      "metadata": {
        "colab": {
          "base_uri": "https://localhost:8080/"
        },
        "id": "N2BFBFzHatkp",
        "outputId": "12d5940b-97ab-48c3-8bf3-5c28d80b4e0b"
      },
      "execution_count": 147,
      "outputs": [
        {
          "output_type": "stream",
          "name": "stdout",
          "text": [
            ".. _iris_dataset:\n",
            "\n",
            "Iris plants dataset\n",
            "--------------------\n",
            "\n",
            "**Data Set Characteristics:**\n",
            "\n",
            "    :Number of Instances: 150 (50 in each of three classes)\n",
            "    :Number of Attributes: 4 numeric, predictive attributes and the class\n",
            "    :Attribute Information:\n",
            "        - sepal length in cm\n",
            "        - sepal width in cm\n",
            "        - petal length in cm\n",
            "        - petal width in cm\n",
            "        - class:\n",
            "                - Iris-Setosa\n",
            "                - Iris-Versicolour\n",
            "                - Iris-Virginica\n",
            "                \n",
            "    :Summary Statistics:\n",
            "\n",
            "    ============== ==== ==== ======= ===== ====================\n",
            "                    Min  Max   Mean    SD   Class Correlation\n",
            "    ============== ==== ==== ======= ===== ====================\n",
            "    sepal length:   4.3  7.9   5.84   0.83    0.7826\n",
            "    sepal width:    2.0  4.4   3.05   0.43   -0.4194\n",
            "    petal length:   1.0  6.9   3.76   1.76    0.9490  (high!)\n",
            "    petal width:    0.1  2.5   1.20   0.76    0.9565  (high!)\n",
            "    ============== ==== ==== ======= ===== ====================\n",
            "\n",
            "    :Missing Attribute Values: None\n",
            "    :Class Distribution: 33.3% for each of 3 classes.\n",
            "    :Creator: R.A. Fisher\n",
            "    :Donor: Michael Marshall (MARSHALL%PLU@io.arc.nasa.gov)\n",
            "    :Date: July, 1988\n",
            "\n",
            "The famous Iris database, first used by Sir R.A. Fisher. The dataset is taken\n",
            "from Fisher's paper. Note that it's the same as in R, but not as in the UCI\n",
            "Machine Learning Repository, which has two wrong data points.\n",
            "\n",
            "This is perhaps the best known database to be found in the\n",
            "pattern recognition literature.  Fisher's paper is a classic in the field and\n",
            "is referenced frequently to this day.  (See Duda & Hart, for example.)  The\n",
            "data set contains 3 classes of 50 instances each, where each class refers to a\n",
            "type of iris plant.  One class is linearly separable from the other 2; the\n",
            "latter are NOT linearly separable from each other.\n",
            "\n",
            ".. topic:: References\n",
            "\n",
            "   - Fisher, R.A. \"The use of multiple measurements in taxonomic problems\"\n",
            "     Annual Eugenics, 7, Part II, 179-188 (1936); also in \"Contributions to\n",
            "     Mathematical Statistics\" (John Wiley, NY, 1950).\n",
            "   - Duda, R.O., & Hart, P.E. (1973) Pattern Classification and Scene Analysis.\n",
            "     (Q327.D83) John Wiley & Sons.  ISBN 0-471-22361-1.  See page 218.\n",
            "   - Dasarathy, B.V. (1980) \"Nosing Around the Neighborhood: A New System\n",
            "     Structure and Classification Rule for Recognition in Partially Exposed\n",
            "     Environments\".  IEEE Transactions on Pattern Analysis and Machine\n",
            "     Intelligence, Vol. PAMI-2, No. 1, 67-71.\n",
            "   - Gates, G.W. (1972) \"The Reduced Nearest Neighbor Rule\".  IEEE Transactions\n",
            "     on Information Theory, May 1972, 431-433.\n",
            "   - See also: 1988 MLC Proceedings, 54-64.  Cheeseman et al\"s AUTOCLASS II\n",
            "     conceptual clustering system finds 3 classes in the data.\n",
            "   - Many, many more ...\n"
          ]
        }
      ]
    },
    {
      "cell_type": "code",
      "source": [
        "iris.data.head(3)"
      ],
      "metadata": {
        "colab": {
          "base_uri": "https://localhost:8080/",
          "height": 143
        },
        "id": "buzdUjdfbb3g",
        "outputId": "0aab5d22-c602-4e76-ed2f-506ce5629019"
      },
      "execution_count": 149,
      "outputs": [
        {
          "output_type": "execute_result",
          "data": {
            "text/plain": [
              "   sepal length (cm)  sepal width (cm)  petal length (cm)  petal width (cm)\n",
              "0                5.1               3.5                1.4               0.2\n",
              "1                4.9               3.0                1.4               0.2\n",
              "2                4.7               3.2                1.3               0.2"
            ],
            "text/html": [
              "\n",
              "  <div id=\"df-1e6ab35a-bb3c-49c9-aa94-b5d3534cef0c\">\n",
              "    <div class=\"colab-df-container\">\n",
              "      <div>\n",
              "<style scoped>\n",
              "    .dataframe tbody tr th:only-of-type {\n",
              "        vertical-align: middle;\n",
              "    }\n",
              "\n",
              "    .dataframe tbody tr th {\n",
              "        vertical-align: top;\n",
              "    }\n",
              "\n",
              "    .dataframe thead th {\n",
              "        text-align: right;\n",
              "    }\n",
              "</style>\n",
              "<table border=\"1\" class=\"dataframe\">\n",
              "  <thead>\n",
              "    <tr style=\"text-align: right;\">\n",
              "      <th></th>\n",
              "      <th>sepal length (cm)</th>\n",
              "      <th>sepal width (cm)</th>\n",
              "      <th>petal length (cm)</th>\n",
              "      <th>petal width (cm)</th>\n",
              "    </tr>\n",
              "  </thead>\n",
              "  <tbody>\n",
              "    <tr>\n",
              "      <th>0</th>\n",
              "      <td>5.1</td>\n",
              "      <td>3.5</td>\n",
              "      <td>1.4</td>\n",
              "      <td>0.2</td>\n",
              "    </tr>\n",
              "    <tr>\n",
              "      <th>1</th>\n",
              "      <td>4.9</td>\n",
              "      <td>3.0</td>\n",
              "      <td>1.4</td>\n",
              "      <td>0.2</td>\n",
              "    </tr>\n",
              "    <tr>\n",
              "      <th>2</th>\n",
              "      <td>4.7</td>\n",
              "      <td>3.2</td>\n",
              "      <td>1.3</td>\n",
              "      <td>0.2</td>\n",
              "    </tr>\n",
              "  </tbody>\n",
              "</table>\n",
              "</div>\n",
              "      <button class=\"colab-df-convert\" onclick=\"convertToInteractive('df-1e6ab35a-bb3c-49c9-aa94-b5d3534cef0c')\"\n",
              "              title=\"Convert this dataframe to an interactive table.\"\n",
              "              style=\"display:none;\">\n",
              "        \n",
              "  <svg xmlns=\"http://www.w3.org/2000/svg\" height=\"24px\"viewBox=\"0 0 24 24\"\n",
              "       width=\"24px\">\n",
              "    <path d=\"M0 0h24v24H0V0z\" fill=\"none\"/>\n",
              "    <path d=\"M18.56 5.44l.94 2.06.94-2.06 2.06-.94-2.06-.94-.94-2.06-.94 2.06-2.06.94zm-11 1L8.5 8.5l.94-2.06 2.06-.94-2.06-.94L8.5 2.5l-.94 2.06-2.06.94zm10 10l.94 2.06.94-2.06 2.06-.94-2.06-.94-.94-2.06-.94 2.06-2.06.94z\"/><path d=\"M17.41 7.96l-1.37-1.37c-.4-.4-.92-.59-1.43-.59-.52 0-1.04.2-1.43.59L10.3 9.45l-7.72 7.72c-.78.78-.78 2.05 0 2.83L4 21.41c.39.39.9.59 1.41.59.51 0 1.02-.2 1.41-.59l7.78-7.78 2.81-2.81c.8-.78.8-2.07 0-2.86zM5.41 20L4 18.59l7.72-7.72 1.47 1.35L5.41 20z\"/>\n",
              "  </svg>\n",
              "      </button>\n",
              "      \n",
              "  <style>\n",
              "    .colab-df-container {\n",
              "      display:flex;\n",
              "      flex-wrap:wrap;\n",
              "      gap: 12px;\n",
              "    }\n",
              "\n",
              "    .colab-df-convert {\n",
              "      background-color: #E8F0FE;\n",
              "      border: none;\n",
              "      border-radius: 50%;\n",
              "      cursor: pointer;\n",
              "      display: none;\n",
              "      fill: #1967D2;\n",
              "      height: 32px;\n",
              "      padding: 0 0 0 0;\n",
              "      width: 32px;\n",
              "    }\n",
              "\n",
              "    .colab-df-convert:hover {\n",
              "      background-color: #E2EBFA;\n",
              "      box-shadow: 0px 1px 2px rgba(60, 64, 67, 0.3), 0px 1px 3px 1px rgba(60, 64, 67, 0.15);\n",
              "      fill: #174EA6;\n",
              "    }\n",
              "\n",
              "    [theme=dark] .colab-df-convert {\n",
              "      background-color: #3B4455;\n",
              "      fill: #D2E3FC;\n",
              "    }\n",
              "\n",
              "    [theme=dark] .colab-df-convert:hover {\n",
              "      background-color: #434B5C;\n",
              "      box-shadow: 0px 1px 3px 1px rgba(0, 0, 0, 0.15);\n",
              "      filter: drop-shadow(0px 1px 2px rgba(0, 0, 0, 0.3));\n",
              "      fill: #FFFFFF;\n",
              "    }\n",
              "  </style>\n",
              "\n",
              "      <script>\n",
              "        const buttonEl =\n",
              "          document.querySelector('#df-1e6ab35a-bb3c-49c9-aa94-b5d3534cef0c button.colab-df-convert');\n",
              "        buttonEl.style.display =\n",
              "          google.colab.kernel.accessAllowed ? 'block' : 'none';\n",
              "\n",
              "        async function convertToInteractive(key) {\n",
              "          const element = document.querySelector('#df-1e6ab35a-bb3c-49c9-aa94-b5d3534cef0c');\n",
              "          const dataTable =\n",
              "            await google.colab.kernel.invokeFunction('convertToInteractive',\n",
              "                                                     [key], {});\n",
              "          if (!dataTable) return;\n",
              "\n",
              "          const docLinkHtml = 'Like what you see? Visit the ' +\n",
              "            '<a target=\"_blank\" href=https://colab.research.google.com/notebooks/data_table.ipynb>data table notebook</a>'\n",
              "            + ' to learn more about interactive tables.';\n",
              "          element.innerHTML = '';\n",
              "          dataTable['output_type'] = 'display_data';\n",
              "          await google.colab.output.renderOutput(dataTable, element);\n",
              "          const docLink = document.createElement('div');\n",
              "          docLink.innerHTML = docLinkHtml;\n",
              "          element.appendChild(docLink);\n",
              "        }\n",
              "      </script>\n",
              "    </div>\n",
              "  </div>\n",
              "  "
            ]
          },
          "metadata": {},
          "execution_count": 149
        }
      ]
    },
    {
      "cell_type": "code",
      "source": [
        "iris.target.head(3)"
      ],
      "metadata": {
        "colab": {
          "base_uri": "https://localhost:8080/"
        },
        "id": "9v7tWFkRcFo1",
        "outputId": "b00c5899-6b22-4085-885b-2f5916ca3d89"
      },
      "execution_count": 150,
      "outputs": [
        {
          "output_type": "execute_result",
          "data": {
            "text/plain": [
              "0    0\n",
              "1    0\n",
              "2    0\n",
              "Name: target, dtype: int64"
            ]
          },
          "metadata": {},
          "execution_count": 150
        }
      ]
    },
    {
      "cell_type": "code",
      "source": [
        "iris.target_names"
      ],
      "metadata": {
        "colab": {
          "base_uri": "https://localhost:8080/"
        },
        "id": "099YunQRcNxF",
        "outputId": "cee48c53-57b9-48ce-9246-4060b409a483"
      },
      "execution_count": 151,
      "outputs": [
        {
          "output_type": "execute_result",
          "data": {
            "text/plain": [
              "array(['setosa', 'versicolor', 'virginica'], dtype='<U10')"
            ]
          },
          "metadata": {},
          "execution_count": 151
        }
      ]
    },
    {
      "cell_type": "code",
      "source": [
        "# build a classifier to detect the Iris virginica type\n",
        "# based only on the petal width feature\n",
        "from sklearn.linear_model import LogisticRegression\n",
        "from sklearn.model_selection import train_test_split\n",
        "\n",
        "X = iris.data[[\"petal width (cm)\"]].values\n",
        "y = iris.target_names[iris.target] == 'virginica'\n",
        "\n",
        "X_train, X_test, y_train, y_test = train_test_split(X, y, random_state=42)\n",
        "\n",
        "log_reg = LogisticRegression(random_state=42)\n",
        "log_reg.fit(X_train, y_train)"
      ],
      "metadata": {
        "colab": {
          "base_uri": "https://localhost:8080/",
          "height": 75
        },
        "id": "7CADWCgocYUH",
        "outputId": "d9fcf0d6-1720-410c-80c0-b3e01a71bcf6"
      },
      "execution_count": 152,
      "outputs": [
        {
          "output_type": "execute_result",
          "data": {
            "text/plain": [
              "LogisticRegression(random_state=42)"
            ],
            "text/html": [
              "<style>#sk-container-id-3 {color: black;background-color: white;}#sk-container-id-3 pre{padding: 0;}#sk-container-id-3 div.sk-toggleable {background-color: white;}#sk-container-id-3 label.sk-toggleable__label {cursor: pointer;display: block;width: 100%;margin-bottom: 0;padding: 0.3em;box-sizing: border-box;text-align: center;}#sk-container-id-3 label.sk-toggleable__label-arrow:before {content: \"▸\";float: left;margin-right: 0.25em;color: #696969;}#sk-container-id-3 label.sk-toggleable__label-arrow:hover:before {color: black;}#sk-container-id-3 div.sk-estimator:hover label.sk-toggleable__label-arrow:before {color: black;}#sk-container-id-3 div.sk-toggleable__content {max-height: 0;max-width: 0;overflow: hidden;text-align: left;background-color: #f0f8ff;}#sk-container-id-3 div.sk-toggleable__content pre {margin: 0.2em;color: black;border-radius: 0.25em;background-color: #f0f8ff;}#sk-container-id-3 input.sk-toggleable__control:checked~div.sk-toggleable__content {max-height: 200px;max-width: 100%;overflow: auto;}#sk-container-id-3 input.sk-toggleable__control:checked~label.sk-toggleable__label-arrow:before {content: \"▾\";}#sk-container-id-3 div.sk-estimator input.sk-toggleable__control:checked~label.sk-toggleable__label {background-color: #d4ebff;}#sk-container-id-3 div.sk-label input.sk-toggleable__control:checked~label.sk-toggleable__label {background-color: #d4ebff;}#sk-container-id-3 input.sk-hidden--visually {border: 0;clip: rect(1px 1px 1px 1px);clip: rect(1px, 1px, 1px, 1px);height: 1px;margin: -1px;overflow: hidden;padding: 0;position: absolute;width: 1px;}#sk-container-id-3 div.sk-estimator {font-family: monospace;background-color: #f0f8ff;border: 1px dotted black;border-radius: 0.25em;box-sizing: border-box;margin-bottom: 0.5em;}#sk-container-id-3 div.sk-estimator:hover {background-color: #d4ebff;}#sk-container-id-3 div.sk-parallel-item::after {content: \"\";width: 100%;border-bottom: 1px solid gray;flex-grow: 1;}#sk-container-id-3 div.sk-label:hover label.sk-toggleable__label {background-color: #d4ebff;}#sk-container-id-3 div.sk-serial::before {content: \"\";position: absolute;border-left: 1px solid gray;box-sizing: border-box;top: 0;bottom: 0;left: 50%;z-index: 0;}#sk-container-id-3 div.sk-serial {display: flex;flex-direction: column;align-items: center;background-color: white;padding-right: 0.2em;padding-left: 0.2em;position: relative;}#sk-container-id-3 div.sk-item {position: relative;z-index: 1;}#sk-container-id-3 div.sk-parallel {display: flex;align-items: stretch;justify-content: center;background-color: white;position: relative;}#sk-container-id-3 div.sk-item::before, #sk-container-id-3 div.sk-parallel-item::before {content: \"\";position: absolute;border-left: 1px solid gray;box-sizing: border-box;top: 0;bottom: 0;left: 50%;z-index: -1;}#sk-container-id-3 div.sk-parallel-item {display: flex;flex-direction: column;z-index: 1;position: relative;background-color: white;}#sk-container-id-3 div.sk-parallel-item:first-child::after {align-self: flex-end;width: 50%;}#sk-container-id-3 div.sk-parallel-item:last-child::after {align-self: flex-start;width: 50%;}#sk-container-id-3 div.sk-parallel-item:only-child::after {width: 0;}#sk-container-id-3 div.sk-dashed-wrapped {border: 1px dashed gray;margin: 0 0.4em 0.5em 0.4em;box-sizing: border-box;padding-bottom: 0.4em;background-color: white;}#sk-container-id-3 div.sk-label label {font-family: monospace;font-weight: bold;display: inline-block;line-height: 1.2em;}#sk-container-id-3 div.sk-label-container {text-align: center;}#sk-container-id-3 div.sk-container {/* jupyter's `normalize.less` sets `[hidden] { display: none; }` but bootstrap.min.css set `[hidden] { display: none !important; }` so we also need the `!important` here to be able to override the default hidden behavior on the sphinx rendered scikit-learn.org. See: https://github.com/scikit-learn/scikit-learn/issues/21755 */display: inline-block !important;position: relative;}#sk-container-id-3 div.sk-text-repr-fallback {display: none;}</style><div id=\"sk-container-id-3\" class=\"sk-top-container\"><div class=\"sk-text-repr-fallback\"><pre>LogisticRegression(random_state=42)</pre><b>In a Jupyter environment, please rerun this cell to show the HTML representation or trust the notebook. <br />On GitHub, the HTML representation is unable to render, please try loading this page with nbviewer.org.</b></div><div class=\"sk-container\" hidden><div class=\"sk-item\"><div class=\"sk-estimator sk-toggleable\"><input class=\"sk-toggleable__control sk-hidden--visually\" id=\"sk-estimator-id-3\" type=\"checkbox\" checked><label for=\"sk-estimator-id-3\" class=\"sk-toggleable__label sk-toggleable__label-arrow\">LogisticRegression</label><div class=\"sk-toggleable__content\"><pre>LogisticRegression(random_state=42)</pre></div></div></div></div></div>"
            ]
          },
          "metadata": {},
          "execution_count": 152
        }
      ]
    },
    {
      "cell_type": "code",
      "source": [
        "# Let’s look at the model’s estimated probabilities for flowers\n",
        "# with petal widths varying from 0 cm to 3 cm\n",
        "\n",
        "X_new = np.linspace(0, 3, 1000).reshape(-1, 1)  # reshape to get a column vector\n",
        "y_proba = log_reg.predict_proba(X_new)\n",
        "decision_boundary = X_new[y_proba[:, 1] >= 0.5][0, 0]\n",
        "\n",
        "plt.figure(figsize=(8, 3)) \n",
        "plt.plot(X_new, y_proba[:, 0], \"b--\", linewidth=2,\n",
        "         label=\"Not Iris virginica proba\")\n",
        "plt.plot(X_new, y_proba[:, 1], \"g-\", linewidth=2, label=\"Iris virginica proba\")\n",
        "plt.plot([decision_boundary, decision_boundary], [0, 1], \"k:\", linewidth=2,\n",
        "         label=\"Decision boundary\")\n",
        "\n",
        "plt.plot(X_train[y_train == 0], y_train[y_train == 0], \"bs\")\n",
        "plt.plot(X_train[y_train == 1], y_train[y_train == 1], \"g^\")\n",
        "plt.xlabel(\"Petal width (cm)\")\n",
        "plt.ylabel(\"Probability\")\n",
        "plt.legend(loc=\"center left\")\n",
        "plt.axis([0, 3, -0.02, 1.02])\n",
        "plt.grid()\n",
        "save_fig(\"logistic_regression_plot\")\n",
        "\n",
        "plt.show()"
      ],
      "metadata": {
        "colab": {
          "base_uri": "https://localhost:8080/",
          "height": 217
        },
        "id": "-Wi9Yo5udoTt",
        "outputId": "227f1d5f-b4b8-4922-a1f3-d23a75c9e18e"
      },
      "execution_count": 157,
      "outputs": [
        {
          "output_type": "display_data",
          "data": {
            "text/plain": [
              "<Figure size 576x216 with 1 Axes>"
            ],
            "image/png": "[encoded data removed]"
          },
          "metadata": {
            "needs_background": "light"
          }
        }
      ]
    },
    {
      "cell_type": "markdown",
      "source": [
        "Observations:\n",
        " * The petal width of Iris virginica flowers (represented by triangles) ranges from 1.4 cm to 2.5 cm, while the other iris flowers (represented by squares) generally have a smaller petal width, ranging from 0.1 cm to 1.8 cm. Notice that there is a bit of overlap. \n",
        "\n",
        " * Above about 2 cm the classifier is highly confident that the flower is an Iris virginica (it outputs a high probability for that class), while below 1 cm it is highly confident that it is not an Iris virginica (high probability for the “Not Iris virginica” class). In between these extremes, the classifier is unsure.\n",
        "\n",
        " * If you ask it to predict the\n",
        "class (using the `predict()` method rather than the `predict_proba()`\n",
        "method), it will return whichever class is the most likely. \n",
        "\n",
        "* There is a decision boundary at around 1.6 cm where both probabilities are equal to 50%: if the petal width is higher than 1.6 cm, the classifier will predict that the flower is an Iris virginica, and otherwise it will predict that it is not (even if it is not very confident)."
      ],
      "metadata": {
        "id": "Yf-llzH-flNW"
      }
    },
    {
      "cell_type": "code",
      "source": [
        "decision_boundary"
      ],
      "metadata": {
        "colab": {
          "base_uri": "https://localhost:8080/"
        },
        "id": "Njpjh_cSgfnW",
        "outputId": "76b7c30c-4a23-42d5-cd92-d727dff18301"
      },
      "execution_count": 158,
      "outputs": [
        {
          "output_type": "execute_result",
          "data": {
            "text/plain": [
              "1.6516516516516517"
            ]
          },
          "metadata": {},
          "execution_count": 158
        }
      ]
    },
    {
      "cell_type": "code",
      "source": [
        "log_reg.predict([[1.7], [1.5]])"
      ],
      "metadata": {
        "colab": {
          "base_uri": "https://localhost:8080/"
        },
        "id": "GV2N1bHagjOY",
        "outputId": "e0904ba8-2ad3-4b1b-dcc1-6b1c87982696"
      },
      "execution_count": 159,
      "outputs": [
        {
          "output_type": "execute_result",
          "data": {
            "text/plain": [
              "array([ True, False])"
            ]
          },
          "metadata": {},
          "execution_count": 159
        }
      ]
    },
    {
      "cell_type": "code",
      "source": [
        "# build a classifier to detect the Iris virginica type\n",
        "# based on the petal width and petal length features\n",
        "\n",
        "X = iris.data[[\"petal length (cm)\", \"petal width (cm)\"]].values\n",
        "y = iris.target_names[iris.target] == 'virginica'\n",
        "X_train, X_test, y_train, y_test = train_test_split(X, y, random_state=42)\n",
        "\n",
        "log_reg = LogisticRegression(C=2, random_state=42)\n",
        "log_reg.fit(X_train, y_train)"
      ],
      "metadata": {
        "colab": {
          "base_uri": "https://localhost:8080/",
          "height": 75
        },
        "id": "3boBLqXqh11i",
        "outputId": "ed81cf19-05f8-4448-9e17-ed2edc8e1ce5"
      },
      "execution_count": 172,
      "outputs": [
        {
          "output_type": "execute_result",
          "data": {
            "text/plain": [
              "LogisticRegression(C=2, random_state=42)"
            ],
            "text/html": [
              "<style>#sk-container-id-6 {color: black;background-color: white;}#sk-container-id-6 pre{padding: 0;}#sk-container-id-6 div.sk-toggleable {background-color: white;}#sk-container-id-6 label.sk-toggleable__label {cursor: pointer;display: block;width: 100%;margin-bottom: 0;padding: 0.3em;box-sizing: border-box;text-align: center;}#sk-container-id-6 label.sk-toggleable__label-arrow:before {content: \"▸\";float: left;margin-right: 0.25em;color: #696969;}#sk-container-id-6 label.sk-toggleable__label-arrow:hover:before {color: black;}#sk-container-id-6 div.sk-estimator:hover label.sk-toggleable__label-arrow:before {color: black;}#sk-container-id-6 div.sk-toggleable__content {max-height: 0;max-width: 0;overflow: hidden;text-align: left;background-color: #f0f8ff;}#sk-container-id-6 div.sk-toggleable__content pre {margin: 0.2em;color: black;border-radius: 0.25em;background-color: #f0f8ff;}#sk-container-id-6 input.sk-toggleable__control:checked~div.sk-toggleable__content {max-height: 200px;max-width: 100%;overflow: auto;}#sk-container-id-6 input.sk-toggleable__control:checked~label.sk-toggleable__label-arrow:before {content: \"▾\";}#sk-container-id-6 div.sk-estimator input.sk-toggleable__control:checked~label.sk-toggleable__label {background-color: #d4ebff;}#sk-container-id-6 div.sk-label input.sk-toggleable__control:checked~label.sk-toggleable__label {background-color: #d4ebff;}#sk-container-id-6 input.sk-hidden--visually {border: 0;clip: rect(1px 1px 1px 1px);clip: rect(1px, 1px, 1px, 1px);height: 1px;margin: -1px;overflow: hidden;padding: 0;position: absolute;width: 1px;}#sk-container-id-6 div.sk-estimator {font-family: monospace;background-color: #f0f8ff;border: 1px dotted black;border-radius: 0.25em;box-sizing: border-box;margin-bottom: 0.5em;}#sk-container-id-6 div.sk-estimator:hover {background-color: #d4ebff;}#sk-container-id-6 div.sk-parallel-item::after {content: \"\";width: 100%;border-bottom: 1px solid gray;flex-grow: 1;}#sk-container-id-6 div.sk-label:hover label.sk-toggleable__label {background-color: #d4ebff;}#sk-container-id-6 div.sk-serial::before {content: \"\";position: absolute;border-left: 1px solid gray;box-sizing: border-box;top: 0;bottom: 0;left: 50%;z-index: 0;}#sk-container-id-6 div.sk-serial {display: flex;flex-direction: column;align-items: center;background-color: white;padding-right: 0.2em;padding-left: 0.2em;position: relative;}#sk-container-id-6 div.sk-item {position: relative;z-index: 1;}#sk-container-id-6 div.sk-parallel {display: flex;align-items: stretch;justify-content: center;background-color: white;position: relative;}#sk-container-id-6 div.sk-item::before, #sk-container-id-6 div.sk-parallel-item::before {content: \"\";position: absolute;border-left: 1px solid gray;box-sizing: border-box;top: 0;bottom: 0;left: 50%;z-index: -1;}#sk-container-id-6 div.sk-parallel-item {display: flex;flex-direction: column;z-index: 1;position: relative;background-color: white;}#sk-container-id-6 div.sk-parallel-item:first-child::after {align-self: flex-end;width: 50%;}#sk-container-id-6 div.sk-parallel-item:last-child::after {align-self: flex-start;width: 50%;}#sk-container-id-6 div.sk-parallel-item:only-child::after {width: 0;}#sk-container-id-6 div.sk-dashed-wrapped {border: 1px dashed gray;margin: 0 0.4em 0.5em 0.4em;box-sizing: border-box;padding-bottom: 0.4em;background-color: white;}#sk-container-id-6 div.sk-label label {font-family: monospace;font-weight: bold;display: inline-block;line-height: 1.2em;}#sk-container-id-6 div.sk-label-container {text-align: center;}#sk-container-id-6 div.sk-container {/* jupyter's `normalize.less` sets `[hidden] { display: none; }` but bootstrap.min.css set `[hidden] { display: none !important; }` so we also need the `!important` here to be able to override the default hidden behavior on the sphinx rendered scikit-learn.org. See: https://github.com/scikit-learn/scikit-learn/issues/21755 */display: inline-block !important;position: relative;}#sk-container-id-6 div.sk-text-repr-fallback {display: none;}</style><div id=\"sk-container-id-6\" class=\"sk-top-container\"><div class=\"sk-text-repr-fallback\"><pre>LogisticRegression(C=2, random_state=42)</pre><b>In a Jupyter environment, please rerun this cell to show the HTML representation or trust the notebook. <br />On GitHub, the HTML representation is unable to render, please try loading this page with nbviewer.org.</b></div><div class=\"sk-container\" hidden><div class=\"sk-item\"><div class=\"sk-estimator sk-toggleable\"><input class=\"sk-toggleable__control sk-hidden--visually\" id=\"sk-estimator-id-6\" type=\"checkbox\" checked><label for=\"sk-estimator-id-6\" class=\"sk-toggleable__label sk-toggleable__label-arrow\">LogisticRegression</label><div class=\"sk-toggleable__content\"><pre>LogisticRegression(C=2, random_state=42)</pre></div></div></div></div></div>"
            ]
          },
          "metadata": {},
          "execution_count": 172
        }
      ]
    },
    {
      "cell_type": "code",
      "source": [
        "# for the contour plot\n",
        "x0, x1 = np.meshgrid(np.linspace(2.9, 7, 500).reshape(-1, 1),\n",
        "                     np.linspace(0.8, 2.7, 200).reshape(-1, 1))\n",
        "X_new = np.c_[x0.ravel(), x1.ravel()]  # one instance per point on the figure\n",
        "y_proba = log_reg.predict_proba(X_new)\n",
        "zz = y_proba[:, 1].reshape(x0.shape)\n",
        "\n",
        "# for the decision boundary\n",
        "left_right = np.array([2.9, 7])\n",
        "boundary = -((log_reg.coef_[0, 0] * left_right + log_reg.intercept_[0])\n",
        "             / log_reg.coef_[0, 1])\n",
        "\n",
        "plt.figure(figsize=(10, 4))\n",
        "plt.plot(X_train[y_train == 0, 0], X_train[y_train == 0, 1], \"bs\")\n",
        "plt.plot(X_train[y_train == 1, 0], X_train[y_train == 1, 1], \"g^\")\n",
        "contour = plt.contour(x0, x1, zz, cmap=plt.cm.brg)\n",
        "plt.clabel(contour, inline=1)\n",
        "plt.plot(left_right, boundary, \"k--\", linewidth=3)\n",
        "plt.text(3.5, 1.27, \"Not Iris virginica\", color=\"b\", ha=\"center\")\n",
        "plt.text(6.5, 2.3, \"Iris virginica\", color=\"g\", ha=\"center\")\n",
        "plt.xlabel(\"Petal length\")\n",
        "plt.ylabel(\"Petal width\")\n",
        "plt.axis([2.9, 7, 0.8, 2.7])\n",
        "plt.grid()\n",
        "save_fig(\"logistic_regression_contour_plot\")\n",
        "plt.show()"
      ],
      "metadata": {
        "colab": {
          "base_uri": "https://localhost:8080/",
          "height": 286
        },
        "id": "vSPRd8ucjzc0",
        "outputId": "171f3a01-2cff-413a-cb19-1b3ebd44d36a"
      },
      "execution_count": 175,
      "outputs": [
        {
          "output_type": "display_data",
          "data": {
            "text/plain": [
              "<Figure size 720x288 with 1 Axes>"
            ],
            "image/png": "[encoded data removed]"
          },
          "metadata": {
            "needs_background": "light"
          }
        }
      ]
    },
    {
      "cell_type": "markdown",
      "source": [
        "# Reference\n",
        "\n",
        "*Hands-On Machine Learning with Scikit-Learn, Keras, and TensorFlow*, by Aurélien Géron."
      ],
      "metadata": {
        "id": "E_vYBbOBldDj"
      }
    }
  ]
}